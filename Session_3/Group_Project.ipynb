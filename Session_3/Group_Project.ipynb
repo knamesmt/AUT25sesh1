{
 "cells": [
  {
   "cell_type": "markdown",
   "id": "d6440183",
   "metadata": {},
   "source": [
    "### Group Prject - London Bike Rentals\n",
    "\n",
    "In this project, you will work with the London Bikes dataset, which records daily bike rentals in the city along with key variables such as dates, weather conditions, and seasonality.\n",
    "\n",
    "The goal is to apply the full data analytics workflow:\n",
    "\n",
    "- Clean and prepare the dataset.\n",
    "\n",
    "- Explore the data through visualisation.\n",
    "\n",
    "- Construct and interpret confidence intervals.\n",
    "\n",
    "- Build a regression model to explain variation in bike rentals.\n",
    "\n",
    "- By the end, you will connect statistical concepts with practical Python analysis."
   ]
  },
  {
   "cell_type": "code",
   "execution_count": 2,
   "id": "77f62329",
   "metadata": {},
   "outputs": [
    {
     "data": {
      "application/vnd.microsoft.datawrangler.viewer.v0+json": {
       "columns": [
        {
         "name": "index",
         "rawType": "int64",
         "type": "integer"
        },
        {
         "name": "date",
         "rawType": "object",
         "type": "string"
        },
        {
         "name": "bikes_hired",
         "rawType": "int64",
         "type": "integer"
        },
        {
         "name": "year",
         "rawType": "int64",
         "type": "integer"
        },
        {
         "name": "wday",
         "rawType": "object",
         "type": "string"
        },
        {
         "name": "month",
         "rawType": "object",
         "type": "string"
        },
        {
         "name": "week",
         "rawType": "int64",
         "type": "integer"
        },
        {
         "name": "cloud_cover",
         "rawType": "float64",
         "type": "float"
        },
        {
         "name": "humidity",
         "rawType": "float64",
         "type": "float"
        },
        {
         "name": "pressure",
         "rawType": "float64",
         "type": "float"
        },
        {
         "name": "radiation",
         "rawType": "float64",
         "type": "float"
        },
        {
         "name": "precipitation",
         "rawType": "float64",
         "type": "float"
        },
        {
         "name": "snow_depth",
         "rawType": "float64",
         "type": "float"
        },
        {
         "name": "sunshine",
         "rawType": "float64",
         "type": "float"
        },
        {
         "name": "mean_temp",
         "rawType": "float64",
         "type": "float"
        },
        {
         "name": "min_temp",
         "rawType": "float64",
         "type": "float"
        },
        {
         "name": "max_temp",
         "rawType": "float64",
         "type": "float"
        },
        {
         "name": "weekend",
         "rawType": "bool",
         "type": "boolean"
        }
       ],
       "ref": "0b7a4143-f3bf-42fb-b5f6-2124b59e62a9",
       "rows": [
        [
         "0",
         "2010-07-30T00:00:00Z",
         "6897",
         "2010",
         "Fri",
         "Jul",
         "30",
         "6.0",
         "65.0",
         "10147.0",
         "157.0",
         "22.0",
         null,
         "31.0",
         "17.7",
         "12.3",
         "25.1",
         "False"
        ],
        [
         "1",
         "2010-07-31T00:00:00Z",
         "5564",
         "2010",
         "Sat",
         "Jul",
         "30",
         "5.0",
         "70.0",
         "10116.0",
         "184.0",
         "0.0",
         null,
         "47.0",
         "21.1",
         "17.0",
         "23.9",
         "True"
        ],
        [
         "2",
         "2010-08-01T00:00:00Z",
         "4303",
         "2010",
         "Sun",
         "Aug",
         "30",
         "7.0",
         "63.0",
         "10132.0",
         "89.0",
         "0.0",
         null,
         "3.0",
         "19.3",
         "14.6",
         "23.4",
         "True"
        ],
        [
         "3",
         "2010-08-02T00:00:00Z",
         "6642",
         "2010",
         "Mon",
         "Aug",
         "31",
         "7.0",
         "59.0",
         "10168.0",
         "134.0",
         "0.0",
         null,
         "20.0",
         "19.5",
         "15.6",
         "23.6",
         "False"
        ],
        [
         "4",
         "2010-08-03T00:00:00Z",
         "7966",
         "2010",
         "Tue",
         "Aug",
         "31",
         "5.0",
         "66.0",
         "10157.0",
         "169.0",
         "0.0",
         null,
         "39.0",
         "17.9",
         "12.1",
         "20.1",
         "False"
        ]
       ],
       "shape": {
        "columns": 17,
        "rows": 5
       }
      },
      "text/html": [
       "<div>\n",
       "<style scoped>\n",
       "    .dataframe tbody tr th:only-of-type {\n",
       "        vertical-align: middle;\n",
       "    }\n",
       "\n",
       "    .dataframe tbody tr th {\n",
       "        vertical-align: top;\n",
       "    }\n",
       "\n",
       "    .dataframe thead th {\n",
       "        text-align: right;\n",
       "    }\n",
       "</style>\n",
       "<table border=\"1\" class=\"dataframe\">\n",
       "  <thead>\n",
       "    <tr style=\"text-align: right;\">\n",
       "      <th></th>\n",
       "      <th>date</th>\n",
       "      <th>bikes_hired</th>\n",
       "      <th>year</th>\n",
       "      <th>wday</th>\n",
       "      <th>month</th>\n",
       "      <th>week</th>\n",
       "      <th>cloud_cover</th>\n",
       "      <th>humidity</th>\n",
       "      <th>pressure</th>\n",
       "      <th>radiation</th>\n",
       "      <th>precipitation</th>\n",
       "      <th>snow_depth</th>\n",
       "      <th>sunshine</th>\n",
       "      <th>mean_temp</th>\n",
       "      <th>min_temp</th>\n",
       "      <th>max_temp</th>\n",
       "      <th>weekend</th>\n",
       "    </tr>\n",
       "  </thead>\n",
       "  <tbody>\n",
       "    <tr>\n",
       "      <th>0</th>\n",
       "      <td>2010-07-30T00:00:00Z</td>\n",
       "      <td>6897</td>\n",
       "      <td>2010</td>\n",
       "      <td>Fri</td>\n",
       "      <td>Jul</td>\n",
       "      <td>30</td>\n",
       "      <td>6.0</td>\n",
       "      <td>65.0</td>\n",
       "      <td>10147.0</td>\n",
       "      <td>157.0</td>\n",
       "      <td>22.0</td>\n",
       "      <td>NaN</td>\n",
       "      <td>31.0</td>\n",
       "      <td>17.7</td>\n",
       "      <td>12.3</td>\n",
       "      <td>25.1</td>\n",
       "      <td>False</td>\n",
       "    </tr>\n",
       "    <tr>\n",
       "      <th>1</th>\n",
       "      <td>2010-07-31T00:00:00Z</td>\n",
       "      <td>5564</td>\n",
       "      <td>2010</td>\n",
       "      <td>Sat</td>\n",
       "      <td>Jul</td>\n",
       "      <td>30</td>\n",
       "      <td>5.0</td>\n",
       "      <td>70.0</td>\n",
       "      <td>10116.0</td>\n",
       "      <td>184.0</td>\n",
       "      <td>0.0</td>\n",
       "      <td>NaN</td>\n",
       "      <td>47.0</td>\n",
       "      <td>21.1</td>\n",
       "      <td>17.0</td>\n",
       "      <td>23.9</td>\n",
       "      <td>True</td>\n",
       "    </tr>\n",
       "    <tr>\n",
       "      <th>2</th>\n",
       "      <td>2010-08-01T00:00:00Z</td>\n",
       "      <td>4303</td>\n",
       "      <td>2010</td>\n",
       "      <td>Sun</td>\n",
       "      <td>Aug</td>\n",
       "      <td>30</td>\n",
       "      <td>7.0</td>\n",
       "      <td>63.0</td>\n",
       "      <td>10132.0</td>\n",
       "      <td>89.0</td>\n",
       "      <td>0.0</td>\n",
       "      <td>NaN</td>\n",
       "      <td>3.0</td>\n",
       "      <td>19.3</td>\n",
       "      <td>14.6</td>\n",
       "      <td>23.4</td>\n",
       "      <td>True</td>\n",
       "    </tr>\n",
       "    <tr>\n",
       "      <th>3</th>\n",
       "      <td>2010-08-02T00:00:00Z</td>\n",
       "      <td>6642</td>\n",
       "      <td>2010</td>\n",
       "      <td>Mon</td>\n",
       "      <td>Aug</td>\n",
       "      <td>31</td>\n",
       "      <td>7.0</td>\n",
       "      <td>59.0</td>\n",
       "      <td>10168.0</td>\n",
       "      <td>134.0</td>\n",
       "      <td>0.0</td>\n",
       "      <td>NaN</td>\n",
       "      <td>20.0</td>\n",
       "      <td>19.5</td>\n",
       "      <td>15.6</td>\n",
       "      <td>23.6</td>\n",
       "      <td>False</td>\n",
       "    </tr>\n",
       "    <tr>\n",
       "      <th>4</th>\n",
       "      <td>2010-08-03T00:00:00Z</td>\n",
       "      <td>7966</td>\n",
       "      <td>2010</td>\n",
       "      <td>Tue</td>\n",
       "      <td>Aug</td>\n",
       "      <td>31</td>\n",
       "      <td>5.0</td>\n",
       "      <td>66.0</td>\n",
       "      <td>10157.0</td>\n",
       "      <td>169.0</td>\n",
       "      <td>0.0</td>\n",
       "      <td>NaN</td>\n",
       "      <td>39.0</td>\n",
       "      <td>17.9</td>\n",
       "      <td>12.1</td>\n",
       "      <td>20.1</td>\n",
       "      <td>False</td>\n",
       "    </tr>\n",
       "  </tbody>\n",
       "</table>\n",
       "</div>"
      ],
      "text/plain": [
       "                   date  bikes_hired  year wday month  week  cloud_cover  \\\n",
       "0  2010-07-30T00:00:00Z         6897  2010  Fri   Jul    30          6.0   \n",
       "1  2010-07-31T00:00:00Z         5564  2010  Sat   Jul    30          5.0   \n",
       "2  2010-08-01T00:00:00Z         4303  2010  Sun   Aug    30          7.0   \n",
       "3  2010-08-02T00:00:00Z         6642  2010  Mon   Aug    31          7.0   \n",
       "4  2010-08-03T00:00:00Z         7966  2010  Tue   Aug    31          5.0   \n",
       "\n",
       "   humidity  pressure  radiation  precipitation  snow_depth  sunshine  \\\n",
       "0      65.0   10147.0      157.0           22.0         NaN      31.0   \n",
       "1      70.0   10116.0      184.0            0.0         NaN      47.0   \n",
       "2      63.0   10132.0       89.0            0.0         NaN       3.0   \n",
       "3      59.0   10168.0      134.0            0.0         NaN      20.0   \n",
       "4      66.0   10157.0      169.0            0.0         NaN      39.0   \n",
       "\n",
       "   mean_temp  min_temp  max_temp  weekend  \n",
       "0       17.7      12.3      25.1    False  \n",
       "1       21.1      17.0      23.9     True  \n",
       "2       19.3      14.6      23.4     True  \n",
       "3       19.5      15.6      23.6    False  \n",
       "4       17.9      12.1      20.1    False  "
      ]
     },
     "execution_count": 2,
     "metadata": {},
     "output_type": "execute_result"
    }
   ],
   "source": [
    "## Import libraries and data\n",
    "\n",
    "## Import libraries\n",
    "import pandas as pd\n",
    "import numpy as np\n",
    "import matplotlib.pyplot as plt\n",
    "import seaborn as sns\n",
    "from scipy import stats\n",
    "import statsmodels.formula.api as smf\n",
    "\n",
    "bikes= pd.read_csv('../Data/london_bikes.csv')\n",
    "bikes.head()"
   ]
  },
  {
   "cell_type": "markdown",
   "id": "e8eebb78",
   "metadata": {},
   "source": [
    "**1. Data Cleaning**\n",
    "\n",
    "Check for missing values across columns. How would you handle them?\n",
    "\n",
    "Inspect the date column and ensure it is correctly formatted as datetime. Extract useful features (year, month, day, day of week, season).\n",
    "\n",
    "Convert categorical variables (e.g., season, weather) to appropriate categories in Python.\n",
    "\n",
    "Ensure numeric columns (e.g., bikes rented, temperature) are in the right format."
   ]
  },
  {
   "cell_type": "code",
   "execution_count": 3,
   "id": "2d309da5",
   "metadata": {},
   "outputs": [
    {
     "name": "stdout",
     "output_type": "stream",
     "text": [
      "<class 'pandas.core.frame.DataFrame'>\n",
      "RangeIndex: 4934 entries, 0 to 4933\n",
      "Data columns (total 17 columns):\n",
      " #   Column         Non-Null Count  Dtype  \n",
      "---  ------         --------------  -----  \n",
      " 0   date           4934 non-null   object \n",
      " 1   bikes_hired    4934 non-null   int64  \n",
      " 2   year           4934 non-null   int64  \n",
      " 3   wday           4934 non-null   object \n",
      " 4   month          4934 non-null   object \n",
      " 5   week           4934 non-null   int64  \n",
      " 6   cloud_cover    4901 non-null   float64\n",
      " 7   humidity       4851 non-null   float64\n",
      " 8   pressure       4903 non-null   float64\n",
      " 9   radiation      4894 non-null   float64\n",
      " 10  precipitation  4903 non-null   float64\n",
      " 11  snow_depth     4632 non-null   float64\n",
      " 12  sunshine       4903 non-null   float64\n",
      " 13  mean_temp      4903 non-null   float64\n",
      " 14  min_temp       4872 non-null   float64\n",
      " 15  max_temp       4903 non-null   float64\n",
      " 16  weekend        4934 non-null   bool   \n",
      "dtypes: bool(1), float64(10), int64(3), object(3)\n",
      "memory usage: 621.7+ KB\n",
      "<class 'pandas.core.frame.DataFrame'>\n",
      "RangeIndex: 4934 entries, 0 to 4933\n",
      "Data columns (total 17 columns):\n",
      " #   Column         Non-Null Count  Dtype              \n",
      "---  ------         --------------  -----              \n",
      " 0   date           4934 non-null   datetime64[ns, UTC]\n",
      " 1   bikes_hired    4934 non-null   int64              \n",
      " 2   year           4934 non-null   int64              \n",
      " 3   wday           4934 non-null   object             \n",
      " 4   month          4934 non-null   object             \n",
      " 5   week           4934 non-null   int64              \n",
      " 6   cloud_cover    4901 non-null   float64            \n",
      " 7   humidity       4851 non-null   float64            \n",
      " 8   pressure       4903 non-null   float64            \n",
      " 9   radiation      4894 non-null   float64            \n",
      " 10  precipitation  4903 non-null   float64            \n",
      " 11  snow_depth     4632 non-null   float64            \n",
      " 12  sunshine       4903 non-null   float64            \n",
      " 13  mean_temp      4903 non-null   float64            \n",
      " 14  min_temp       4872 non-null   float64            \n",
      " 15  max_temp       4903 non-null   float64            \n",
      " 16  weekend        4934 non-null   bool               \n",
      "dtypes: bool(1), datetime64[ns, UTC](1), float64(10), int64(3), object(2)\n",
      "memory usage: 621.7+ KB\n"
     ]
    }
   ],
   "source": [
    "## Your code goes here\n",
    "\n",
    "bikes.info()\n",
    "\n",
    "#convert date column to datetime format\n",
    "bikes[\"date\"] = pd.to_datetime(\n",
    "    bikes[\"date\"],\n",
    "    format=\"%Y-%m-%dT%H:%M:%SZ\",\n",
    "    errors=\"coerce\",\n",
    "    utc=True\n",
    ")\n",
    "\n",
    "bikes.info()\n"
   ]
  },
  {
   "cell_type": "code",
   "execution_count": 4,
   "id": "cdde5639",
   "metadata": {},
   "outputs": [],
   "source": [
    "#Convert Months into sorted category\n",
    "bikes[\"month\"] = pd.Categorical(\n",
    "    bikes[\"date\"].dt.month_name(),\n",
    "    categories=[\n",
    "        \"January\", \"February\", \"March\", \"April\", \"May\", \"June\",\n",
    "        \"July\", \"August\", \"September\", \"October\", \"November\", \"December\"\n",
    "    ],\n",
    "    ordered=True\n",
    ")"
   ]
  },
  {
   "cell_type": "code",
   "execution_count": 5,
   "id": "3bf4d5a0",
   "metadata": {},
   "outputs": [
    {
     "data": {
      "application/vnd.microsoft.datawrangler.viewer.v0+json": {
       "columns": [
        {
         "name": "index",
         "rawType": "object",
         "type": "string"
        },
        {
         "name": "0",
         "rawType": "int64",
         "type": "integer"
        }
       ],
       "ref": "b2273490-c78b-4097-82ea-6c8084e9ff75",
       "rows": [
        [
         "date",
         "0"
        ],
        [
         "bikes_hired",
         "0"
        ],
        [
         "year",
         "0"
        ],
        [
         "wday",
         "0"
        ],
        [
         "month",
         "0"
        ],
        [
         "week",
         "0"
        ],
        [
         "cloud_cover",
         "33"
        ],
        [
         "humidity",
         "83"
        ],
        [
         "pressure",
         "31"
        ],
        [
         "radiation",
         "40"
        ],
        [
         "precipitation",
         "31"
        ],
        [
         "snow_depth",
         "302"
        ],
        [
         "sunshine",
         "31"
        ],
        [
         "mean_temp",
         "31"
        ],
        [
         "min_temp",
         "62"
        ],
        [
         "max_temp",
         "31"
        ],
        [
         "weekend",
         "0"
        ]
       ],
       "shape": {
        "columns": 1,
        "rows": 17
       }
      },
      "text/plain": [
       "date               0\n",
       "bikes_hired        0\n",
       "year               0\n",
       "wday               0\n",
       "month              0\n",
       "week               0\n",
       "cloud_cover       33\n",
       "humidity          83\n",
       "pressure          31\n",
       "radiation         40\n",
       "precipitation     31\n",
       "snow_depth       302\n",
       "sunshine          31\n",
       "mean_temp         31\n",
       "min_temp          62\n",
       "max_temp          31\n",
       "weekend            0\n",
       "dtype: int64"
      ]
     },
     "execution_count": 5,
     "metadata": {},
     "output_type": "execute_result"
    }
   ],
   "source": [
    "bikes.isna().sum()"
   ]
  },
  {
   "cell_type": "code",
   "execution_count": 6,
   "id": "7664b077",
   "metadata": {},
   "outputs": [],
   "source": [
    "#We suggest dropping the na values in humidity, pressure, radiation, mean_temp, min_temp, max_temp completely\n",
    "#Then we want to substitute the other values with 0\n",
    "\n",
    "drop_na_subset = [\"humidity\", \"pressure\", \"radiation\", \n",
    "                \"mean_temp\", \"min_temp\", \"max_temp\"]\n",
    "fill_zero_subset = [\"cloud_cover\", \"precipitation\", \n",
    "                  \"snow_depth\", \"sunshine\"]\n",
    "\n",
    "bikes = bikes.dropna(subset=drop_na_subset)\n",
    "bikes[fill_zero_subset] = bikes[fill_zero_subset].fillna(0)"
   ]
  },
  {
   "cell_type": "code",
   "execution_count": 7,
   "id": "63922dc6",
   "metadata": {},
   "outputs": [
    {
     "data": {
      "application/vnd.microsoft.datawrangler.viewer.v0+json": {
       "columns": [
        {
         "name": "index",
         "rawType": "int64",
         "type": "integer"
        },
        {
         "name": "date",
         "rawType": "datetime64[ns, UTC]",
         "type": "unknown"
        },
        {
         "name": "bikes_hired",
         "rawType": "int64",
         "type": "integer"
        },
        {
         "name": "year",
         "rawType": "int64",
         "type": "integer"
        },
        {
         "name": "wday",
         "rawType": "object",
         "type": "string"
        },
        {
         "name": "month",
         "rawType": "category",
         "type": "unknown"
        },
        {
         "name": "week",
         "rawType": "int64",
         "type": "integer"
        },
        {
         "name": "cloud_cover",
         "rawType": "float64",
         "type": "float"
        },
        {
         "name": "humidity",
         "rawType": "float64",
         "type": "float"
        },
        {
         "name": "pressure",
         "rawType": "float64",
         "type": "float"
        },
        {
         "name": "radiation",
         "rawType": "float64",
         "type": "float"
        },
        {
         "name": "precipitation",
         "rawType": "float64",
         "type": "float"
        },
        {
         "name": "snow_depth",
         "rawType": "float64",
         "type": "float"
        },
        {
         "name": "sunshine",
         "rawType": "float64",
         "type": "float"
        },
        {
         "name": "mean_temp",
         "rawType": "float64",
         "type": "float"
        },
        {
         "name": "min_temp",
         "rawType": "float64",
         "type": "float"
        },
        {
         "name": "max_temp",
         "rawType": "float64",
         "type": "float"
        },
        {
         "name": "weekend",
         "rawType": "bool",
         "type": "boolean"
        },
        {
         "name": "season",
         "rawType": "category",
         "type": "unknown"
        }
       ],
       "ref": "c1557247-66b9-442c-a06a-51e0c49fe889",
       "rows": [
        [
         "0",
         "2010-07-30 00:00:00+00:00",
         "6897",
         "2010",
         "Fri",
         "July",
         "30",
         "6.0",
         "65.0",
         "10147.0",
         "157.0",
         "22.0",
         "0.0",
         "31.0",
         "17.7",
         "12.3",
         "25.1",
         "False",
         "Summer"
        ],
        [
         "1",
         "2010-07-31 00:00:00+00:00",
         "5564",
         "2010",
         "Sat",
         "July",
         "30",
         "5.0",
         "70.0",
         "10116.0",
         "184.0",
         "0.0",
         "0.0",
         "47.0",
         "21.1",
         "17.0",
         "23.9",
         "True",
         "Summer"
        ],
        [
         "2",
         "2010-08-01 00:00:00+00:00",
         "4303",
         "2010",
         "Sun",
         "August",
         "30",
         "7.0",
         "63.0",
         "10132.0",
         "89.0",
         "0.0",
         "0.0",
         "3.0",
         "19.3",
         "14.6",
         "23.4",
         "True",
         "Summer"
        ],
        [
         "3",
         "2010-08-02 00:00:00+00:00",
         "6642",
         "2010",
         "Mon",
         "August",
         "31",
         "7.0",
         "59.0",
         "10168.0",
         "134.0",
         "0.0",
         "0.0",
         "20.0",
         "19.5",
         "15.6",
         "23.6",
         "False",
         "Summer"
        ],
        [
         "4",
         "2010-08-03 00:00:00+00:00",
         "7966",
         "2010",
         "Tue",
         "August",
         "31",
         "5.0",
         "66.0",
         "10157.0",
         "169.0",
         "0.0",
         "0.0",
         "39.0",
         "17.9",
         "12.1",
         "20.1",
         "False",
         "Summer"
        ]
       ],
       "shape": {
        "columns": 18,
        "rows": 5
       }
      },
      "text/html": [
       "<div>\n",
       "<style scoped>\n",
       "    .dataframe tbody tr th:only-of-type {\n",
       "        vertical-align: middle;\n",
       "    }\n",
       "\n",
       "    .dataframe tbody tr th {\n",
       "        vertical-align: top;\n",
       "    }\n",
       "\n",
       "    .dataframe thead th {\n",
       "        text-align: right;\n",
       "    }\n",
       "</style>\n",
       "<table border=\"1\" class=\"dataframe\">\n",
       "  <thead>\n",
       "    <tr style=\"text-align: right;\">\n",
       "      <th></th>\n",
       "      <th>date</th>\n",
       "      <th>bikes_hired</th>\n",
       "      <th>year</th>\n",
       "      <th>wday</th>\n",
       "      <th>month</th>\n",
       "      <th>week</th>\n",
       "      <th>cloud_cover</th>\n",
       "      <th>humidity</th>\n",
       "      <th>pressure</th>\n",
       "      <th>radiation</th>\n",
       "      <th>precipitation</th>\n",
       "      <th>snow_depth</th>\n",
       "      <th>sunshine</th>\n",
       "      <th>mean_temp</th>\n",
       "      <th>min_temp</th>\n",
       "      <th>max_temp</th>\n",
       "      <th>weekend</th>\n",
       "      <th>season</th>\n",
       "    </tr>\n",
       "  </thead>\n",
       "  <tbody>\n",
       "    <tr>\n",
       "      <th>0</th>\n",
       "      <td>2010-07-30 00:00:00+00:00</td>\n",
       "      <td>6897</td>\n",
       "      <td>2010</td>\n",
       "      <td>Fri</td>\n",
       "      <td>July</td>\n",
       "      <td>30</td>\n",
       "      <td>6.0</td>\n",
       "      <td>65.0</td>\n",
       "      <td>10147.0</td>\n",
       "      <td>157.0</td>\n",
       "      <td>22.0</td>\n",
       "      <td>0.0</td>\n",
       "      <td>31.0</td>\n",
       "      <td>17.7</td>\n",
       "      <td>12.3</td>\n",
       "      <td>25.1</td>\n",
       "      <td>False</td>\n",
       "      <td>Summer</td>\n",
       "    </tr>\n",
       "    <tr>\n",
       "      <th>1</th>\n",
       "      <td>2010-07-31 00:00:00+00:00</td>\n",
       "      <td>5564</td>\n",
       "      <td>2010</td>\n",
       "      <td>Sat</td>\n",
       "      <td>July</td>\n",
       "      <td>30</td>\n",
       "      <td>5.0</td>\n",
       "      <td>70.0</td>\n",
       "      <td>10116.0</td>\n",
       "      <td>184.0</td>\n",
       "      <td>0.0</td>\n",
       "      <td>0.0</td>\n",
       "      <td>47.0</td>\n",
       "      <td>21.1</td>\n",
       "      <td>17.0</td>\n",
       "      <td>23.9</td>\n",
       "      <td>True</td>\n",
       "      <td>Summer</td>\n",
       "    </tr>\n",
       "    <tr>\n",
       "      <th>2</th>\n",
       "      <td>2010-08-01 00:00:00+00:00</td>\n",
       "      <td>4303</td>\n",
       "      <td>2010</td>\n",
       "      <td>Sun</td>\n",
       "      <td>August</td>\n",
       "      <td>30</td>\n",
       "      <td>7.0</td>\n",
       "      <td>63.0</td>\n",
       "      <td>10132.0</td>\n",
       "      <td>89.0</td>\n",
       "      <td>0.0</td>\n",
       "      <td>0.0</td>\n",
       "      <td>3.0</td>\n",
       "      <td>19.3</td>\n",
       "      <td>14.6</td>\n",
       "      <td>23.4</td>\n",
       "      <td>True</td>\n",
       "      <td>Summer</td>\n",
       "    </tr>\n",
       "    <tr>\n",
       "      <th>3</th>\n",
       "      <td>2010-08-02 00:00:00+00:00</td>\n",
       "      <td>6642</td>\n",
       "      <td>2010</td>\n",
       "      <td>Mon</td>\n",
       "      <td>August</td>\n",
       "      <td>31</td>\n",
       "      <td>7.0</td>\n",
       "      <td>59.0</td>\n",
       "      <td>10168.0</td>\n",
       "      <td>134.0</td>\n",
       "      <td>0.0</td>\n",
       "      <td>0.0</td>\n",
       "      <td>20.0</td>\n",
       "      <td>19.5</td>\n",
       "      <td>15.6</td>\n",
       "      <td>23.6</td>\n",
       "      <td>False</td>\n",
       "      <td>Summer</td>\n",
       "    </tr>\n",
       "    <tr>\n",
       "      <th>4</th>\n",
       "      <td>2010-08-03 00:00:00+00:00</td>\n",
       "      <td>7966</td>\n",
       "      <td>2010</td>\n",
       "      <td>Tue</td>\n",
       "      <td>August</td>\n",
       "      <td>31</td>\n",
       "      <td>5.0</td>\n",
       "      <td>66.0</td>\n",
       "      <td>10157.0</td>\n",
       "      <td>169.0</td>\n",
       "      <td>0.0</td>\n",
       "      <td>0.0</td>\n",
       "      <td>39.0</td>\n",
       "      <td>17.9</td>\n",
       "      <td>12.1</td>\n",
       "      <td>20.1</td>\n",
       "      <td>False</td>\n",
       "      <td>Summer</td>\n",
       "    </tr>\n",
       "  </tbody>\n",
       "</table>\n",
       "</div>"
      ],
      "text/plain": [
       "                       date  bikes_hired  year wday   month  week  \\\n",
       "0 2010-07-30 00:00:00+00:00         6897  2010  Fri    July    30   \n",
       "1 2010-07-31 00:00:00+00:00         5564  2010  Sat    July    30   \n",
       "2 2010-08-01 00:00:00+00:00         4303  2010  Sun  August    30   \n",
       "3 2010-08-02 00:00:00+00:00         6642  2010  Mon  August    31   \n",
       "4 2010-08-03 00:00:00+00:00         7966  2010  Tue  August    31   \n",
       "\n",
       "   cloud_cover  humidity  pressure  radiation  precipitation  snow_depth  \\\n",
       "0          6.0      65.0   10147.0      157.0           22.0         0.0   \n",
       "1          5.0      70.0   10116.0      184.0            0.0         0.0   \n",
       "2          7.0      63.0   10132.0       89.0            0.0         0.0   \n",
       "3          7.0      59.0   10168.0      134.0            0.0         0.0   \n",
       "4          5.0      66.0   10157.0      169.0            0.0         0.0   \n",
       "\n",
       "   sunshine  mean_temp  min_temp  max_temp  weekend  season  \n",
       "0      31.0       17.7      12.3      25.1    False  Summer  \n",
       "1      47.0       21.1      17.0      23.9     True  Summer  \n",
       "2       3.0       19.3      14.6      23.4     True  Summer  \n",
       "3      20.0       19.5      15.6      23.6    False  Summer  \n",
       "4      39.0       17.9      12.1      20.1    False  Summer  "
      ]
     },
     "execution_count": 7,
     "metadata": {},
     "output_type": "execute_result"
    }
   ],
   "source": [
    "#Extract season based on month (northern hemisphere in London)\n",
    "conditions = [\n",
    "    bikes[\"date\"].dt.month.isin([12, 1, 2]),\n",
    "    bikes[\"date\"].dt.month.isin([3, 4, 5]),\n",
    "    bikes[\"date\"].dt.month.isin([6, 7, 8]),\n",
    "    bikes[\"date\"].dt.month.isin([9, 10, 11]),\n",
    "]\n",
    "choices = [\"Winter\", \"Spring\", \"Summer\", \"Autumn\"]\n",
    "bikes[\"season\"] = np.select(conditions, choices, default = 'Unknown')\n",
    "bikes[\"season\"] = pd.Categorical(\n",
    "    bikes[\"season\"],\n",
    "    categories=[\"Winter\", \"Spring\", \"Summer\", \"Autumn\"],\n",
    "    ordered=True\n",
    ")\n",
    "bikes.head()"
   ]
  },
  {
   "cell_type": "markdown",
   "id": "44a915a8",
   "metadata": {},
   "source": [
    "**2. Exploratory Data Analysis (EDA)**\n",
    "\n",
    "Plot the distribution of bikes rented.\n",
    "\n",
    "Explore how rentals vary by season and month.\n",
    "\n",
    "Investigate the relationship between temperature and bikes rented.\n",
    "\n",
    "**Deliverables:**\n",
    "\n",
    "At least 3 clear visualisations with captions.\n",
    "\n",
    "A short written interpretation of key patterns (seasonality, weather effects, etc.).\n",
    "\n"
   ]
  },
  {
   "cell_type": "code",
   "execution_count": 8,
   "id": "5aacf6e9",
   "metadata": {},
   "outputs": [
    {
     "data": {
      "image/png": "[encoded data removed]",
      "text/plain": [
       "<Figure size 640x480 with 1 Axes>"
      ]
     },
     "metadata": {},
     "output_type": "display_data"
    }
   ],
   "source": [
    "## Your code goes here\n",
    "sns.histplot(bikes[\"bikes_hired\"], bins=30, kde=True)\n",
    "plt.title(\"Distribution of Bikes Hired\")\n",
    "plt.xlabel(\"Bikes hired\")\n",
    "plt.ylabel(\"Frequency\")\n",
    "plt.show()"
   ]
  },
  {
   "cell_type": "code",
   "execution_count": 9,
   "id": "61754bf9",
   "metadata": {},
   "outputs": [
    {
     "data": {
      "image/png": "[encoded data removed]",
      "text/plain": [
       "<Figure size 600x600 with 4 Axes>"
      ]
     },
     "metadata": {},
     "output_type": "display_data"
    }
   ],
   "source": [
    "#rentals vary by season\n",
    "\n",
    "g = sns.FacetGrid(bikes, col=\"season\", col_wrap=2, sharex=True, sharey=True)\n",
    "g.map_dataframe(sns.kdeplot, x=\"bikes_hired\", fill=True, alpha=0.3, linewidth=0)\n",
    "\n",
    "# add titles and tidy style\n",
    "g.fig.suptitle(\"Distribution of Bikes Hired by Season\", y=1.03)\n",
    "g.set_axis_labels(\"Bikes Hired\", \"Density\")\n",
    "g.set_titles(\"{col_name}\")\n",
    "plt.tight_layout()\n",
    "plt.show()"
   ]
  },
  {
   "cell_type": "code",
   "execution_count": 10,
   "id": "4c587dd1",
   "metadata": {},
   "outputs": [
    {
     "data": {
      "image/png": "[encoded data removed]",
      "text/plain": [
       "<Figure size 1500x600 with 1 Axes>"
      ]
     },
     "metadata": {},
     "output_type": "display_data"
    }
   ],
   "source": [
    "#Distribution of bikes hired by month\n",
    "plt.figure(figsize=(15, 6))\n",
    "sns.boxplot(x=\"month\", y=\"bikes_hired\", data=bikes)\n",
    "plt.title(\"Distribution of Bikes Hired\")\n",
    "plt.xlabel(\"Bikes hired\")\n",
    "plt.ylabel(\"Frequency\")\n",
    "plt.show()\n"
   ]
  },
  {
   "cell_type": "markdown",
   "id": "8367a791",
   "metadata": {},
   "source": [
    "**3. Construct 95% confidence intervals for the mean number of bikes rented per season.**\n",
    "\n",
    "Repeat the calculation per month.\n",
    "\n",
    "Interpret the result:\n",
    "\n",
    "What range of values do you expect the true mean to lie in?\n",
    "\n",
    "Which seasons/months have higher or lower average demand?\n",
    "\n",
    "Are there overlaps in the intervals, and what does that mean?\n",
    "\n",
    "**Deliverables:**\n",
    "\n",
    "A table or plot showing the mean and confidence intervals.\n",
    "\n",
    "A short interpretation."
   ]
  },
  {
   "cell_type": "code",
   "execution_count": 11,
   "id": "732fdf58",
   "metadata": {},
   "outputs": [
    {
     "name": "stderr",
     "output_type": "stream",
     "text": [
      "/tmp/ipykernel_43876/3383890758.py:7: FutureWarning: The default of observed=False is deprecated and will be changed to True in a future version of pandas. Pass observed=False to retain current behavior or observed=True to adopt the future default and silence this warning.\n",
      "  .groupby('season')\n"
     ]
    },
    {
     "data": {
      "application/vnd.microsoft.datawrangler.viewer.v0+json": {
       "columns": [
        {
         "name": "index",
         "rawType": "int64",
         "type": "integer"
        },
        {
         "name": "season",
         "rawType": "category",
         "type": "unknown"
        },
        {
         "name": "mean_hired",
         "rawType": "float64",
         "type": "float"
        },
        {
         "name": "median_hired",
         "rawType": "float64",
         "type": "float"
        },
        {
         "name": "sd_hired",
         "rawType": "float64",
         "type": "float"
        },
        {
         "name": "count",
         "rawType": "int64",
         "type": "integer"
        },
        {
         "name": "t_critical",
         "rawType": "float64",
         "type": "float"
        },
        {
         "name": "se_hired",
         "rawType": "float64",
         "type": "float"
        },
        {
         "name": "margin_of_error",
         "rawType": "float64",
         "type": "float"
        },
        {
         "name": "hired_low",
         "rawType": "float64",
         "type": "float"
        },
        {
         "name": "hired_high",
         "rawType": "float64",
         "type": "float"
        }
       ],
       "ref": "4f066287-7321-465b-bd6d-98fe782cc1ed",
       "rows": [
        [
         "2",
         "Summer",
         "33595.45798319328",
         "34738.0",
         "9156.356507127579",
         "1190",
         "1.9619611644235984",
         "265.4295147470196",
         "520.7623998254533",
         "33074.69558336782",
         "34116.220383018735"
        ],
        [
         "3",
         "Autumn",
         "27090.99211356467",
         "27359.5",
         "7817.950352302469",
         "1268",
         "1.9618380970304774",
         "219.54991907209467",
         "430.72139543559354",
         "26660.270718129075",
         "27521.713509000263"
        ],
        [
         "1",
         "Spring",
         "26585.56218487395",
         "26425.5",
         "8655.554728182578",
         "1190",
         "1.9619611644235984",
         "250.911996445243",
         "492.2795927135587",
         "26093.28259216039",
         "27077.84177758751"
        ],
        [
         "0",
         "Winter",
         "18578.608877721945",
         "18678.0",
         "6675.942160503055",
         "1194",
         "1.9619544614136373",
         "193.2014590894436",
         "379.0524646121582",
         "18199.556413109785",
         "18957.661342334104"
        ]
       ],
       "shape": {
        "columns": 10,
        "rows": 4
       }
      },
      "text/html": [
       "<div>\n",
       "<style scoped>\n",
       "    .dataframe tbody tr th:only-of-type {\n",
       "        vertical-align: middle;\n",
       "    }\n",
       "\n",
       "    .dataframe tbody tr th {\n",
       "        vertical-align: top;\n",
       "    }\n",
       "\n",
       "    .dataframe thead th {\n",
       "        text-align: right;\n",
       "    }\n",
       "</style>\n",
       "<table border=\"1\" class=\"dataframe\">\n",
       "  <thead>\n",
       "    <tr style=\"text-align: right;\">\n",
       "      <th></th>\n",
       "      <th>season</th>\n",
       "      <th>mean_hired</th>\n",
       "      <th>median_hired</th>\n",
       "      <th>sd_hired</th>\n",
       "      <th>count</th>\n",
       "      <th>t_critical</th>\n",
       "      <th>se_hired</th>\n",
       "      <th>margin_of_error</th>\n",
       "      <th>hired_low</th>\n",
       "      <th>hired_high</th>\n",
       "    </tr>\n",
       "  </thead>\n",
       "  <tbody>\n",
       "    <tr>\n",
       "      <th>2</th>\n",
       "      <td>Summer</td>\n",
       "      <td>33595.457983</td>\n",
       "      <td>34738.0</td>\n",
       "      <td>9156.356507</td>\n",
       "      <td>1190</td>\n",
       "      <td>1.961961</td>\n",
       "      <td>265.429515</td>\n",
       "      <td>520.762400</td>\n",
       "      <td>33074.695583</td>\n",
       "      <td>34116.220383</td>\n",
       "    </tr>\n",
       "    <tr>\n",
       "      <th>3</th>\n",
       "      <td>Autumn</td>\n",
       "      <td>27090.992114</td>\n",
       "      <td>27359.5</td>\n",
       "      <td>7817.950352</td>\n",
       "      <td>1268</td>\n",
       "      <td>1.961838</td>\n",
       "      <td>219.549919</td>\n",
       "      <td>430.721395</td>\n",
       "      <td>26660.270718</td>\n",
       "      <td>27521.713509</td>\n",
       "    </tr>\n",
       "    <tr>\n",
       "      <th>1</th>\n",
       "      <td>Spring</td>\n",
       "      <td>26585.562185</td>\n",
       "      <td>26425.5</td>\n",
       "      <td>8655.554728</td>\n",
       "      <td>1190</td>\n",
       "      <td>1.961961</td>\n",
       "      <td>250.911996</td>\n",
       "      <td>492.279593</td>\n",
       "      <td>26093.282592</td>\n",
       "      <td>27077.841778</td>\n",
       "    </tr>\n",
       "    <tr>\n",
       "      <th>0</th>\n",
       "      <td>Winter</td>\n",
       "      <td>18578.608878</td>\n",
       "      <td>18678.0</td>\n",
       "      <td>6675.942161</td>\n",
       "      <td>1194</td>\n",
       "      <td>1.961954</td>\n",
       "      <td>193.201459</td>\n",
       "      <td>379.052465</td>\n",
       "      <td>18199.556413</td>\n",
       "      <td>18957.661342</td>\n",
       "    </tr>\n",
       "  </tbody>\n",
       "</table>\n",
       "</div>"
      ],
      "text/plain": [
       "   season    mean_hired  median_hired     sd_hired  count  t_critical  \\\n",
       "2  Summer  33595.457983       34738.0  9156.356507   1190    1.961961   \n",
       "3  Autumn  27090.992114       27359.5  7817.950352   1268    1.961838   \n",
       "1  Spring  26585.562185       26425.5  8655.554728   1190    1.961961   \n",
       "0  Winter  18578.608878       18678.0  6675.942161   1194    1.961954   \n",
       "\n",
       "     se_hired  margin_of_error     hired_low    hired_high  \n",
       "2  265.429515       520.762400  33074.695583  34116.220383  \n",
       "3  219.549919       430.721395  26660.270718  27521.713509  \n",
       "1  250.911996       492.279593  26093.282592  27077.841778  \n",
       "0  193.201459       379.052465  18199.556413  18957.661342  "
      ]
     },
     "execution_count": 11,
     "metadata": {},
     "output_type": "execute_result"
    }
   ],
   "source": [
    "## Your code goes here\n",
    "# Confidence Interval (CI) using the formula mean +- t_critical * SE\n",
    "\n",
    "# Observed statistics\n",
    "month_formula_ci = (\n",
    "    bikes\n",
    "    .groupby('season')\n",
    "    .agg(\n",
    "        mean_hired=('bikes_hired', 'mean'),\n",
    "        median_hired=('bikes_hired', 'median'),\n",
    "        sd_hired=('bikes_hired', 'std'),\n",
    "        count=('bikes_hired', 'size')\n",
    "    )\n",
    "    .reset_index()\n",
    ")\n",
    "\n",
    "# Calculate additional statistics for confidence intervals\n",
    "month_formula_ci['t_critical'] = month_formula_ci['count'].apply(lambda n: stats.t.ppf(0.975, df=n-1))  # t-critical value\n",
    "month_formula_ci['se_hired'] = month_formula_ci['sd_hired'] / np.sqrt(month_formula_ci['count'])  # Standard error\n",
    "month_formula_ci['margin_of_error'] = month_formula_ci['t_critical'] * month_formula_ci['se_hired']  # Margin of error\n",
    "month_formula_ci['hired_low'] = month_formula_ci['mean_hired'] - month_formula_ci['margin_of_error']  # Lower bound\n",
    "month_formula_ci['hired_high'] = month_formula_ci['mean_hired'] + month_formula_ci['margin_of_error']  # Upper bound\n",
    "\n",
    "# Sort by mean hired in descending order\n",
    "month_formula_ci = month_formula_ci.sort_values(by='mean_hired', ascending=False)\n",
    "\n",
    "# Display the result\n",
    "month_formula_ci"
   ]
  },
  {
   "cell_type": "code",
   "execution_count": null,
   "id": "2fc9e0a4",
   "metadata": {},
   "outputs": [],
   "source": []
  },
  {
   "cell_type": "markdown",
   "id": "022fa6bf",
   "metadata": {},
   "source": [
    "**Regression Analysis**\n",
    "\n",
    "What variables influence the number of bikes rented (y) and how? Build a regression model that best explains the variability in bikes rented.\n",
    "\n",
    "**Interpret:**\n",
    "\n",
    "Which predictors are significant?\n",
    "\n",
    "What do the coefficients mean (in practical terms)?\n",
    "\n",
    "How much of the variation in bike rentals is explained (R²)?\n",
    "\n",
    "**Deliverables:**\n",
    "\n",
    "Regression output table.\n",
    "\n",
    "A short discussion of which factors matter most for predicting bike rentals."
   ]
  },
  {
   "cell_type": "code",
   "execution_count": 12,
   "id": "62173ad7",
   "metadata": {},
   "outputs": [
    {
     "name": "stdout",
     "output_type": "stream",
     "text": [
      "<class 'pandas.core.frame.DataFrame'>\n",
      "Index: 4842 entries, 0 to 4902\n",
      "Data columns (total 18 columns):\n",
      " #   Column         Non-Null Count  Dtype              \n",
      "---  ------         --------------  -----              \n",
      " 0   date           4842 non-null   datetime64[ns, UTC]\n",
      " 1   bikes_hired    4842 non-null   int64              \n",
      " 2   year           4842 non-null   int64              \n",
      " 3   wday           4842 non-null   object             \n",
      " 4   month          4842 non-null   category           \n",
      " 5   week           4842 non-null   int64              \n",
      " 6   cloud_cover    4842 non-null   float64            \n",
      " 7   humidity       4842 non-null   float64            \n",
      " 8   pressure       4842 non-null   float64            \n",
      " 9   radiation      4842 non-null   float64            \n",
      " 10  precipitation  4842 non-null   float64            \n",
      " 11  snow_depth     4842 non-null   float64            \n",
      " 12  sunshine       4842 non-null   float64            \n",
      " 13  mean_temp      4842 non-null   float64            \n",
      " 14  min_temp       4842 non-null   float64            \n",
      " 15  max_temp       4842 non-null   float64            \n",
      " 16  weekend        4842 non-null   bool               \n",
      " 17  season         4842 non-null   category           \n",
      "dtypes: bool(1), category(2), datetime64[ns, UTC](1), float64(10), int64(3), object(1)\n",
      "memory usage: 620.0+ KB\n"
     ]
    }
   ],
   "source": [
    "bikes.info()"
   ]
  },
  {
   "cell_type": "code",
   "execution_count": 14,
   "id": "fba598cb",
   "metadata": {},
   "outputs": [
    {
     "name": "stdout",
     "output_type": "stream",
     "text": [
      "                            OLS Regression Results                            \n",
      "==============================================================================\n",
      "Dep. Variable:            bikes_hired   R-squared:                       0.581\n",
      "Model:                            OLS   Adj. R-squared:                  0.579\n",
      "Method:                 Least Squares   F-statistic:                     392.8\n",
      "Date:                Sun, 21 Sep 2025   Prob (F-statistic):               0.00\n",
      "Time:                        19:23:06   Log-Likelihood:                -49211.\n",
      "No. Observations:                4842   AIC:                         9.846e+04\n",
      "Df Residuals:                    4824   BIC:                         9.857e+04\n",
      "Df Model:                          17                                         \n",
      "Covariance Type:            nonrobust                                         \n",
      "======================================================================================\n",
      "                         coef    std err          t      P>|t|      [0.025      0.975]\n",
      "--------------------------------------------------------------------------------------\n",
      "Intercept          -7.502e+04   9790.597     -7.662      0.000   -9.42e+04   -5.58e+04\n",
      "weekend[T.True]    -4299.0695    199.814    -21.515      0.000   -4690.796   -3907.343\n",
      "month[T.February]    115.4768    459.706      0.251      0.802    -785.757    1016.710\n",
      "month[T.March]       332.5965    459.801      0.723      0.470    -568.824    1234.017\n",
      "month[T.April]       404.2492    496.245      0.815      0.415    -568.618    1377.116\n",
      "month[T.May]        2449.8842    529.627      4.626      0.000    1411.575    3488.194\n",
      "month[T.June]       3435.0520    583.749      5.884      0.000    2290.638    4579.466\n",
      "month[T.July]       3479.1922    637.190      5.460      0.000    2230.008    4728.376\n",
      "month[T.August]      834.6589    600.231      1.391      0.164    -342.068    2011.386\n",
      "month[T.September]  1881.1389    551.931      3.408      0.001     799.102    2963.176\n",
      "month[T.October]    3091.4785    491.004      6.296      0.000    2128.887    4054.070\n",
      "month[T.November]   2853.6314    451.413      6.322      0.000    1968.656    3738.607\n",
      "month[T.December]  -1831.2940    438.311     -4.178      0.000   -2690.583    -972.005\n",
      "mean_temp            681.4261     30.818     22.111      0.000     621.008     741.844\n",
      "sunshine              46.4605      3.547     13.097      0.000      39.506      53.415\n",
      "precipitation        -29.8364      2.614    -11.414      0.000     -34.961     -24.712\n",
      "pressure               9.7563      0.943     10.344      0.000       7.907      11.605\n",
      "humidity             -97.4820     14.292     -6.821      0.000    -125.501     -69.463\n",
      "==============================================================================\n",
      "Omnibus:                      223.292   Durbin-Watson:                   0.669\n",
      "Prob(Omnibus):                  0.000   Jarque-Bera (JB):              778.130\n",
      "Skew:                           0.033   Prob(JB):                    1.07e-169\n",
      "Kurtosis:                       4.963   Cond. No.                     1.10e+06\n",
      "==============================================================================\n",
      "\n",
      "Notes:\n",
      "[1] Standard Errors assume that the covariance matrix of the errors is correctly specified.\n",
      "[2] The condition number is large, 1.1e+06. This might indicate that there are\n",
      "strong multicollinearity or other numerical problems.\n"
     ]
    }
   ],
   "source": [
    "### Your code goes here\n",
    "\n",
    "# Multiple linear regression model with several predictors\n",
    "model_clean = smf.ols('bikes_hired ~ mean_temp + sunshine + precipitation + weekend + month + pressure +humidity', data=bikes).fit()\n",
    "print(model_clean.summary())"
   ]
  },
  {
   "cell_type": "markdown",
   "id": "225d1c3b",
   "metadata": {},
   "source": [
    "## Deliverables\n",
    "A knitted HTML, one person per group to submit"
   ]
  },
  {
   "cell_type": "markdown",
   "id": "5a4efb13",
   "metadata": {},
   "source": []
  }
 ],
 "metadata": {
  "kernelspec": {
   "display_name": "Python 3",
   "language": "python",
   "name": "python3"
  },
  "language_info": {
   "codemirror_mode": {
    "name": "ipython",
    "version": 3
   },
   "file_extension": ".py",
   "mimetype": "text/x-python",
   "name": "python",
   "nbconvert_exporter": "python",
   "pygments_lexer": "ipython3",
   "version": "3.12.1"
  }
 },
 "nbformat": 4,
 "nbformat_minor": 5
}
