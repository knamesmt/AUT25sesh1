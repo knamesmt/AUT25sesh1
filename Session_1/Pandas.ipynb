{
 "cells": [
  {
   "cell_type": "markdown",
   "id": "2af4cf76",
   "metadata": {},
   "source": [
    "# Pandas for Data Analysis"
   ]
  },
  {
   "cell_type": "markdown",
   "id": "ab3d3445",
   "metadata": {},
   "source": [
    "[**Pandas**](https://pandas.pydata.org/) is a fast, powerful, flexible and easy to use open source data analysis and manipulation tool,\n",
    "built on top of the Python programming language.\n",
    "\n",
    "We will first introduce some core aspects of pandas using toy data, and then analyse a real data set. First, we should import the pandas package - by convention we give it a shorthand name using `as`. When we want to use the package, we can type `pd.` instead of `pandas.`. \n",
    "\n",
    "#### Useful links\n",
    "* [Data Wrangling cheat sheet](https://pandas.pydata.org/Pandas_Cheat_Sheet.pdf)\n",
    "* [Python For Data Science cheat sheet](https://www.utc.fr/~jlaforet/Suppl/python-cheatsheets.pdf)"
   ]
  },
  {
   "cell_type": "code",
   "execution_count": 2,
   "id": "a86235d0",
   "metadata": {},
   "outputs": [],
   "source": [
    "import pandas as pd"
   ]
  },
  {
   "cell_type": "markdown",
   "id": "9ed9c198",
   "metadata": {},
   "source": [
    "### Creating and Reading Data\n",
    "\n",
    "Two core objects in pandas: **Series** and **DataFrame**.\n",
    "\n",
    "[**Series**](https://pandas.pydata.org/pandas-docs/stable/reference/api/pandas.Series.html) is a one-dimensional (1d) *list* of values. It has a corresponding list of *index* and (possibly) a *name*."
   ]
  },
  {
   "cell_type": "code",
   "execution_count": 3,
   "id": "33bc6056",
   "metadata": {},
   "outputs": [
    {
     "data": {
      "application/vnd.microsoft.datawrangler.viewer.v0+json": {
       "columns": [
        {
         "name": "index",
         "rawType": "int64",
         "type": "integer"
        },
        {
         "name": "sales",
         "rawType": "int64",
         "type": "integer"
        }
       ],
       "ref": "e0790422-ffec-49be-8c62-1a0094ee9b17",
       "rows": [
        [
         "2020",
         "3780"
        ],
        [
         "2021",
         "4120"
        ],
        [
         "2022",
         "4750"
        ]
       ],
       "shape": {
        "columns": 1,
        "rows": 3
       }
      },
      "text/plain": [
       "2020    3780\n",
       "2021    4120\n",
       "2022    4750\n",
       "Name: sales, dtype: int64"
      ]
     },
     "execution_count": 3,
     "metadata": {},
     "output_type": "execute_result"
    }
   ],
   "source": [
    "pd.Series([3780, 4120, 4750], index=[2020,2021,2022], name='sales')"
   ]
  },
  {
   "cell_type": "markdown",
   "id": "30df73a9",
   "metadata": {},
   "source": [
    "[**DataFrame**](https://pandas.pydata.org/docs/reference/api/pandas.DataFrame.html#pandas.DataFrame) is a two-dimensional (2d) *table* of values. Each row is a \"record\" having its *index* and each column is a **Series** having its (column) *name*."
   ]
  },
  {
   "cell_type": "code",
   "execution_count": 4,
   "id": "c86648b4",
   "metadata": {},
   "outputs": [
    {
     "data": {
      "application/vnd.microsoft.datawrangler.viewer.v0+json": {
       "columns": [
        {
         "name": "index",
         "rawType": "int64",
         "type": "integer"
        },
        {
         "name": "date",
         "rawType": "datetime64[ns]",
         "type": "datetime"
        },
        {
         "name": "sales",
         "rawType": "float64",
         "type": "float"
        },
        {
         "name": "department",
         "rawType": "object",
         "type": "string"
        }
       ],
       "ref": "c3add9d5-8561-4418-8b63-8a36d0d00052",
       "rows": [
        [
         "0",
         "2022-05-31 00:00:00",
         "300.12",
         "domestic"
        ],
        [
         "1",
         "2022-06-30 00:00:00",
         "313.28",
         "domestic"
        ],
        [
         "2",
         "2022-07-31 00:00:00",
         "330.64",
         "domestic"
        ],
        [
         "3",
         "2022-08-31 00:00:00",
         "347.59",
         "domestic"
        ],
        [
         "4",
         "2022-09-30 00:00:00",
         "352.11",
         "domestic"
        ]
       ],
       "shape": {
        "columns": 3,
        "rows": 5
       }
      },
      "text/html": [
       "<div>\n",
       "<style scoped>\n",
       "    .dataframe tbody tr th:only-of-type {\n",
       "        vertical-align: middle;\n",
       "    }\n",
       "\n",
       "    .dataframe tbody tr th {\n",
       "        vertical-align: top;\n",
       "    }\n",
       "\n",
       "    .dataframe thead th {\n",
       "        text-align: right;\n",
       "    }\n",
       "</style>\n",
       "<table border=\"1\" class=\"dataframe\">\n",
       "  <thead>\n",
       "    <tr style=\"text-align: right;\">\n",
       "      <th></th>\n",
       "      <th>date</th>\n",
       "      <th>sales</th>\n",
       "      <th>department</th>\n",
       "    </tr>\n",
       "  </thead>\n",
       "  <tbody>\n",
       "    <tr>\n",
       "      <th>0</th>\n",
       "      <td>2022-05-31</td>\n",
       "      <td>300.12</td>\n",
       "      <td>domestic</td>\n",
       "    </tr>\n",
       "    <tr>\n",
       "      <th>1</th>\n",
       "      <td>2022-06-30</td>\n",
       "      <td>313.28</td>\n",
       "      <td>domestic</td>\n",
       "    </tr>\n",
       "    <tr>\n",
       "      <th>2</th>\n",
       "      <td>2022-07-31</td>\n",
       "      <td>330.64</td>\n",
       "      <td>domestic</td>\n",
       "    </tr>\n",
       "    <tr>\n",
       "      <th>3</th>\n",
       "      <td>2022-08-31</td>\n",
       "      <td>347.59</td>\n",
       "      <td>domestic</td>\n",
       "    </tr>\n",
       "    <tr>\n",
       "      <th>4</th>\n",
       "      <td>2022-09-30</td>\n",
       "      <td>352.11</td>\n",
       "      <td>domestic</td>\n",
       "    </tr>\n",
       "  </tbody>\n",
       "</table>\n",
       "</div>"
      ],
      "text/plain": [
       "        date   sales department\n",
       "0 2022-05-31  300.12   domestic\n",
       "1 2022-06-30  313.28   domestic\n",
       "2 2022-07-31  330.64   domestic\n",
       "3 2022-08-31  347.59   domestic\n",
       "4 2022-09-30  352.11   domestic"
      ]
     },
     "execution_count": 4,
     "metadata": {},
     "output_type": "execute_result"
    }
   ],
   "source": [
    "df = pd.DataFrame({'date': pd.date_range('31/05/2022', periods=5, freq='ME'), # freq='ME' means month end frequency\n",
    "                   'sales': [300.12, 313.28, 330.64, 347.59, 352.11],\n",
    "                   'department': 'domestic'})\n",
    "df"
   ]
  },
  {
   "cell_type": "markdown",
   "id": "a1fa4c33",
   "metadata": {},
   "source": [
    "**Checking the DataFrame index**\n",
    "\n",
    "- The index is how Pandas labels and organizes the rows in your DataFrame.\n",
    "- Knowing the index is important because it tells you how you can access, align, or join your data.\n"
   ]
  },
  {
   "cell_type": "code",
   "execution_count": 5,
   "id": "12abab4d",
   "metadata": {},
   "outputs": [
    {
     "data": {
      "text/plain": [
       "RangeIndex(start=0, stop=5, step=1)"
      ]
     },
     "execution_count": 5,
     "metadata": {},
     "output_type": "execute_result"
    }
   ],
   "source": [
    "df.index"
   ]
  },
  {
   "cell_type": "markdown",
   "id": "156d2223",
   "metadata": {},
   "source": [
    "**Setting a column as the index**\n",
    "- Makes it easier to work with time series data, since dates are now row labels."
   ]
  },
  {
   "cell_type": "code",
   "execution_count": 6,
   "id": "2b436e9d",
   "metadata": {},
   "outputs": [],
   "source": [
    "df.set_index('date', inplace=True)"
   ]
  },
  {
   "cell_type": "markdown",
   "id": "66dc2c79",
   "metadata": {},
   "source": [
    "**We can also reset the index**"
   ]
  },
  {
   "cell_type": "code",
   "execution_count": 7,
   "id": "39dfc3d5",
   "metadata": {},
   "outputs": [
    {
     "data": {
      "application/vnd.microsoft.datawrangler.viewer.v0+json": {
       "columns": [
        {
         "name": "index",
         "rawType": "int64",
         "type": "integer"
        },
        {
         "name": "date",
         "rawType": "datetime64[ns]",
         "type": "datetime"
        },
        {
         "name": "sales",
         "rawType": "float64",
         "type": "float"
        },
        {
         "name": "department",
         "rawType": "object",
         "type": "string"
        }
       ],
       "ref": "cacfdac5-d350-4404-98e6-9aed626290a2",
       "rows": [
        [
         "0",
         "2022-05-31 00:00:00",
         "300.12",
         "domestic"
        ],
        [
         "1",
         "2022-06-30 00:00:00",
         "313.28",
         "domestic"
        ],
        [
         "2",
         "2022-07-31 00:00:00",
         "330.64",
         "domestic"
        ],
        [
         "3",
         "2022-08-31 00:00:00",
         "347.59",
         "domestic"
        ],
        [
         "4",
         "2022-09-30 00:00:00",
         "352.11",
         "domestic"
        ]
       ],
       "shape": {
        "columns": 3,
        "rows": 5
       }
      },
      "text/html": [
       "<div>\n",
       "<style scoped>\n",
       "    .dataframe tbody tr th:only-of-type {\n",
       "        vertical-align: middle;\n",
       "    }\n",
       "\n",
       "    .dataframe tbody tr th {\n",
       "        vertical-align: top;\n",
       "    }\n",
       "\n",
       "    .dataframe thead th {\n",
       "        text-align: right;\n",
       "    }\n",
       "</style>\n",
       "<table border=\"1\" class=\"dataframe\">\n",
       "  <thead>\n",
       "    <tr style=\"text-align: right;\">\n",
       "      <th></th>\n",
       "      <th>date</th>\n",
       "      <th>sales</th>\n",
       "      <th>department</th>\n",
       "    </tr>\n",
       "  </thead>\n",
       "  <tbody>\n",
       "    <tr>\n",
       "      <th>0</th>\n",
       "      <td>2022-05-31</td>\n",
       "      <td>300.12</td>\n",
       "      <td>domestic</td>\n",
       "    </tr>\n",
       "    <tr>\n",
       "      <th>1</th>\n",
       "      <td>2022-06-30</td>\n",
       "      <td>313.28</td>\n",
       "      <td>domestic</td>\n",
       "    </tr>\n",
       "    <tr>\n",
       "      <th>2</th>\n",
       "      <td>2022-07-31</td>\n",
       "      <td>330.64</td>\n",
       "      <td>domestic</td>\n",
       "    </tr>\n",
       "    <tr>\n",
       "      <th>3</th>\n",
       "      <td>2022-08-31</td>\n",
       "      <td>347.59</td>\n",
       "      <td>domestic</td>\n",
       "    </tr>\n",
       "    <tr>\n",
       "      <th>4</th>\n",
       "      <td>2022-09-30</td>\n",
       "      <td>352.11</td>\n",
       "      <td>domestic</td>\n",
       "    </tr>\n",
       "  </tbody>\n",
       "</table>\n",
       "</div>"
      ],
      "text/plain": [
       "        date   sales department\n",
       "0 2022-05-31  300.12   domestic\n",
       "1 2022-06-30  313.28   domestic\n",
       "2 2022-07-31  330.64   domestic\n",
       "3 2022-08-31  347.59   domestic\n",
       "4 2022-09-30  352.11   domestic"
      ]
     },
     "execution_count": 7,
     "metadata": {},
     "output_type": "execute_result"
    }
   ],
   "source": [
    "df.reset_index()"
   ]
  },
  {
   "cell_type": "markdown",
   "id": "85e8753b",
   "metadata": {},
   "source": [
    "**Checking the Datafram columns**\n",
    "- Lists all column labels in the DataFrame.\n",
    "- Useful for quickly checking the structure of your dataset."
   ]
  },
  {
   "cell_type": "code",
   "execution_count": null,
   "id": "7dc78be3",
   "metadata": {},
   "outputs": [],
   "source": []
  },
  {
   "cell_type": "markdown",
   "id": "baf73d3b",
   "metadata": {},
   "source": [
    "### Exercise\n",
    "\n",
    "1. Create a dataframe called sales that matches the diagram below\n",
    "\n",
    "| week       | electronics_sales | furniture_sales |\n",
    "|------------|-------------------|-----------------|\n",
    "| 2022-06-05 | 120               | 85              |\n",
    "| 2022-06-12 | 135               | 90              |\n",
    "| 2022-06-19 | 128               | 88              |\n",
    "| 2022-06-26 | 150               | 95              |\n",
    "\n",
    "2. Display the sales dataframe\n",
    "3. Set the `week` column as index"
   ]
  },
  {
   "cell_type": "code",
   "execution_count": 8,
   "id": "26c6130a",
   "metadata": {},
   "outputs": [
    {
     "name": "stdout",
     "output_type": "stream",
     "text": [
      "         week  electronics_sales  furniture_sales\n",
      "0  2022-06-05                120               85\n",
      "1  2022-06-12                135               90\n",
      "2  2022-06-19                128               88\n",
      "3  2022-06-26                150               95\n"
     ]
    }
   ],
   "source": [
    "import pandas as pd\n",
    "sales = pd.DataFrame({'week': ['2022-06-05', '2022-06-12', '2022-06-19', '2022-06-26' ], # freq='ME' means month end frequency\n",
    "                   'electronics_sales': [120, 135, 128, 150],\n",
    "                   'furniture_sales': [85,90,88,95]})\n",
    "sales.set_index('week')\n",
    "print(sales)\n"
   ]
  },
  {
   "cell_type": "markdown",
   "id": "fea35ec6",
   "metadata": {},
   "source": [
    "More often, DataFrames are created from data files, like **CSV (comma-separated values)** files, using [`pd.read_csv()`](https://pandas.pydata.org/pandas-docs/stable/reference/api/pandas.read_csv.html) function.\n",
    "\n",
    "**Let's import our first dataframe**"
   ]
  },
  {
   "cell_type": "code",
   "execution_count": 9,
   "id": "f159c0cd",
   "metadata": {},
   "outputs": [
    {
     "data": {
      "application/vnd.microsoft.datawrangler.viewer.v0+json": {
       "columns": [
        {
         "name": "index",
         "rawType": "int64",
         "type": "integer"
        },
        {
         "name": "country",
         "rawType": "object",
         "type": "unknown"
        },
        {
         "name": "description",
         "rawType": "object",
         "type": "string"
        },
        {
         "name": "designation",
         "rawType": "object",
         "type": "unknown"
        },
        {
         "name": "points",
         "rawType": "int64",
         "type": "integer"
        },
        {
         "name": "price",
         "rawType": "float64",
         "type": "float"
        },
        {
         "name": "province",
         "rawType": "object",
         "type": "unknown"
        },
        {
         "name": "region_1",
         "rawType": "object",
         "type": "unknown"
        },
        {
         "name": "region_2",
         "rawType": "object",
         "type": "unknown"
        },
        {
         "name": "taster_name",
         "rawType": "object",
         "type": "unknown"
        },
        {
         "name": "taster_twitter_handle",
         "rawType": "object",
         "type": "unknown"
        },
        {
         "name": "title",
         "rawType": "object",
         "type": "string"
        },
        {
         "name": "variety",
         "rawType": "object",
         "type": "string"
        },
        {
         "name": "winery",
         "rawType": "object",
         "type": "string"
        }
       ],
       "ref": "13561e88-5af7-4adf-9550-b6ec1596f4b2",
       "rows": [
        [
         "0",
         "Australia",
         "Possibly a little sweet, this is a soft, easygoing Chardonnay marked by clean, modest pear and melon flavors.",
         null,
         "83",
         "5.0",
         "Australia Other",
         "South Eastern Australia",
         null,
         "Joe Czerwinski",
         "@JoeCz",
         "Banrock Station 2006 Chardonnay (South Eastern Australia)",
         "Chardonnay",
         "Banrock Station"
        ],
        [
         "1",
         "France",
         "A soft, almost off dry wine that is full in the mouth. It has caramel and spice flavors as well as light acidity. The wine feels weighty and definitely needs food.",
         "Réserve",
         "85",
         "12.0",
         "Rhône Valley",
         "Côtes du Rhône",
         null,
         "Roger Voss",
         "@vossroger",
         "Cellier des Dauphins 2015 Réserve Rosé (Côtes du Rhône)",
         "Rosé",
         "Cellier des Dauphins"
        ],
        [
         "2",
         "Spain",
         "Generic white-fruit aromas of peach and apple are slightly pithy. This feels good but innocuous, while flavors of apple and stone fruits lose some of their snap and directness on a tropical-tasting finish.",
         "Estate Grown & Bottled",
         "86",
         "9.0",
         "Northern Spain",
         "Rueda",
         null,
         "Michael Schachner",
         "@wineschach",
         "Esperanza 2013 Estate Grown & Bottled Verdejo-Viura (Rueda)",
         "Verdejo-Viura",
         "Esperanza"
        ],
        [
         "3",
         "US",
         "This is the winery's best Nebula in years. While it's still a little on the soft, sweet side, the cool vintage has resonated in the wine's flavor, giving it a good structure housing cherry, currant and sandalwood flavors. Drink now.",
         "Nebula",
         "87",
         "29.0",
         "California",
         "Paso Robles",
         "Central Coast",
         null,
         null,
         "Midnight 2010 Nebula Cabernet Sauvignon (Paso Robles)",
         "Cabernet Sauvignon",
         "Midnight"
        ],
        [
         "4",
         "US",
         "This is a very rich Pinot whose primary virtue is fruit. It just explodes with delicious cherry jam, red currant, licorice and mocha flavors. Dry and crisply acidic, it's a beautiful wine for early drinking.",
         "Wiley Vineyard",
         "88",
         "40.0",
         "California",
         "Anderson Valley",
         null,
         null,
         null,
         "Harrington 2006 Wiley Vineyard Pinot Noir (Anderson Valley)",
         "Pinot Noir",
         "Harrington"
        ],
        [
         "5",
         "US",
         "An unabashedly rich and luscious wine, this combines ripe and fresh fruit flavors with luxurious spicy, buttery accents and an almost thick texture. With a subtext as savory as Udon broth it's practically a meal in a bottle. Call it full-bodied, full-flavored, ultrasmooth and impressive.",
         null,
         "90",
         "22.0",
         "California",
         "Sonoma County-Monterey County-Santa Barbara County",
         "California Other",
         "Jim Gordon",
         "@gordone_cellars",
         "Meiomi 2013 Chardonnay (Sonoma County-Monterey County-Santa Barbara County)",
         "Chardonnay",
         "Meiomi"
        ],
        [
         "6",
         "US",
         "This opens with a pleasing toasty aroma, following through on the palate. That deft touch of French oak (33% new) frames a solid core of strawberry preserves and Bing cherry fruit. It resonates on through a stylish, textural finish. Enjoy this immediately, and tuck away a few bottles to drink in five years.",
         "Five Faces",
         "90",
         "33.0",
         "Oregon",
         "Willamette Valley",
         "Willamette Valley",
         "Paul Gregutt",
         "@paulgwine ",
         "Fullerton 2014 Five Faces Pinot Noir (Willamette Valley)",
         "Pinot Noir",
         "Fullerton"
        ],
        [
         "7",
         "Italy",
         "Made with 100% Chardonnay, this creamy sparkler opens with aromas of hawthorn, peach and a whiff of bread crust. The palate reveals candied nectarine zest and golden apple alongside a soft perlage. It ends on a note of white almond.",
         "Saten",
         "89",
         "35.0",
         "Lombardy",
         "Franciacorta",
         null,
         "Kerin O’Keefe",
         "@kerinokeefe",
         "Lantieri de Paratico NV Saten Chardonnay (Franciacorta)",
         "Chardonnay",
         "Lantieri de Paratico"
        ],
        [
         "8",
         "US",
         "Here's a good, everyday Cab if you're looking for a bargain. It's dry, tannic and earthy, with suggestions of currants and oak.",
         null,
         "84",
         "10.0",
         "California",
         "Central Coast",
         "Central Coast",
         null,
         null,
         "Cupcake 2005 Cabernet Sauvignon (Central Coast)",
         "Cabernet Sauvignon",
         "Cupcake"
        ],
        [
         "9",
         "France",
         "Made from low-yielding, 70-year-old vines, this is a dense wine with an almost-dark structure and ripe red-plum flavors. Powerful, it obviously will be better with food and could even benefit from decanting before drinking. Age this concentrated wine until late 2016.",
         "Clos du Château",
         "92",
         "21.0",
         "Provence",
         "Côtes de Provence",
         null,
         "Roger Voss",
         "@vossroger",
         "Domaine du Clos Gautier 2015 Clos du Château Rosé (Côtes de Provence)",
         "Rosé",
         "Domaine du Clos Gautier"
        ],
        [
         "10",
         "US",
         "Amidst cola and sassafras on the nose, there's a bit of rotting cherry funk and some compost pile aromas to this intriguing single-vineyard Syrah from the Los Alamos area. The little bit of cherry sweetness on the palate gets more serious with chopped herbs, tobacco and cedar.",
         "White Hawk Vineyard",
         "89",
         "38.0",
         "California",
         "Santa Barbara County",
         "Central Coast",
         "Matt Kettmann",
         "@mattkettmann",
         "Deep Sea 2011 White Hawk Vineyard Syrah (Santa Barbara County)",
         "Syrah",
         "Deep Sea"
        ],
        [
         "11",
         "France",
         "This ripe, fruity wine has both freshness and a warmer, rounded character. Apricot and fresh white peach fruits are filled out with almond flavors as well as acidity. It's a wine to enjoy now, although it will be better from 2016",
         "Réserve des Vignerons",
         "86",
         "14.0",
         "Loire Valley",
         "Saumur",
         null,
         "Roger Voss",
         "@vossroger",
         "Cave de Saumur 2014 Réserve des Vignerons  (Saumur)",
         "Chenin Blanc",
         "Cave de Saumur"
        ],
        [
         "12",
         "France",
         "This is a smooth and creamy wine with soft apple flavors mingling with almonds and brisk acidity. It has a tight edge of minerality that adds a fine texture, offering a glimpse of the extra richness that can be expected in 2–3 years.",
         "Clos le Vigneau",
         "90",
         "18.0",
         "Loire Valley",
         "Vouvray",
         null,
         "Roger Voss",
         "@vossroger",
         "Château Gaudrelle 2010 Clos le Vigneau  (Vouvray)",
         "Chenin Blanc",
         "Château Gaudrelle"
        ],
        [
         "13",
         "US",
         "It shows ultrarich tannins and a flavor complexity ranging from briary wild blackberries and prunes to currants, nettles, sweet tea and softened cola. It's absolutely dry, despite or perhaps because of very high alcohol. The wine is unapologetic about that ripeness, instead asking only to be happily paired with barbecue.",
         null,
         "87",
         "20.0",
         "California",
         "Russian River Valley",
         "Sonoma",
         null,
         null,
         "Novy 2012 Zinfandel (Russian River Valley)",
         "Zinfandel",
         "Novy"
        ],
        [
         "14",
         "Portugal",
         "With a high proportion of generous Alicante Bouschet in the blend, this is a big, bold wine. It has smoky flavors showing a meaty character that's enhanced by 12 months wood aging. Generous tannins give a rich, structured character. It could still do with some aging, so drink from 2017.",
         "Santos da Casa Reserva",
         "91",
         "19.0",
         "Alentejano",
         null,
         null,
         "Roger Voss",
         "@vossroger",
         "Casca Wines 2011 Santos da Casa Reserva Red (Alentejano)",
         "Portuguese Red",
         "Casca Wines"
        ],
        [
         "15",
         "Italy",
         "Baked plum, blue flower, dark spice, vanilla and dried herb emerge in the glass. The dense, chewy palate offers mature black cherry, raspberry jam, fig and sweet cake spice alongside velvety tannins. It has hit its ideal drinking window so enjoy soon.",
         "Caleno Oro",
         "88",
         null,
         "Southern Italy",
         "Campania",
         null,
         "Kerin O’Keefe",
         "@kerinokeefe",
         "Nugnes 2009 Caleno Oro Aglianico (Campania)",
         "Aglianico",
         "Nugnes"
        ],
        [
         "16",
         "US",
         "The winery says this high-alcohol wine, made from Muscat and Verdelho, was aged for ten years in barrels. It has a floral, Sherry taste, with that distinctive yeasty flavor undergirding quite sweet pineapples, oranges, apricots and white chocolate.",
         "Dessert Wine",
         "86",
         "20.0",
         "California",
         "California",
         "California Other",
         null,
         null,
         "Elkhorn Peak NV Dessert Wine White (California)",
         "White Blend",
         "Elkhorn Peak"
        ],
        [
         "17",
         "Germany",
         "Hints of lemon shortbread, fresh apple and white flower unfold on the nose of this delicately honeyed wine. On the palate, sweet white-peach and yellow-cherry flavors run just a shade off dry. Easy going and fresh, it finishes long, with a streak of tangerine acidity.",
         "Dom Off-Dry",
         "89",
         "18.0",
         "Mosel",
         null,
         null,
         "Anna Lee C. Iijima",
         null,
         "Bischöfliche Weingüter Trier 2015 Dom Off-Dry Riesling (Mosel)",
         "Riesling",
         "Bischöfliche Weingüter Trier"
        ],
        [
         "18",
         "Italy",
         "Notes of cherry and raspberry open the nose of this organic wine. It is easy on the palate, with a lean, fruit-filled finish.",
         "Vriccio",
         "86",
         "20.0",
         "Southern Italy",
         "Puglia",
         null,
         null,
         null,
         "Antica Enotria 2011 Vriccio Primitivo (Puglia)",
         "Primitivo",
         "Antica Enotria"
        ],
        [
         "19",
         "US",
         "A blend of Ciel du Cheval and Force Majeure vineyards, this wine brings a mix of pomegranate, dark raspberry, dried tobacco, crushed rock and peppery spices. It explodes on the palate with rich, dense, cranberry and spice flavors that linger.",
         "Crazy Mary",
         "93",
         "48.0",
         "Washington",
         "Red Mountain",
         "Columbia Valley",
         "Sean P. Sullivan",
         "@wawinereport",
         "Mark Ryan 2012 Crazy Mary Mourvèdre (Red Mountain)",
         "Mourvèdre",
         "Mark Ryan"
        ],
        [
         "20",
         "Chile",
         "Fleshy, tropical aromas with a touch of varietal snap set up a green palate with sweet lime and scallion flavors. The finish shows ripeness and tropical notes before turning heavy. Drink this well chilled.",
         "U Estate Grown",
         "85",
         "11.0",
         "Maipo Valley",
         null,
         null,
         "Michael Schachner",
         "@wineschach",
         "Undurraga 2012 U Estate Grown Sauvignon Blanc (Maipo Valley)",
         "Sauvignon Blanc",
         "Undurraga"
        ],
        [
         "21",
         "Australia",
         "This restrained, medium-bodied Cabernet Sauvignon is a solid value. On the nose, cedar, vanilla and cassis elements blend together easily, while brown sugar and vanilla flavors are supported by just enough cassis and black cherry fruit. Drink now–2028.",
         "Two Passions",
         "90",
         "20.0",
         "Western Australia",
         "Margaret River",
         null,
         "Joe Czerwinski",
         "@JoeCz",
         "Wildberry Estate 2013 Two Passions Cabernet Sauvignon (Margaret River)",
         "Cabernet Sauvignon",
         "Wildberry Estate"
        ],
        [
         "22",
         "US",
         "Intense perfume and floral notes overcome ripe apple aromas. It's dry on the palate with flavors of savory apple and green herbs, but feels a bit flat and heavy in mouthfeel.",
         null,
         "83",
         "25.0",
         "New York",
         "North Fork of Long Island",
         "Long Island",
         "Anna Lee C. Iijima",
         null,
         "Palmer 2012 Albariño (North Fork of Long Island)",
         "Albariño",
         "Palmer"
        ],
        [
         "23",
         "US",
         "This cool climate region is well-suited to this grape, producing aromatic, elegant wines such as this without the over-the-top perfume that can drive consumers away. Subtle aromas suggest light talc, acacia and calla lily, while in the mouth this is soft and smooth. Overall it's just plain pretty, with details of apple and apple skin.",
         "Gorge Crest",
         "90",
         "28.0",
         "Oregon",
         "Columbia Gorge (OR)",
         "Oregon Other",
         "Paul Gregutt",
         "@paulgwine ",
         "Phelps Creek 2015 Gorge Crest Gewürztraminer (Columbia Gorge (OR))",
         "Gewürztraminer",
         "Phelps Creek"
        ],
        [
         "24",
         "Portugal",
         "A soft apple-tinged wine, with bright acidity that cuts right through. The wine is rounded, with just enough crispness. Ready to drink.",
         "Conde de Vimioso Colheita Seleccionada",
         "86",
         "9.0",
         "Tejo",
         null,
         null,
         "Roger Voss",
         "@vossroger",
         "Falua 2010 Conde de Vimioso Colheita Seleccionada White (Tejo)",
         "Portuguese White",
         "Falua"
        ],
        [
         "25",
         "Italy",
         "Here's a Pinot Grigio that ranks high in terms of fresh, easy-drinking white wine options from northern Italy. The bouquet delivers crisp tones of honeydew melon, herb and a distant mineral dusting. In the mouth, it shows balanced freshness and a bright peach finish.",
         null,
         "87",
         "17.0",
         "Northeastern Italy",
         "Alto Adige",
         null,
         null,
         null,
         "Erste Neue 2011 Pinot Grigio (Alto Adige)",
         "Pinot Grigio",
         "Erste Neue"
        ],
        [
         "26",
         "Spain",
         "Sweaty and pickled at first, although airing reveals some hidden dark fruit aromas. The palate is grapy and accented by black plum, yet it finishes salty and cheeky, with grabby tannins. Has it good points but lacks direction and elegance.",
         "Viña Tobía",
         "84",
         "11.0",
         "Northern Spain",
         "Rioja",
         null,
         "Michael Schachner",
         "@wineschach",
         "Bodegas Tobía 2005 Viña Tobía  (Rioja)",
         "Tempranillo",
         "Bodegas Tobía"
        ],
        [
         "27",
         "Italy",
         "This plush Syrah opens with a pretty ruby color and thick, almost syrupy, tones of blueberry and raspberry. The fruit aromas are followed by spice and roasted almonds and the wine is succulent and chewy to the very end.",
         "Una Viola Signature",
         "88",
         "16.0",
         "Sicily & Sardinia",
         "Sicilia",
         null,
         null,
         null,
         "Spadina 2006 Una Viola Signature Syrah (Sicilia)",
         "Syrah",
         "Spadina"
        ],
        [
         "28",
         "France",
         "This is pretty pale for a Tavel, with a coppery tinge to its pink color. Notes of lime zest, wet stone and modest cherry-berry notes finish on a bright citrus note.",
         null,
         "90",
         "24.0",
         "Rhône Valley",
         "Tavel",
         null,
         "Joe Czerwinski",
         "@JoeCz",
         "Prieuré de Montézargues 2014  Tavel",
         "Rosé",
         "Prieuré de Montézargues"
        ],
        [
         "29",
         "US",
         "This brilliant Sauvignon Blanc should be scooped up by sommeliers. It's exceptionally dry and tart in citrusy acids, with a mineral scour that's perfect for shellfish or savory appetizers. The flavors are of lemons, limes, gooseberries and white pepper. Beautiful and compelling.",
         null,
         "91",
         "17.0",
         "California",
         "Napa Valley",
         "Napa",
         null,
         null,
         "Broman 2008 Sauvignon Blanc (Napa Valley)",
         "Sauvignon Blanc",
         "Broman"
        ],
        [
         "30",
         "Argentina",
         "Foxy berry aromas are the lead scent, and they're followed by notes of wet dog and raspberry. This is full bodied and round as a ball, with earthy, lightly herbal flavors of red berries, thyme and rosemary. A warm, loamy finish brings oaky flavors and closing weight. Drink this blend of 70% Malbec and 30% Cabernet Sauvignon through 2016.",
         "Amancaya Gran Reserva",
         "89",
         "21.0",
         "Mendoza Province",
         "Mendoza",
         null,
         "Michael Schachner",
         "@wineschach",
         "Bodegas Caro 2011 Amancaya Gran Reserva Malbec-Cabernet Sauvignon (Mendoza)",
         "Malbec-Cabernet Sauvignon",
         "Bodegas Caro"
        ],
        [
         "31",
         "South Africa",
         "A decadent blend of ripe berries and rich oak characterizes this wine; sweet smoke and baking spice mingle harmoniously with notes of mashed raspberry and blackberry, accented by hints of hickory-cured bacon and raw cocoa nibs. The medium-weight mouth is structured and bold, with chewy tannins and heady flavors of plum and berry preserves, roasted coffee and sweet licorice. The finish is long and dry, and although this would certainly benefit from 5–10 years of cellaring time, it's approachable now with decanting.",
         "Redhill",
         "92",
         "38.0",
         "Stellenbosch",
         null,
         null,
         "Lauren Buzzeo",
         "@laurbuzz",
         "Simonsig 2011 Redhill Pinotage (Stellenbosch)",
         "Pinotage",
         "Simonsig"
        ],
        [
         "32",
         "US",
         "Tastes a bit medicinal, with a sweet-sour quality of lemons and pineapples, and is quite acidic. Lacks richness, but it's a decent everyday Chardonnay.",
         null,
         "83",
         "14.0",
         "California",
         "Central Coast",
         "Central Coast",
         null,
         null,
         "Castoro Cellars 2007 Chardonnay (Central Coast)",
         "Chardonnay",
         "Castoro Cellars"
        ],
        [
         "33",
         "Portugal",
         "Quinta do Pégo produces a light, fast maturing style of vintage Port. This 2009 has the bonus of great richness, although its fruity character and soft tannins suggest it will mature rapidly.",
         "Quinta do Pégo Vintage",
         "87",
         "28.0",
         "Port",
         null,
         null,
         "Roger Voss",
         "@vossroger",
         "Rozes 2009 Quinta do Pégo Vintage  (Port)",
         "Port",
         "Rozes"
        ],
        [
         "34",
         "US",
         "A surprisingly green tinge vies with tobacco, raspberry and woodspice for attention. This wine is full in feel with good concentration of flavors but ultimately the greenness provides distraction.",
         null,
         "88",
         "28.0",
         "Washington",
         "Columbia Valley (WA)",
         "Columbia Valley",
         "Sean P. Sullivan",
         "@wawinereport",
         "Tamarack Cellars 2012 Merlot (Columbia Valley (WA))",
         "Merlot",
         "Tamarack Cellars"
        ],
        [
         "35",
         "France",
         "Dense and dry, this is a tough, extracted wine. It has a hard edge followed by juicy acidity and will probably remain on the dry side.",
         null,
         "85",
         "20.0",
         "Bordeaux",
         "Blaye Côtes de Bordeaux",
         null,
         "Roger Voss",
         "@vossroger",
         "Château Grand Bourgeau 2015  Blaye Côtes de Bordeaux",
         "Bordeaux-style Red Blend",
         "Château Grand Bourgeau"
        ],
        [
         "36",
         "US",
         "This varietal Cabernet Sauvignon hails from the producer's organic Chiles Valley estate. It's muscular and lushly layered, with spicy leather and tobacco notes accented by a delicate touch of violet and supported by firm, grippy tannin. Drink now through 2033.",
         "Sievers Reserve",
         "93",
         "80.0",
         "California",
         "Napa Valley",
         "Napa",
         "Virginie Boone",
         "@vboone",
         "Volker Eisele Family Estate 2013 Sievers Reserve Cabernet Sauvignon (Napa Valley)",
         "Cabernet Sauvignon",
         "Volker Eisele Family Estate"
        ],
        [
         "37",
         "Spain",
         "Standard berry aromas show touches of raisin and earth, but not too much of either. It feels fresh, crisp and alert, with cherry tomato, berry fruit, tobacco and vanilla flavors. This feels healthy but not real deep or complex on the finish.",
         "Single Vineyard Roble",
         "86",
         "13.0",
         "Northern Spain",
         "Ribera del Duero",
         null,
         "Michael Schachner",
         "@wineschach",
         "Finca El Encinal 2009 Single Vineyard Roble  (Ribera del Duero)",
         "Tempranillo",
         "Finca El Encinal"
        ],
        [
         "38",
         "US",
         "The blend is mainly Cabernet Sauvignon, with the other four classic Bordeaux varieties added for complexity. The grapes were sourced from vineyards throughout Sonoma County, and the finished wine was aged in 75% new oak. It's very fine, with concentrated, intense blackberry, cherry and crème de cassis flavors.Minerality, in the form of granite, lends a lick of stone. It's still extremely tannic, and needs much more timebefore it begins to come around.",
         "La Joie",
         "96",
         "450.0",
         "California",
         "Sonoma County",
         "Sonoma",
         null,
         null,
         "Verité 2007 La Joie Red (Sonoma County)",
         "Bordeaux-style Red Blend",
         "Verité"
        ],
        [
         "39",
         "Portugal",
         "Named after Siza Vieira, the architect of the modern Adega Mayor winery, this dense, darkly colored wine is hugely ripe, with great fruits and rich coffee and spice flavors. It's a wine that perfectly fits the adjective opulent, powered by great fruits and dense tannins, with fine aging potential. Drink from 2017.",
         "Siza",
         "93",
         "75.0",
         "Alentejano",
         null,
         null,
         "Roger Voss",
         "@vossroger",
         "Adega Mayor 2009 Siza Alicante Bouschet (Alentejano)",
         "Alicante Bouschet",
         "Adega Mayor"
        ],
        [
         "40",
         "France",
         "A gorgeously perfumed wine, dominated by the ripest Cabernet Franc, combining richness and an intense structure. With its tannins, it will age well over many years. The fruit is finely textured, deliciously juicy, showing the most complex series of flavors.",
         null,
         "95",
         "295.0",
         "Bordeaux",
         "Saint-Émilion",
         null,
         "Roger Voss",
         "@vossroger",
         "Le Dôme 2009  Saint-Émilion",
         "Bordeaux-style Red Blend",
         "Le Dôme"
        ],
        [
         "41",
         "US",
         "New oak dominates this wine, giving it aromas of toast and vanilla. After decanting, the air brings out interesting notes of dried herbs and blackberries. Tastes very rich and flamboyant, almost sweet, like a chocolate berry pastry, and should develop over the next few years. Mainly Cabernet Sauvignon, with Sangiovese, Cabernet Franc and Petit Verdot.",
         "Meritaggio",
         "90",
         "55.0",
         "California",
         "Napa Valley",
         "Napa",
         null,
         null,
         "David Arthur 2008 Meritaggio Red (Napa Valley)",
         "Red Blend",
         "David Arthur"
        ],
        [
         "42",
         "Australia",
         "This blend of 79% Sauvignon Blanc and 21% Semillon is pungent and sweaty, with an almost Collio-like pungency. It's a bold, in-your-face passion-fruit monster that fades quickly on the finish.",
         "Miamup",
         "88",
         "23.0",
         "Western Australia",
         "Margaret River",
         null,
         "Joe Czerwinski",
         "@JoeCz",
         "Howard Park 2015 Miamup Sauvignon Blanc-Semillon (Margaret River)",
         "Sauvignon Blanc-Semillon",
         "Howard Park"
        ],
        [
         "43",
         "Portugal",
         "All the warm southern heat of the Alentejo is in this wine. It is rich, generous and full of ripe, black fruits. Berries and juicy damsons are spiced with pepper, rich tannins and lifted by acidity. It is a wine for big meat dishes, for stews, a powerful, no-holds-barred style. It will be ready to drink from 2017.",
         "Azul Portugal Reserva",
         "90",
         "40.0",
         "Alentejano",
         null,
         null,
         "Roger Voss",
         "@vossroger",
         "Wines & Winemakers 2013 Azul Portugal Reserva Red (Alentejano)",
         "Portuguese Red",
         "Wines & Winemakers"
        ],
        [
         "44",
         "South Africa",
         "73% Merlot, with Cabernet and Petite Verdot making up the difference, this is a finely crafted and delicious effort. Medium-bodied and creamy, the Merlot gives this wine a feminine feel, despite solid, soft tannins. Dark, extracted black fruits have some accents of forest and black olive, while leather adds to the cherry and cassis nose. Could use time to soften further, but very approachable now.",
         null,
         "90",
         "55.0",
         "Stellenbosch",
         null,
         null,
         null,
         null,
         "Tokara 2003 Red (Stellenbosch)",
         "Bordeaux-style Red Blend",
         "Tokara"
        ],
        [
         "45",
         "Georgia",
         "This inky red-violet wine has a nose of blueberry pie, green pepper and violet. It is slightly tart at first sip, with tannins that hide at first and then coat the tongue and gums. A rich flavor profile of blackberry, cranberry, anise, violet and white chocolate makes way for cherry and chocolate notes in the finish.",
         "Mukuzani",
         "90",
         "16.0",
         "Kakheti",
         null,
         null,
         "Mike DeSimone",
         "@worldwineguys",
         "Teliani Valley 2013 Mukuzani Saperavi (Kakheti)",
         "Saperavi",
         "Teliani Valley"
        ],
        [
         "46",
         "Italy",
         "Succulent steak or breaded veal would make good pairing partners to this elegant Brunello. The wine delivers oak spice, red fruit, black pepper and balsam notes of dried ginger and cola. The wine is lively and delicate with some astringency to the tannins that will soften in a few more years.",
         "Agricola Centolani",
         "90",
         null,
         "Tuscany",
         "Brunello di Montalcino",
         null,
         null,
         null,
         "Pietranera 2008 Agricola Centolani  (Brunello di Montalcino)",
         "Sangiovese Grosso",
         "Pietranera"
        ],
        [
         "47",
         "France",
         "This wine is firm with solid tannins. It has rich fruit and concentration with layers of blackberry and dark plums. It comes from a small seven-acre property and is aged for 15 months in wood. This impressive wine needs to age, so drink from 2022.",
         "Cuvée Excellence",
         "92",
         "35.0",
         "Bordeaux",
         "Pomerol",
         null,
         "Roger Voss",
         "@vossroger",
         "Château Lafleur du Roy 2015 Cuvée Excellence  (Pomerol)",
         "Bordeaux-style Red Blend",
         "Château Lafleur du Roy"
        ],
        [
         "48",
         "Italy",
         "This opens with delicate scents of field flower and white stone fruit. On the creamy off-dry palate, a soft mousse backs up sweet white peach, green apple and a candied citrus note while bright acidity lends freshness.",
         "Dry",
         "88",
         "22.0",
         "Veneto",
         "Valdobbiadene Prosecco Superiore",
         null,
         "Kerin O’Keefe",
         "@kerinokeefe",
         "Andreola 2016 Dry  (Valdobbiadene Prosecco Superiore)",
         "Glera",
         "Andreola"
        ],
        [
         "49",
         "France",
         "Steely, minerally and very textured, this has concentratio and taut layer of acidity to go with the lime fruit. Powered by its structure, it will age for 3–4 years.",
         "Vau de Vey Premier Cru",
         "92",
         "36.0",
         "Burgundy",
         "Chablis",
         null,
         "Roger Voss",
         "@vossroger",
         "Romain Bouchard 2010 Vau de Vey Premier Cru  (Chablis)",
         "Chardonnay",
         "Romain Bouchard"
        ]
       ],
       "shape": {
        "columns": 13,
        "rows": 58487
       }
      },
      "text/html": [
       "<div>\n",
       "<style scoped>\n",
       "    .dataframe tbody tr th:only-of-type {\n",
       "        vertical-align: middle;\n",
       "    }\n",
       "\n",
       "    .dataframe tbody tr th {\n",
       "        vertical-align: top;\n",
       "    }\n",
       "\n",
       "    .dataframe thead th {\n",
       "        text-align: right;\n",
       "    }\n",
       "</style>\n",
       "<table border=\"1\" class=\"dataframe\">\n",
       "  <thead>\n",
       "    <tr style=\"text-align: right;\">\n",
       "      <th></th>\n",
       "      <th>country</th>\n",
       "      <th>description</th>\n",
       "      <th>designation</th>\n",
       "      <th>points</th>\n",
       "      <th>price</th>\n",
       "      <th>province</th>\n",
       "      <th>region_1</th>\n",
       "      <th>region_2</th>\n",
       "      <th>taster_name</th>\n",
       "      <th>taster_twitter_handle</th>\n",
       "      <th>title</th>\n",
       "      <th>variety</th>\n",
       "      <th>winery</th>\n",
       "    </tr>\n",
       "  </thead>\n",
       "  <tbody>\n",
       "    <tr>\n",
       "      <th>0</th>\n",
       "      <td>Australia</td>\n",
       "      <td>Possibly a little sweet, this is a soft, easyg...</td>\n",
       "      <td>NaN</td>\n",
       "      <td>83</td>\n",
       "      <td>5.0</td>\n",
       "      <td>Australia Other</td>\n",
       "      <td>South Eastern Australia</td>\n",
       "      <td>NaN</td>\n",
       "      <td>Joe Czerwinski</td>\n",
       "      <td>@JoeCz</td>\n",
       "      <td>Banrock Station 2006 Chardonnay (South Eastern...</td>\n",
       "      <td>Chardonnay</td>\n",
       "      <td>Banrock Station</td>\n",
       "    </tr>\n",
       "    <tr>\n",
       "      <th>1</th>\n",
       "      <td>France</td>\n",
       "      <td>A soft, almost off dry wine that is full in th...</td>\n",
       "      <td>Réserve</td>\n",
       "      <td>85</td>\n",
       "      <td>12.0</td>\n",
       "      <td>Rhône Valley</td>\n",
       "      <td>Côtes du Rhône</td>\n",
       "      <td>NaN</td>\n",
       "      <td>Roger Voss</td>\n",
       "      <td>@vossroger</td>\n",
       "      <td>Cellier des Dauphins 2015 Réserve Rosé (Côtes ...</td>\n",
       "      <td>Rosé</td>\n",
       "      <td>Cellier des Dauphins</td>\n",
       "    </tr>\n",
       "    <tr>\n",
       "      <th>2</th>\n",
       "      <td>Spain</td>\n",
       "      <td>Generic white-fruit aromas of peach and apple ...</td>\n",
       "      <td>Estate Grown &amp; Bottled</td>\n",
       "      <td>86</td>\n",
       "      <td>9.0</td>\n",
       "      <td>Northern Spain</td>\n",
       "      <td>Rueda</td>\n",
       "      <td>NaN</td>\n",
       "      <td>Michael Schachner</td>\n",
       "      <td>@wineschach</td>\n",
       "      <td>Esperanza 2013 Estate Grown &amp; Bottled Verdejo-...</td>\n",
       "      <td>Verdejo-Viura</td>\n",
       "      <td>Esperanza</td>\n",
       "    </tr>\n",
       "    <tr>\n",
       "      <th>3</th>\n",
       "      <td>US</td>\n",
       "      <td>This is the winery's best Nebula in years. Whi...</td>\n",
       "      <td>Nebula</td>\n",
       "      <td>87</td>\n",
       "      <td>29.0</td>\n",
       "      <td>California</td>\n",
       "      <td>Paso Robles</td>\n",
       "      <td>Central Coast</td>\n",
       "      <td>NaN</td>\n",
       "      <td>NaN</td>\n",
       "      <td>Midnight 2010 Nebula Cabernet Sauvignon (Paso ...</td>\n",
       "      <td>Cabernet Sauvignon</td>\n",
       "      <td>Midnight</td>\n",
       "    </tr>\n",
       "    <tr>\n",
       "      <th>4</th>\n",
       "      <td>US</td>\n",
       "      <td>This is a very rich Pinot whose primary virtue...</td>\n",
       "      <td>Wiley Vineyard</td>\n",
       "      <td>88</td>\n",
       "      <td>40.0</td>\n",
       "      <td>California</td>\n",
       "      <td>Anderson Valley</td>\n",
       "      <td>NaN</td>\n",
       "      <td>NaN</td>\n",
       "      <td>NaN</td>\n",
       "      <td>Harrington 2006 Wiley Vineyard Pinot Noir (And...</td>\n",
       "      <td>Pinot Noir</td>\n",
       "      <td>Harrington</td>\n",
       "    </tr>\n",
       "    <tr>\n",
       "      <th>...</th>\n",
       "      <td>...</td>\n",
       "      <td>...</td>\n",
       "      <td>...</td>\n",
       "      <td>...</td>\n",
       "      <td>...</td>\n",
       "      <td>...</td>\n",
       "      <td>...</td>\n",
       "      <td>...</td>\n",
       "      <td>...</td>\n",
       "      <td>...</td>\n",
       "      <td>...</td>\n",
       "      <td>...</td>\n",
       "      <td>...</td>\n",
       "    </tr>\n",
       "    <tr>\n",
       "      <th>58482</th>\n",
       "      <td>US</td>\n",
       "      <td>A solid effort from a dependable winery that u...</td>\n",
       "      <td>Winemaker's Reserve</td>\n",
       "      <td>88</td>\n",
       "      <td>35.0</td>\n",
       "      <td>California</td>\n",
       "      <td>Sonoma County</td>\n",
       "      <td>Sonoma</td>\n",
       "      <td>NaN</td>\n",
       "      <td>NaN</td>\n",
       "      <td>Château Souverain 1996 Winemaker's Reserve Cab...</td>\n",
       "      <td>Cabernet Sauvignon</td>\n",
       "      <td>Château Souverain</td>\n",
       "    </tr>\n",
       "    <tr>\n",
       "      <th>58483</th>\n",
       "      <td>Greece</td>\n",
       "      <td>Crushed thyme, pine resin and lemon start this...</td>\n",
       "      <td>Retsina of Attica</td>\n",
       "      <td>86</td>\n",
       "      <td>9.0</td>\n",
       "      <td>Attica</td>\n",
       "      <td>NaN</td>\n",
       "      <td>NaN</td>\n",
       "      <td>Susan Kostrzewa</td>\n",
       "      <td>@suskostrzewa</td>\n",
       "      <td>Kourtaki NV Retsina of Attica Savatiano (Attica)</td>\n",
       "      <td>Savatiano</td>\n",
       "      <td>Kourtaki</td>\n",
       "    </tr>\n",
       "    <tr>\n",
       "      <th>58484</th>\n",
       "      <td>Italy</td>\n",
       "      <td>Made from Negroamaro, this opens with aromas o...</td>\n",
       "      <td>NaN</td>\n",
       "      <td>87</td>\n",
       "      <td>15.0</td>\n",
       "      <td>Southern Italy</td>\n",
       "      <td>Salento</td>\n",
       "      <td>NaN</td>\n",
       "      <td>Kerin O’Keefe</td>\n",
       "      <td>@kerinokeefe</td>\n",
       "      <td>Masseria Altemura 2016 Rosato (Salento)</td>\n",
       "      <td>Rosato</td>\n",
       "      <td>Masseria Altemura</td>\n",
       "    </tr>\n",
       "    <tr>\n",
       "      <th>58485</th>\n",
       "      <td>US</td>\n",
       "      <td>This big, bold wine has the taste profile of a...</td>\n",
       "      <td>Estate Mae's Block Ravazzi Vineyard</td>\n",
       "      <td>88</td>\n",
       "      <td>32.0</td>\n",
       "      <td>California</td>\n",
       "      <td>Mendocino</td>\n",
       "      <td>NaN</td>\n",
       "      <td>Jim Gordon</td>\n",
       "      <td>@gordone_cellars</td>\n",
       "      <td>Jaxon Keys 2013 Estate Mae's Block Ravazzi Vin...</td>\n",
       "      <td>Zinfandel</td>\n",
       "      <td>Jaxon Keys</td>\n",
       "    </tr>\n",
       "    <tr>\n",
       "      <th>58486</th>\n",
       "      <td>Spain</td>\n",
       "      <td>Zingy and sort of floral on the nose, but fair...</td>\n",
       "      <td>Blanco</td>\n",
       "      <td>82</td>\n",
       "      <td>10.0</td>\n",
       "      <td>Central Spain</td>\n",
       "      <td>La Mancha</td>\n",
       "      <td>NaN</td>\n",
       "      <td>Michael Schachner</td>\n",
       "      <td>@wineschach</td>\n",
       "      <td>Finca Antigua 2006 Blanco Viura (La Mancha)</td>\n",
       "      <td>Viura</td>\n",
       "      <td>Finca Antigua</td>\n",
       "    </tr>\n",
       "  </tbody>\n",
       "</table>\n",
       "<p>58487 rows × 13 columns</p>\n",
       "</div>"
      ],
      "text/plain": [
       "         country                                        description  \\\n",
       "0      Australia  Possibly a little sweet, this is a soft, easyg...   \n",
       "1         France  A soft, almost off dry wine that is full in th...   \n",
       "2          Spain  Generic white-fruit aromas of peach and apple ...   \n",
       "3             US  This is the winery's best Nebula in years. Whi...   \n",
       "4             US  This is a very rich Pinot whose primary virtue...   \n",
       "...          ...                                                ...   \n",
       "58482         US  A solid effort from a dependable winery that u...   \n",
       "58483     Greece  Crushed thyme, pine resin and lemon start this...   \n",
       "58484      Italy  Made from Negroamaro, this opens with aromas o...   \n",
       "58485         US  This big, bold wine has the taste profile of a...   \n",
       "58486      Spain  Zingy and sort of floral on the nose, but fair...   \n",
       "\n",
       "                               designation  points  price         province  \\\n",
       "0                                      NaN      83    5.0  Australia Other   \n",
       "1                                  Réserve      85   12.0     Rhône Valley   \n",
       "2                   Estate Grown & Bottled      86    9.0   Northern Spain   \n",
       "3                                   Nebula      87   29.0       California   \n",
       "4                           Wiley Vineyard      88   40.0       California   \n",
       "...                                    ...     ...    ...              ...   \n",
       "58482                  Winemaker's Reserve      88   35.0       California   \n",
       "58483                    Retsina of Attica      86    9.0           Attica   \n",
       "58484                                  NaN      87   15.0   Southern Italy   \n",
       "58485  Estate Mae's Block Ravazzi Vineyard      88   32.0       California   \n",
       "58486                               Blanco      82   10.0    Central Spain   \n",
       "\n",
       "                      region_1       region_2        taster_name  \\\n",
       "0      South Eastern Australia            NaN     Joe Czerwinski   \n",
       "1               Côtes du Rhône            NaN         Roger Voss   \n",
       "2                        Rueda            NaN  Michael Schachner   \n",
       "3                  Paso Robles  Central Coast                NaN   \n",
       "4              Anderson Valley            NaN                NaN   \n",
       "...                        ...            ...                ...   \n",
       "58482            Sonoma County         Sonoma                NaN   \n",
       "58483                      NaN            NaN    Susan Kostrzewa   \n",
       "58484                  Salento            NaN      Kerin O’Keefe   \n",
       "58485                Mendocino            NaN         Jim Gordon   \n",
       "58486                La Mancha            NaN  Michael Schachner   \n",
       "\n",
       "      taster_twitter_handle  \\\n",
       "0                    @JoeCz   \n",
       "1                @vossroger   \n",
       "2               @wineschach   \n",
       "3                       NaN   \n",
       "4                       NaN   \n",
       "...                     ...   \n",
       "58482                   NaN   \n",
       "58483         @suskostrzewa   \n",
       "58484          @kerinokeefe   \n",
       "58485      @gordone_cellars   \n",
       "58486           @wineschach   \n",
       "\n",
       "                                                   title             variety  \\\n",
       "0      Banrock Station 2006 Chardonnay (South Eastern...          Chardonnay   \n",
       "1      Cellier des Dauphins 2015 Réserve Rosé (Côtes ...                Rosé   \n",
       "2      Esperanza 2013 Estate Grown & Bottled Verdejo-...       Verdejo-Viura   \n",
       "3      Midnight 2010 Nebula Cabernet Sauvignon (Paso ...  Cabernet Sauvignon   \n",
       "4      Harrington 2006 Wiley Vineyard Pinot Noir (And...          Pinot Noir   \n",
       "...                                                  ...                 ...   \n",
       "58482  Château Souverain 1996 Winemaker's Reserve Cab...  Cabernet Sauvignon   \n",
       "58483   Kourtaki NV Retsina of Attica Savatiano (Attica)           Savatiano   \n",
       "58484            Masseria Altemura 2016 Rosato (Salento)              Rosato   \n",
       "58485  Jaxon Keys 2013 Estate Mae's Block Ravazzi Vin...           Zinfandel   \n",
       "58486        Finca Antigua 2006 Blanco Viura (La Mancha)               Viura   \n",
       "\n",
       "                     winery  \n",
       "0           Banrock Station  \n",
       "1      Cellier des Dauphins  \n",
       "2                 Esperanza  \n",
       "3                  Midnight  \n",
       "4                Harrington  \n",
       "...                     ...  \n",
       "58482     Château Souverain  \n",
       "58483              Kourtaki  \n",
       "58484     Masseria Altemura  \n",
       "58485            Jaxon Keys  \n",
       "58486         Finca Antigua  \n",
       "\n",
       "[58487 rows x 13 columns]"
      ]
     },
     "execution_count": 9,
     "metadata": {},
     "output_type": "execute_result"
    }
   ],
   "source": [
    "reviews = pd.read_csv('../Data/wine_reviews.csv', index_col=0)\n",
    "reviews.reset_index(drop=True, inplace=True)\n",
    "reviews\n"
   ]
  },
  {
   "cell_type": "code",
   "execution_count": 10,
   "id": "12d5d449",
   "metadata": {},
   "outputs": [
    {
     "data": {
      "application/vnd.microsoft.datawrangler.viewer.v0+json": {
       "columns": [
        {
         "name": "index",
         "rawType": "int64",
         "type": "integer"
        },
        {
         "name": "country",
         "rawType": "object",
         "type": "unknown"
        },
        {
         "name": "description",
         "rawType": "object",
         "type": "string"
        },
        {
         "name": "designation",
         "rawType": "object",
         "type": "unknown"
        },
        {
         "name": "points",
         "rawType": "int64",
         "type": "integer"
        },
        {
         "name": "price",
         "rawType": "float64",
         "type": "float"
        },
        {
         "name": "province",
         "rawType": "object",
         "type": "unknown"
        },
        {
         "name": "region_1",
         "rawType": "object",
         "type": "unknown"
        },
        {
         "name": "region_2",
         "rawType": "object",
         "type": "unknown"
        },
        {
         "name": "taster_name",
         "rawType": "object",
         "type": "unknown"
        },
        {
         "name": "taster_twitter_handle",
         "rawType": "object",
         "type": "unknown"
        },
        {
         "name": "title",
         "rawType": "object",
         "type": "string"
        },
        {
         "name": "variety",
         "rawType": "object",
         "type": "string"
        },
        {
         "name": "winery",
         "rawType": "object",
         "type": "string"
        }
       ],
       "ref": "8d7df010-6abc-4c39-b4f5-89e40830c9be",
       "rows": [
        [
         "0",
         "Australia",
         "Possibly a little sweet, this is a soft, easygoing Chardonnay marked by clean, modest pear and melon flavors.",
         null,
         "83",
         "5.0",
         "Australia Other",
         "South Eastern Australia",
         null,
         "Joe Czerwinski",
         "@JoeCz",
         "Banrock Station 2006 Chardonnay (South Eastern Australia)",
         "Chardonnay",
         "Banrock Station"
        ],
        [
         "1",
         "France",
         "A soft, almost off dry wine that is full in the mouth. It has caramel and spice flavors as well as light acidity. The wine feels weighty and definitely needs food.",
         "Réserve",
         "85",
         "12.0",
         "Rhône Valley",
         "Côtes du Rhône",
         null,
         "Roger Voss",
         "@vossroger",
         "Cellier des Dauphins 2015 Réserve Rosé (Côtes du Rhône)",
         "Rosé",
         "Cellier des Dauphins"
        ],
        [
         "2",
         "Spain",
         "Generic white-fruit aromas of peach and apple are slightly pithy. This feels good but innocuous, while flavors of apple and stone fruits lose some of their snap and directness on a tropical-tasting finish.",
         "Estate Grown & Bottled",
         "86",
         "9.0",
         "Northern Spain",
         "Rueda",
         null,
         "Michael Schachner",
         "@wineschach",
         "Esperanza 2013 Estate Grown & Bottled Verdejo-Viura (Rueda)",
         "Verdejo-Viura",
         "Esperanza"
        ],
        [
         "3",
         "US",
         "This is the winery's best Nebula in years. While it's still a little on the soft, sweet side, the cool vintage has resonated in the wine's flavor, giving it a good structure housing cherry, currant and sandalwood flavors. Drink now.",
         "Nebula",
         "87",
         "29.0",
         "California",
         "Paso Robles",
         "Central Coast",
         null,
         null,
         "Midnight 2010 Nebula Cabernet Sauvignon (Paso Robles)",
         "Cabernet Sauvignon",
         "Midnight"
        ],
        [
         "4",
         "US",
         "This is a very rich Pinot whose primary virtue is fruit. It just explodes with delicious cherry jam, red currant, licorice and mocha flavors. Dry and crisply acidic, it's a beautiful wine for early drinking.",
         "Wiley Vineyard",
         "88",
         "40.0",
         "California",
         "Anderson Valley",
         null,
         null,
         null,
         "Harrington 2006 Wiley Vineyard Pinot Noir (Anderson Valley)",
         "Pinot Noir",
         "Harrington"
        ],
        [
         "5",
         "US",
         "An unabashedly rich and luscious wine, this combines ripe and fresh fruit flavors with luxurious spicy, buttery accents and an almost thick texture. With a subtext as savory as Udon broth it's practically a meal in a bottle. Call it full-bodied, full-flavored, ultrasmooth and impressive.",
         null,
         "90",
         "22.0",
         "California",
         "Sonoma County-Monterey County-Santa Barbara County",
         "California Other",
         "Jim Gordon",
         "@gordone_cellars",
         "Meiomi 2013 Chardonnay (Sonoma County-Monterey County-Santa Barbara County)",
         "Chardonnay",
         "Meiomi"
        ],
        [
         "6",
         "US",
         "This opens with a pleasing toasty aroma, following through on the palate. That deft touch of French oak (33% new) frames a solid core of strawberry preserves and Bing cherry fruit. It resonates on through a stylish, textural finish. Enjoy this immediately, and tuck away a few bottles to drink in five years.",
         "Five Faces",
         "90",
         "33.0",
         "Oregon",
         "Willamette Valley",
         "Willamette Valley",
         "Paul Gregutt",
         "@paulgwine ",
         "Fullerton 2014 Five Faces Pinot Noir (Willamette Valley)",
         "Pinot Noir",
         "Fullerton"
        ],
        [
         "7",
         "Italy",
         "Made with 100% Chardonnay, this creamy sparkler opens with aromas of hawthorn, peach and a whiff of bread crust. The palate reveals candied nectarine zest and golden apple alongside a soft perlage. It ends on a note of white almond.",
         "Saten",
         "89",
         "35.0",
         "Lombardy",
         "Franciacorta",
         null,
         "Kerin O’Keefe",
         "@kerinokeefe",
         "Lantieri de Paratico NV Saten Chardonnay (Franciacorta)",
         "Chardonnay",
         "Lantieri de Paratico"
        ],
        [
         "8",
         "US",
         "Here's a good, everyday Cab if you're looking for a bargain. It's dry, tannic and earthy, with suggestions of currants and oak.",
         null,
         "84",
         "10.0",
         "California",
         "Central Coast",
         "Central Coast",
         null,
         null,
         "Cupcake 2005 Cabernet Sauvignon (Central Coast)",
         "Cabernet Sauvignon",
         "Cupcake"
        ],
        [
         "9",
         "France",
         "Made from low-yielding, 70-year-old vines, this is a dense wine with an almost-dark structure and ripe red-plum flavors. Powerful, it obviously will be better with food and could even benefit from decanting before drinking. Age this concentrated wine until late 2016.",
         "Clos du Château",
         "92",
         "21.0",
         "Provence",
         "Côtes de Provence",
         null,
         "Roger Voss",
         "@vossroger",
         "Domaine du Clos Gautier 2015 Clos du Château Rosé (Côtes de Provence)",
         "Rosé",
         "Domaine du Clos Gautier"
        ],
        [
         "10",
         "US",
         "Amidst cola and sassafras on the nose, there's a bit of rotting cherry funk and some compost pile aromas to this intriguing single-vineyard Syrah from the Los Alamos area. The little bit of cherry sweetness on the palate gets more serious with chopped herbs, tobacco and cedar.",
         "White Hawk Vineyard",
         "89",
         "38.0",
         "California",
         "Santa Barbara County",
         "Central Coast",
         "Matt Kettmann",
         "@mattkettmann",
         "Deep Sea 2011 White Hawk Vineyard Syrah (Santa Barbara County)",
         "Syrah",
         "Deep Sea"
        ],
        [
         "11",
         "France",
         "This ripe, fruity wine has both freshness and a warmer, rounded character. Apricot and fresh white peach fruits are filled out with almond flavors as well as acidity. It's a wine to enjoy now, although it will be better from 2016",
         "Réserve des Vignerons",
         "86",
         "14.0",
         "Loire Valley",
         "Saumur",
         null,
         "Roger Voss",
         "@vossroger",
         "Cave de Saumur 2014 Réserve des Vignerons  (Saumur)",
         "Chenin Blanc",
         "Cave de Saumur"
        ],
        [
         "12",
         "France",
         "This is a smooth and creamy wine with soft apple flavors mingling with almonds and brisk acidity. It has a tight edge of minerality that adds a fine texture, offering a glimpse of the extra richness that can be expected in 2–3 years.",
         "Clos le Vigneau",
         "90",
         "18.0",
         "Loire Valley",
         "Vouvray",
         null,
         "Roger Voss",
         "@vossroger",
         "Château Gaudrelle 2010 Clos le Vigneau  (Vouvray)",
         "Chenin Blanc",
         "Château Gaudrelle"
        ],
        [
         "13",
         "US",
         "It shows ultrarich tannins and a flavor complexity ranging from briary wild blackberries and prunes to currants, nettles, sweet tea and softened cola. It's absolutely dry, despite or perhaps because of very high alcohol. The wine is unapologetic about that ripeness, instead asking only to be happily paired with barbecue.",
         null,
         "87",
         "20.0",
         "California",
         "Russian River Valley",
         "Sonoma",
         null,
         null,
         "Novy 2012 Zinfandel (Russian River Valley)",
         "Zinfandel",
         "Novy"
        ],
        [
         "14",
         "Portugal",
         "With a high proportion of generous Alicante Bouschet in the blend, this is a big, bold wine. It has smoky flavors showing a meaty character that's enhanced by 12 months wood aging. Generous tannins give a rich, structured character. It could still do with some aging, so drink from 2017.",
         "Santos da Casa Reserva",
         "91",
         "19.0",
         "Alentejano",
         null,
         null,
         "Roger Voss",
         "@vossroger",
         "Casca Wines 2011 Santos da Casa Reserva Red (Alentejano)",
         "Portuguese Red",
         "Casca Wines"
        ],
        [
         "15",
         "Italy",
         "Baked plum, blue flower, dark spice, vanilla and dried herb emerge in the glass. The dense, chewy palate offers mature black cherry, raspberry jam, fig and sweet cake spice alongside velvety tannins. It has hit its ideal drinking window so enjoy soon.",
         "Caleno Oro",
         "88",
         null,
         "Southern Italy",
         "Campania",
         null,
         "Kerin O’Keefe",
         "@kerinokeefe",
         "Nugnes 2009 Caleno Oro Aglianico (Campania)",
         "Aglianico",
         "Nugnes"
        ],
        [
         "16",
         "US",
         "The winery says this high-alcohol wine, made from Muscat and Verdelho, was aged for ten years in barrels. It has a floral, Sherry taste, with that distinctive yeasty flavor undergirding quite sweet pineapples, oranges, apricots and white chocolate.",
         "Dessert Wine",
         "86",
         "20.0",
         "California",
         "California",
         "California Other",
         null,
         null,
         "Elkhorn Peak NV Dessert Wine White (California)",
         "White Blend",
         "Elkhorn Peak"
        ],
        [
         "17",
         "Germany",
         "Hints of lemon shortbread, fresh apple and white flower unfold on the nose of this delicately honeyed wine. On the palate, sweet white-peach and yellow-cherry flavors run just a shade off dry. Easy going and fresh, it finishes long, with a streak of tangerine acidity.",
         "Dom Off-Dry",
         "89",
         "18.0",
         "Mosel",
         null,
         null,
         "Anna Lee C. Iijima",
         null,
         "Bischöfliche Weingüter Trier 2015 Dom Off-Dry Riesling (Mosel)",
         "Riesling",
         "Bischöfliche Weingüter Trier"
        ],
        [
         "18",
         "Italy",
         "Notes of cherry and raspberry open the nose of this organic wine. It is easy on the palate, with a lean, fruit-filled finish.",
         "Vriccio",
         "86",
         "20.0",
         "Southern Italy",
         "Puglia",
         null,
         null,
         null,
         "Antica Enotria 2011 Vriccio Primitivo (Puglia)",
         "Primitivo",
         "Antica Enotria"
        ],
        [
         "19",
         "US",
         "A blend of Ciel du Cheval and Force Majeure vineyards, this wine brings a mix of pomegranate, dark raspberry, dried tobacco, crushed rock and peppery spices. It explodes on the palate with rich, dense, cranberry and spice flavors that linger.",
         "Crazy Mary",
         "93",
         "48.0",
         "Washington",
         "Red Mountain",
         "Columbia Valley",
         "Sean P. Sullivan",
         "@wawinereport",
         "Mark Ryan 2012 Crazy Mary Mourvèdre (Red Mountain)",
         "Mourvèdre",
         "Mark Ryan"
        ],
        [
         "20",
         "Chile",
         "Fleshy, tropical aromas with a touch of varietal snap set up a green palate with sweet lime and scallion flavors. The finish shows ripeness and tropical notes before turning heavy. Drink this well chilled.",
         "U Estate Grown",
         "85",
         "11.0",
         "Maipo Valley",
         null,
         null,
         "Michael Schachner",
         "@wineschach",
         "Undurraga 2012 U Estate Grown Sauvignon Blanc (Maipo Valley)",
         "Sauvignon Blanc",
         "Undurraga"
        ],
        [
         "21",
         "Australia",
         "This restrained, medium-bodied Cabernet Sauvignon is a solid value. On the nose, cedar, vanilla and cassis elements blend together easily, while brown sugar and vanilla flavors are supported by just enough cassis and black cherry fruit. Drink now–2028.",
         "Two Passions",
         "90",
         "20.0",
         "Western Australia",
         "Margaret River",
         null,
         "Joe Czerwinski",
         "@JoeCz",
         "Wildberry Estate 2013 Two Passions Cabernet Sauvignon (Margaret River)",
         "Cabernet Sauvignon",
         "Wildberry Estate"
        ],
        [
         "22",
         "US",
         "Intense perfume and floral notes overcome ripe apple aromas. It's dry on the palate with flavors of savory apple and green herbs, but feels a bit flat and heavy in mouthfeel.",
         null,
         "83",
         "25.0",
         "New York",
         "North Fork of Long Island",
         "Long Island",
         "Anna Lee C. Iijima",
         null,
         "Palmer 2012 Albariño (North Fork of Long Island)",
         "Albariño",
         "Palmer"
        ],
        [
         "23",
         "US",
         "This cool climate region is well-suited to this grape, producing aromatic, elegant wines such as this without the over-the-top perfume that can drive consumers away. Subtle aromas suggest light talc, acacia and calla lily, while in the mouth this is soft and smooth. Overall it's just plain pretty, with details of apple and apple skin.",
         "Gorge Crest",
         "90",
         "28.0",
         "Oregon",
         "Columbia Gorge (OR)",
         "Oregon Other",
         "Paul Gregutt",
         "@paulgwine ",
         "Phelps Creek 2015 Gorge Crest Gewürztraminer (Columbia Gorge (OR))",
         "Gewürztraminer",
         "Phelps Creek"
        ],
        [
         "24",
         "Portugal",
         "A soft apple-tinged wine, with bright acidity that cuts right through. The wine is rounded, with just enough crispness. Ready to drink.",
         "Conde de Vimioso Colheita Seleccionada",
         "86",
         "9.0",
         "Tejo",
         null,
         null,
         "Roger Voss",
         "@vossroger",
         "Falua 2010 Conde de Vimioso Colheita Seleccionada White (Tejo)",
         "Portuguese White",
         "Falua"
        ],
        [
         "25",
         "Italy",
         "Here's a Pinot Grigio that ranks high in terms of fresh, easy-drinking white wine options from northern Italy. The bouquet delivers crisp tones of honeydew melon, herb and a distant mineral dusting. In the mouth, it shows balanced freshness and a bright peach finish.",
         null,
         "87",
         "17.0",
         "Northeastern Italy",
         "Alto Adige",
         null,
         null,
         null,
         "Erste Neue 2011 Pinot Grigio (Alto Adige)",
         "Pinot Grigio",
         "Erste Neue"
        ],
        [
         "26",
         "Spain",
         "Sweaty and pickled at first, although airing reveals some hidden dark fruit aromas. The palate is grapy and accented by black plum, yet it finishes salty and cheeky, with grabby tannins. Has it good points but lacks direction and elegance.",
         "Viña Tobía",
         "84",
         "11.0",
         "Northern Spain",
         "Rioja",
         null,
         "Michael Schachner",
         "@wineschach",
         "Bodegas Tobía 2005 Viña Tobía  (Rioja)",
         "Tempranillo",
         "Bodegas Tobía"
        ],
        [
         "27",
         "Italy",
         "This plush Syrah opens with a pretty ruby color and thick, almost syrupy, tones of blueberry and raspberry. The fruit aromas are followed by spice and roasted almonds and the wine is succulent and chewy to the very end.",
         "Una Viola Signature",
         "88",
         "16.0",
         "Sicily & Sardinia",
         "Sicilia",
         null,
         null,
         null,
         "Spadina 2006 Una Viola Signature Syrah (Sicilia)",
         "Syrah",
         "Spadina"
        ],
        [
         "28",
         "France",
         "This is pretty pale for a Tavel, with a coppery tinge to its pink color. Notes of lime zest, wet stone and modest cherry-berry notes finish on a bright citrus note.",
         null,
         "90",
         "24.0",
         "Rhône Valley",
         "Tavel",
         null,
         "Joe Czerwinski",
         "@JoeCz",
         "Prieuré de Montézargues 2014  Tavel",
         "Rosé",
         "Prieuré de Montézargues"
        ],
        [
         "29",
         "US",
         "This brilliant Sauvignon Blanc should be scooped up by sommeliers. It's exceptionally dry and tart in citrusy acids, with a mineral scour that's perfect for shellfish or savory appetizers. The flavors are of lemons, limes, gooseberries and white pepper. Beautiful and compelling.",
         null,
         "91",
         "17.0",
         "California",
         "Napa Valley",
         "Napa",
         null,
         null,
         "Broman 2008 Sauvignon Blanc (Napa Valley)",
         "Sauvignon Blanc",
         "Broman"
        ],
        [
         "30",
         "Argentina",
         "Foxy berry aromas are the lead scent, and they're followed by notes of wet dog and raspberry. This is full bodied and round as a ball, with earthy, lightly herbal flavors of red berries, thyme and rosemary. A warm, loamy finish brings oaky flavors and closing weight. Drink this blend of 70% Malbec and 30% Cabernet Sauvignon through 2016.",
         "Amancaya Gran Reserva",
         "89",
         "21.0",
         "Mendoza Province",
         "Mendoza",
         null,
         "Michael Schachner",
         "@wineschach",
         "Bodegas Caro 2011 Amancaya Gran Reserva Malbec-Cabernet Sauvignon (Mendoza)",
         "Malbec-Cabernet Sauvignon",
         "Bodegas Caro"
        ],
        [
         "31",
         "South Africa",
         "A decadent blend of ripe berries and rich oak characterizes this wine; sweet smoke and baking spice mingle harmoniously with notes of mashed raspberry and blackberry, accented by hints of hickory-cured bacon and raw cocoa nibs. The medium-weight mouth is structured and bold, with chewy tannins and heady flavors of plum and berry preserves, roasted coffee and sweet licorice. The finish is long and dry, and although this would certainly benefit from 5–10 years of cellaring time, it's approachable now with decanting.",
         "Redhill",
         "92",
         "38.0",
         "Stellenbosch",
         null,
         null,
         "Lauren Buzzeo",
         "@laurbuzz",
         "Simonsig 2011 Redhill Pinotage (Stellenbosch)",
         "Pinotage",
         "Simonsig"
        ],
        [
         "32",
         "US",
         "Tastes a bit medicinal, with a sweet-sour quality of lemons and pineapples, and is quite acidic. Lacks richness, but it's a decent everyday Chardonnay.",
         null,
         "83",
         "14.0",
         "California",
         "Central Coast",
         "Central Coast",
         null,
         null,
         "Castoro Cellars 2007 Chardonnay (Central Coast)",
         "Chardonnay",
         "Castoro Cellars"
        ],
        [
         "33",
         "Portugal",
         "Quinta do Pégo produces a light, fast maturing style of vintage Port. This 2009 has the bonus of great richness, although its fruity character and soft tannins suggest it will mature rapidly.",
         "Quinta do Pégo Vintage",
         "87",
         "28.0",
         "Port",
         null,
         null,
         "Roger Voss",
         "@vossroger",
         "Rozes 2009 Quinta do Pégo Vintage  (Port)",
         "Port",
         "Rozes"
        ],
        [
         "34",
         "US",
         "A surprisingly green tinge vies with tobacco, raspberry and woodspice for attention. This wine is full in feel with good concentration of flavors but ultimately the greenness provides distraction.",
         null,
         "88",
         "28.0",
         "Washington",
         "Columbia Valley (WA)",
         "Columbia Valley",
         "Sean P. Sullivan",
         "@wawinereport",
         "Tamarack Cellars 2012 Merlot (Columbia Valley (WA))",
         "Merlot",
         "Tamarack Cellars"
        ],
        [
         "35",
         "France",
         "Dense and dry, this is a tough, extracted wine. It has a hard edge followed by juicy acidity and will probably remain on the dry side.",
         null,
         "85",
         "20.0",
         "Bordeaux",
         "Blaye Côtes de Bordeaux",
         null,
         "Roger Voss",
         "@vossroger",
         "Château Grand Bourgeau 2015  Blaye Côtes de Bordeaux",
         "Bordeaux-style Red Blend",
         "Château Grand Bourgeau"
        ],
        [
         "36",
         "US",
         "This varietal Cabernet Sauvignon hails from the producer's organic Chiles Valley estate. It's muscular and lushly layered, with spicy leather and tobacco notes accented by a delicate touch of violet and supported by firm, grippy tannin. Drink now through 2033.",
         "Sievers Reserve",
         "93",
         "80.0",
         "California",
         "Napa Valley",
         "Napa",
         "Virginie Boone",
         "@vboone",
         "Volker Eisele Family Estate 2013 Sievers Reserve Cabernet Sauvignon (Napa Valley)",
         "Cabernet Sauvignon",
         "Volker Eisele Family Estate"
        ],
        [
         "37",
         "Spain",
         "Standard berry aromas show touches of raisin and earth, but not too much of either. It feels fresh, crisp and alert, with cherry tomato, berry fruit, tobacco and vanilla flavors. This feels healthy but not real deep or complex on the finish.",
         "Single Vineyard Roble",
         "86",
         "13.0",
         "Northern Spain",
         "Ribera del Duero",
         null,
         "Michael Schachner",
         "@wineschach",
         "Finca El Encinal 2009 Single Vineyard Roble  (Ribera del Duero)",
         "Tempranillo",
         "Finca El Encinal"
        ],
        [
         "38",
         "US",
         "The blend is mainly Cabernet Sauvignon, with the other four classic Bordeaux varieties added for complexity. The grapes were sourced from vineyards throughout Sonoma County, and the finished wine was aged in 75% new oak. It's very fine, with concentrated, intense blackberry, cherry and crème de cassis flavors.Minerality, in the form of granite, lends a lick of stone. It's still extremely tannic, and needs much more timebefore it begins to come around.",
         "La Joie",
         "96",
         "450.0",
         "California",
         "Sonoma County",
         "Sonoma",
         null,
         null,
         "Verité 2007 La Joie Red (Sonoma County)",
         "Bordeaux-style Red Blend",
         "Verité"
        ],
        [
         "39",
         "Portugal",
         "Named after Siza Vieira, the architect of the modern Adega Mayor winery, this dense, darkly colored wine is hugely ripe, with great fruits and rich coffee and spice flavors. It's a wine that perfectly fits the adjective opulent, powered by great fruits and dense tannins, with fine aging potential. Drink from 2017.",
         "Siza",
         "93",
         "75.0",
         "Alentejano",
         null,
         null,
         "Roger Voss",
         "@vossroger",
         "Adega Mayor 2009 Siza Alicante Bouschet (Alentejano)",
         "Alicante Bouschet",
         "Adega Mayor"
        ],
        [
         "40",
         "France",
         "A gorgeously perfumed wine, dominated by the ripest Cabernet Franc, combining richness and an intense structure. With its tannins, it will age well over many years. The fruit is finely textured, deliciously juicy, showing the most complex series of flavors.",
         null,
         "95",
         "295.0",
         "Bordeaux",
         "Saint-Émilion",
         null,
         "Roger Voss",
         "@vossroger",
         "Le Dôme 2009  Saint-Émilion",
         "Bordeaux-style Red Blend",
         "Le Dôme"
        ],
        [
         "41",
         "US",
         "New oak dominates this wine, giving it aromas of toast and vanilla. After decanting, the air brings out interesting notes of dried herbs and blackberries. Tastes very rich and flamboyant, almost sweet, like a chocolate berry pastry, and should develop over the next few years. Mainly Cabernet Sauvignon, with Sangiovese, Cabernet Franc and Petit Verdot.",
         "Meritaggio",
         "90",
         "55.0",
         "California",
         "Napa Valley",
         "Napa",
         null,
         null,
         "David Arthur 2008 Meritaggio Red (Napa Valley)",
         "Red Blend",
         "David Arthur"
        ],
        [
         "42",
         "Australia",
         "This blend of 79% Sauvignon Blanc and 21% Semillon is pungent and sweaty, with an almost Collio-like pungency. It's a bold, in-your-face passion-fruit monster that fades quickly on the finish.",
         "Miamup",
         "88",
         "23.0",
         "Western Australia",
         "Margaret River",
         null,
         "Joe Czerwinski",
         "@JoeCz",
         "Howard Park 2015 Miamup Sauvignon Blanc-Semillon (Margaret River)",
         "Sauvignon Blanc-Semillon",
         "Howard Park"
        ],
        [
         "43",
         "Portugal",
         "All the warm southern heat of the Alentejo is in this wine. It is rich, generous and full of ripe, black fruits. Berries and juicy damsons are spiced with pepper, rich tannins and lifted by acidity. It is a wine for big meat dishes, for stews, a powerful, no-holds-barred style. It will be ready to drink from 2017.",
         "Azul Portugal Reserva",
         "90",
         "40.0",
         "Alentejano",
         null,
         null,
         "Roger Voss",
         "@vossroger",
         "Wines & Winemakers 2013 Azul Portugal Reserva Red (Alentejano)",
         "Portuguese Red",
         "Wines & Winemakers"
        ],
        [
         "44",
         "South Africa",
         "73% Merlot, with Cabernet and Petite Verdot making up the difference, this is a finely crafted and delicious effort. Medium-bodied and creamy, the Merlot gives this wine a feminine feel, despite solid, soft tannins. Dark, extracted black fruits have some accents of forest and black olive, while leather adds to the cherry and cassis nose. Could use time to soften further, but very approachable now.",
         null,
         "90",
         "55.0",
         "Stellenbosch",
         null,
         null,
         null,
         null,
         "Tokara 2003 Red (Stellenbosch)",
         "Bordeaux-style Red Blend",
         "Tokara"
        ],
        [
         "45",
         "Georgia",
         "This inky red-violet wine has a nose of blueberry pie, green pepper and violet. It is slightly tart at first sip, with tannins that hide at first and then coat the tongue and gums. A rich flavor profile of blackberry, cranberry, anise, violet and white chocolate makes way for cherry and chocolate notes in the finish.",
         "Mukuzani",
         "90",
         "16.0",
         "Kakheti",
         null,
         null,
         "Mike DeSimone",
         "@worldwineguys",
         "Teliani Valley 2013 Mukuzani Saperavi (Kakheti)",
         "Saperavi",
         "Teliani Valley"
        ],
        [
         "46",
         "Italy",
         "Succulent steak or breaded veal would make good pairing partners to this elegant Brunello. The wine delivers oak spice, red fruit, black pepper and balsam notes of dried ginger and cola. The wine is lively and delicate with some astringency to the tannins that will soften in a few more years.",
         "Agricola Centolani",
         "90",
         null,
         "Tuscany",
         "Brunello di Montalcino",
         null,
         null,
         null,
         "Pietranera 2008 Agricola Centolani  (Brunello di Montalcino)",
         "Sangiovese Grosso",
         "Pietranera"
        ],
        [
         "47",
         "France",
         "This wine is firm with solid tannins. It has rich fruit and concentration with layers of blackberry and dark plums. It comes from a small seven-acre property and is aged for 15 months in wood. This impressive wine needs to age, so drink from 2022.",
         "Cuvée Excellence",
         "92",
         "35.0",
         "Bordeaux",
         "Pomerol",
         null,
         "Roger Voss",
         "@vossroger",
         "Château Lafleur du Roy 2015 Cuvée Excellence  (Pomerol)",
         "Bordeaux-style Red Blend",
         "Château Lafleur du Roy"
        ],
        [
         "48",
         "Italy",
         "This opens with delicate scents of field flower and white stone fruit. On the creamy off-dry palate, a soft mousse backs up sweet white peach, green apple and a candied citrus note while bright acidity lends freshness.",
         "Dry",
         "88",
         "22.0",
         "Veneto",
         "Valdobbiadene Prosecco Superiore",
         null,
         "Kerin O’Keefe",
         "@kerinokeefe",
         "Andreola 2016 Dry  (Valdobbiadene Prosecco Superiore)",
         "Glera",
         "Andreola"
        ],
        [
         "49",
         "France",
         "Steely, minerally and very textured, this has concentratio and taut layer of acidity to go with the lime fruit. Powered by its structure, it will age for 3–4 years.",
         "Vau de Vey Premier Cru",
         "92",
         "36.0",
         "Burgundy",
         "Chablis",
         null,
         "Roger Voss",
         "@vossroger",
         "Romain Bouchard 2010 Vau de Vey Premier Cru  (Chablis)",
         "Chardonnay",
         "Romain Bouchard"
        ]
       ],
       "shape": {
        "columns": 13,
        "rows": 58487
       }
      },
      "text/html": [
       "<div>\n",
       "<style scoped>\n",
       "    .dataframe tbody tr th:only-of-type {\n",
       "        vertical-align: middle;\n",
       "    }\n",
       "\n",
       "    .dataframe tbody tr th {\n",
       "        vertical-align: top;\n",
       "    }\n",
       "\n",
       "    .dataframe thead th {\n",
       "        text-align: right;\n",
       "    }\n",
       "</style>\n",
       "<table border=\"1\" class=\"dataframe\">\n",
       "  <thead>\n",
       "    <tr style=\"text-align: right;\">\n",
       "      <th></th>\n",
       "      <th>country</th>\n",
       "      <th>description</th>\n",
       "      <th>designation</th>\n",
       "      <th>points</th>\n",
       "      <th>price</th>\n",
       "      <th>province</th>\n",
       "      <th>region_1</th>\n",
       "      <th>region_2</th>\n",
       "      <th>taster_name</th>\n",
       "      <th>taster_twitter_handle</th>\n",
       "      <th>title</th>\n",
       "      <th>variety</th>\n",
       "      <th>winery</th>\n",
       "    </tr>\n",
       "  </thead>\n",
       "  <tbody>\n",
       "    <tr>\n",
       "      <th>0</th>\n",
       "      <td>Australia</td>\n",
       "      <td>Possibly a little sweet, this is a soft, easyg...</td>\n",
       "      <td>NaN</td>\n",
       "      <td>83</td>\n",
       "      <td>5.0</td>\n",
       "      <td>Australia Other</td>\n",
       "      <td>South Eastern Australia</td>\n",
       "      <td>NaN</td>\n",
       "      <td>Joe Czerwinski</td>\n",
       "      <td>@JoeCz</td>\n",
       "      <td>Banrock Station 2006 Chardonnay (South Eastern...</td>\n",
       "      <td>Chardonnay</td>\n",
       "      <td>Banrock Station</td>\n",
       "    </tr>\n",
       "    <tr>\n",
       "      <th>1</th>\n",
       "      <td>France</td>\n",
       "      <td>A soft, almost off dry wine that is full in th...</td>\n",
       "      <td>Réserve</td>\n",
       "      <td>85</td>\n",
       "      <td>12.0</td>\n",
       "      <td>Rhône Valley</td>\n",
       "      <td>Côtes du Rhône</td>\n",
       "      <td>NaN</td>\n",
       "      <td>Roger Voss</td>\n",
       "      <td>@vossroger</td>\n",
       "      <td>Cellier des Dauphins 2015 Réserve Rosé (Côtes ...</td>\n",
       "      <td>Rosé</td>\n",
       "      <td>Cellier des Dauphins</td>\n",
       "    </tr>\n",
       "    <tr>\n",
       "      <th>2</th>\n",
       "      <td>Spain</td>\n",
       "      <td>Generic white-fruit aromas of peach and apple ...</td>\n",
       "      <td>Estate Grown &amp; Bottled</td>\n",
       "      <td>86</td>\n",
       "      <td>9.0</td>\n",
       "      <td>Northern Spain</td>\n",
       "      <td>Rueda</td>\n",
       "      <td>NaN</td>\n",
       "      <td>Michael Schachner</td>\n",
       "      <td>@wineschach</td>\n",
       "      <td>Esperanza 2013 Estate Grown &amp; Bottled Verdejo-...</td>\n",
       "      <td>Verdejo-Viura</td>\n",
       "      <td>Esperanza</td>\n",
       "    </tr>\n",
       "    <tr>\n",
       "      <th>3</th>\n",
       "      <td>US</td>\n",
       "      <td>This is the winery's best Nebula in years. Whi...</td>\n",
       "      <td>Nebula</td>\n",
       "      <td>87</td>\n",
       "      <td>29.0</td>\n",
       "      <td>California</td>\n",
       "      <td>Paso Robles</td>\n",
       "      <td>Central Coast</td>\n",
       "      <td>NaN</td>\n",
       "      <td>NaN</td>\n",
       "      <td>Midnight 2010 Nebula Cabernet Sauvignon (Paso ...</td>\n",
       "      <td>Cabernet Sauvignon</td>\n",
       "      <td>Midnight</td>\n",
       "    </tr>\n",
       "    <tr>\n",
       "      <th>4</th>\n",
       "      <td>US</td>\n",
       "      <td>This is a very rich Pinot whose primary virtue...</td>\n",
       "      <td>Wiley Vineyard</td>\n",
       "      <td>88</td>\n",
       "      <td>40.0</td>\n",
       "      <td>California</td>\n",
       "      <td>Anderson Valley</td>\n",
       "      <td>NaN</td>\n",
       "      <td>NaN</td>\n",
       "      <td>NaN</td>\n",
       "      <td>Harrington 2006 Wiley Vineyard Pinot Noir (And...</td>\n",
       "      <td>Pinot Noir</td>\n",
       "      <td>Harrington</td>\n",
       "    </tr>\n",
       "    <tr>\n",
       "      <th>...</th>\n",
       "      <td>...</td>\n",
       "      <td>...</td>\n",
       "      <td>...</td>\n",
       "      <td>...</td>\n",
       "      <td>...</td>\n",
       "      <td>...</td>\n",
       "      <td>...</td>\n",
       "      <td>...</td>\n",
       "      <td>...</td>\n",
       "      <td>...</td>\n",
       "      <td>...</td>\n",
       "      <td>...</td>\n",
       "      <td>...</td>\n",
       "    </tr>\n",
       "    <tr>\n",
       "      <th>58482</th>\n",
       "      <td>US</td>\n",
       "      <td>A solid effort from a dependable winery that u...</td>\n",
       "      <td>Winemaker's Reserve</td>\n",
       "      <td>88</td>\n",
       "      <td>35.0</td>\n",
       "      <td>California</td>\n",
       "      <td>Sonoma County</td>\n",
       "      <td>Sonoma</td>\n",
       "      <td>NaN</td>\n",
       "      <td>NaN</td>\n",
       "      <td>Château Souverain 1996 Winemaker's Reserve Cab...</td>\n",
       "      <td>Cabernet Sauvignon</td>\n",
       "      <td>Château Souverain</td>\n",
       "    </tr>\n",
       "    <tr>\n",
       "      <th>58483</th>\n",
       "      <td>Greece</td>\n",
       "      <td>Crushed thyme, pine resin and lemon start this...</td>\n",
       "      <td>Retsina of Attica</td>\n",
       "      <td>86</td>\n",
       "      <td>9.0</td>\n",
       "      <td>Attica</td>\n",
       "      <td>NaN</td>\n",
       "      <td>NaN</td>\n",
       "      <td>Susan Kostrzewa</td>\n",
       "      <td>@suskostrzewa</td>\n",
       "      <td>Kourtaki NV Retsina of Attica Savatiano (Attica)</td>\n",
       "      <td>Savatiano</td>\n",
       "      <td>Kourtaki</td>\n",
       "    </tr>\n",
       "    <tr>\n",
       "      <th>58484</th>\n",
       "      <td>Italy</td>\n",
       "      <td>Made from Negroamaro, this opens with aromas o...</td>\n",
       "      <td>NaN</td>\n",
       "      <td>87</td>\n",
       "      <td>15.0</td>\n",
       "      <td>Southern Italy</td>\n",
       "      <td>Salento</td>\n",
       "      <td>NaN</td>\n",
       "      <td>Kerin O’Keefe</td>\n",
       "      <td>@kerinokeefe</td>\n",
       "      <td>Masseria Altemura 2016 Rosato (Salento)</td>\n",
       "      <td>Rosato</td>\n",
       "      <td>Masseria Altemura</td>\n",
       "    </tr>\n",
       "    <tr>\n",
       "      <th>58485</th>\n",
       "      <td>US</td>\n",
       "      <td>This big, bold wine has the taste profile of a...</td>\n",
       "      <td>Estate Mae's Block Ravazzi Vineyard</td>\n",
       "      <td>88</td>\n",
       "      <td>32.0</td>\n",
       "      <td>California</td>\n",
       "      <td>Mendocino</td>\n",
       "      <td>NaN</td>\n",
       "      <td>Jim Gordon</td>\n",
       "      <td>@gordone_cellars</td>\n",
       "      <td>Jaxon Keys 2013 Estate Mae's Block Ravazzi Vin...</td>\n",
       "      <td>Zinfandel</td>\n",
       "      <td>Jaxon Keys</td>\n",
       "    </tr>\n",
       "    <tr>\n",
       "      <th>58486</th>\n",
       "      <td>Spain</td>\n",
       "      <td>Zingy and sort of floral on the nose, but fair...</td>\n",
       "      <td>Blanco</td>\n",
       "      <td>82</td>\n",
       "      <td>10.0</td>\n",
       "      <td>Central Spain</td>\n",
       "      <td>La Mancha</td>\n",
       "      <td>NaN</td>\n",
       "      <td>Michael Schachner</td>\n",
       "      <td>@wineschach</td>\n",
       "      <td>Finca Antigua 2006 Blanco Viura (La Mancha)</td>\n",
       "      <td>Viura</td>\n",
       "      <td>Finca Antigua</td>\n",
       "    </tr>\n",
       "  </tbody>\n",
       "</table>\n",
       "<p>58487 rows × 13 columns</p>\n",
       "</div>"
      ],
      "text/plain": [
       "         country                                        description  \\\n",
       "0      Australia  Possibly a little sweet, this is a soft, easyg...   \n",
       "1         France  A soft, almost off dry wine that is full in th...   \n",
       "2          Spain  Generic white-fruit aromas of peach and apple ...   \n",
       "3             US  This is the winery's best Nebula in years. Whi...   \n",
       "4             US  This is a very rich Pinot whose primary virtue...   \n",
       "...          ...                                                ...   \n",
       "58482         US  A solid effort from a dependable winery that u...   \n",
       "58483     Greece  Crushed thyme, pine resin and lemon start this...   \n",
       "58484      Italy  Made from Negroamaro, this opens with aromas o...   \n",
       "58485         US  This big, bold wine has the taste profile of a...   \n",
       "58486      Spain  Zingy and sort of floral on the nose, but fair...   \n",
       "\n",
       "                               designation  points  price         province  \\\n",
       "0                                      NaN      83    5.0  Australia Other   \n",
       "1                                  Réserve      85   12.0     Rhône Valley   \n",
       "2                   Estate Grown & Bottled      86    9.0   Northern Spain   \n",
       "3                                   Nebula      87   29.0       California   \n",
       "4                           Wiley Vineyard      88   40.0       California   \n",
       "...                                    ...     ...    ...              ...   \n",
       "58482                  Winemaker's Reserve      88   35.0       California   \n",
       "58483                    Retsina of Attica      86    9.0           Attica   \n",
       "58484                                  NaN      87   15.0   Southern Italy   \n",
       "58485  Estate Mae's Block Ravazzi Vineyard      88   32.0       California   \n",
       "58486                               Blanco      82   10.0    Central Spain   \n",
       "\n",
       "                      region_1       region_2        taster_name  \\\n",
       "0      South Eastern Australia            NaN     Joe Czerwinski   \n",
       "1               Côtes du Rhône            NaN         Roger Voss   \n",
       "2                        Rueda            NaN  Michael Schachner   \n",
       "3                  Paso Robles  Central Coast                NaN   \n",
       "4              Anderson Valley            NaN                NaN   \n",
       "...                        ...            ...                ...   \n",
       "58482            Sonoma County         Sonoma                NaN   \n",
       "58483                      NaN            NaN    Susan Kostrzewa   \n",
       "58484                  Salento            NaN      Kerin O’Keefe   \n",
       "58485                Mendocino            NaN         Jim Gordon   \n",
       "58486                La Mancha            NaN  Michael Schachner   \n",
       "\n",
       "      taster_twitter_handle  \\\n",
       "0                    @JoeCz   \n",
       "1                @vossroger   \n",
       "2               @wineschach   \n",
       "3                       NaN   \n",
       "4                       NaN   \n",
       "...                     ...   \n",
       "58482                   NaN   \n",
       "58483         @suskostrzewa   \n",
       "58484          @kerinokeefe   \n",
       "58485      @gordone_cellars   \n",
       "58486           @wineschach   \n",
       "\n",
       "                                                   title             variety  \\\n",
       "0      Banrock Station 2006 Chardonnay (South Eastern...          Chardonnay   \n",
       "1      Cellier des Dauphins 2015 Réserve Rosé (Côtes ...                Rosé   \n",
       "2      Esperanza 2013 Estate Grown & Bottled Verdejo-...       Verdejo-Viura   \n",
       "3      Midnight 2010 Nebula Cabernet Sauvignon (Paso ...  Cabernet Sauvignon   \n",
       "4      Harrington 2006 Wiley Vineyard Pinot Noir (And...          Pinot Noir   \n",
       "...                                                  ...                 ...   \n",
       "58482  Château Souverain 1996 Winemaker's Reserve Cab...  Cabernet Sauvignon   \n",
       "58483   Kourtaki NV Retsina of Attica Savatiano (Attica)           Savatiano   \n",
       "58484            Masseria Altemura 2016 Rosato (Salento)              Rosato   \n",
       "58485  Jaxon Keys 2013 Estate Mae's Block Ravazzi Vin...           Zinfandel   \n",
       "58486        Finca Antigua 2006 Blanco Viura (La Mancha)               Viura   \n",
       "\n",
       "                     winery  \n",
       "0           Banrock Station  \n",
       "1      Cellier des Dauphins  \n",
       "2                 Esperanza  \n",
       "3                  Midnight  \n",
       "4                Harrington  \n",
       "...                     ...  \n",
       "58482     Château Souverain  \n",
       "58483              Kourtaki  \n",
       "58484     Masseria Altemura  \n",
       "58485            Jaxon Keys  \n",
       "58486         Finca Antigua  \n",
       "\n",
       "[58487 rows x 13 columns]"
      ]
     },
     "execution_count": 10,
     "metadata": {},
     "output_type": "execute_result"
    }
   ],
   "source": [
    "reviews.reset_index(drop=True)\n"
   ]
  },
  {
   "cell_type": "markdown",
   "id": "a8951789",
   "metadata": {},
   "source": [
    "### Viewing, Selecting, Assigning & Missing Data"
   ]
  },
  {
   "cell_type": "code",
   "execution_count": 11,
   "id": "279ef38a",
   "metadata": {},
   "outputs": [
    {
     "name": "stdout",
     "output_type": "stream",
     "text": [
      "<class 'pandas.core.frame.DataFrame'>\n",
      "RangeIndex: 58487 entries, 0 to 58486\n",
      "Data columns (total 13 columns):\n",
      " #   Column                 Non-Null Count  Dtype  \n",
      "---  ------                 --------------  -----  \n",
      " 0   country                58459 non-null  object \n",
      " 1   description            58487 non-null  object \n",
      " 2   designation            41548 non-null  object \n",
      " 3   points                 58487 non-null  int64  \n",
      " 4   price                  54404 non-null  float64\n",
      " 5   province               58459 non-null  object \n",
      " 6   region_1               48949 non-null  object \n",
      " 7   region_2               22686 non-null  object \n",
      " 8   taster_name            46635 non-null  object \n",
      " 9   taster_twitter_handle  44376 non-null  object \n",
      " 10  title                  58487 non-null  object \n",
      " 11  variety                58487 non-null  object \n",
      " 12  winery                 58487 non-null  object \n",
      "dtypes: float64(1), int64(1), object(11)\n",
      "memory usage: 5.8+ MB\n"
     ]
    }
   ],
   "source": [
    "reviews.info()\n"
   ]
  },
  {
   "cell_type": "code",
   "execution_count": 12,
   "id": "fd639692",
   "metadata": {},
   "outputs": [
    {
     "data": {
      "text/plain": [
       "(58487, 13)"
      ]
     },
     "execution_count": 12,
     "metadata": {},
     "output_type": "execute_result"
    }
   ],
   "source": [
    "reviews.shape"
   ]
  },
  {
   "cell_type": "code",
   "execution_count": null,
   "metadata": {},
   "outputs": [],
   "source": []
  },
  {
   "cell_type": "code",
   "execution_count": null,
   "metadata": {},
   "outputs": [],
   "source": []
  },
  {
   "cell_type": "markdown",
   "id": "d6f00e99",
   "metadata": {},
   "source": [
    "### Selecting Data\n",
    "\n",
    "Also called **indexing**, it is the most common operation in Pandas. We discuss 4 cases selecting data from a DataFrame:\n",
    "1. Selecting one **column** (as a Series)\n",
    "2. Selecting by **label**\n",
    "3. Selecting by **position**\n",
    "4. Selecting by **conditions**\n",
    "\n",
    "We will practice with the wine review DataFrame."
   ]
  },
  {
   "cell_type": "code",
   "execution_count": 13,
   "id": "17c0eb7b",
   "metadata": {},
   "outputs": [
    {
     "data": {
      "application/vnd.microsoft.datawrangler.viewer.v0+json": {
       "columns": [
        {
         "name": "index",
         "rawType": "int64",
         "type": "integer"
        },
        {
         "name": "country",
         "rawType": "object",
         "type": "string"
        },
        {
         "name": "description",
         "rawType": "object",
         "type": "string"
        },
        {
         "name": "designation",
         "rawType": "object",
         "type": "unknown"
        },
        {
         "name": "points",
         "rawType": "int64",
         "type": "integer"
        },
        {
         "name": "price",
         "rawType": "float64",
         "type": "float"
        },
        {
         "name": "province",
         "rawType": "object",
         "type": "string"
        },
        {
         "name": "region_1",
         "rawType": "object",
         "type": "string"
        },
        {
         "name": "region_2",
         "rawType": "object",
         "type": "unknown"
        },
        {
         "name": "taster_name",
         "rawType": "object",
         "type": "unknown"
        },
        {
         "name": "taster_twitter_handle",
         "rawType": "object",
         "type": "unknown"
        },
        {
         "name": "title",
         "rawType": "object",
         "type": "string"
        },
        {
         "name": "variety",
         "rawType": "object",
         "type": "string"
        },
        {
         "name": "winery",
         "rawType": "object",
         "type": "string"
        }
       ],
       "ref": "ba3021b1-b8e4-4880-baa9-cd02cacace92",
       "rows": [
        [
         "0",
         "Australia",
         "Possibly a little sweet, this is a soft, easygoing Chardonnay marked by clean, modest pear and melon flavors.",
         null,
         "83",
         "5.0",
         "Australia Other",
         "South Eastern Australia",
         null,
         "Joe Czerwinski",
         "@JoeCz",
         "Banrock Station 2006 Chardonnay (South Eastern Australia)",
         "Chardonnay",
         "Banrock Station"
        ],
        [
         "1",
         "France",
         "A soft, almost off dry wine that is full in the mouth. It has caramel and spice flavors as well as light acidity. The wine feels weighty and definitely needs food.",
         "Réserve",
         "85",
         "12.0",
         "Rhône Valley",
         "Côtes du Rhône",
         null,
         "Roger Voss",
         "@vossroger",
         "Cellier des Dauphins 2015 Réserve Rosé (Côtes du Rhône)",
         "Rosé",
         "Cellier des Dauphins"
        ],
        [
         "2",
         "Spain",
         "Generic white-fruit aromas of peach and apple are slightly pithy. This feels good but innocuous, while flavors of apple and stone fruits lose some of their snap and directness on a tropical-tasting finish.",
         "Estate Grown & Bottled",
         "86",
         "9.0",
         "Northern Spain",
         "Rueda",
         null,
         "Michael Schachner",
         "@wineschach",
         "Esperanza 2013 Estate Grown & Bottled Verdejo-Viura (Rueda)",
         "Verdejo-Viura",
         "Esperanza"
        ],
        [
         "3",
         "US",
         "This is the winery's best Nebula in years. While it's still a little on the soft, sweet side, the cool vintage has resonated in the wine's flavor, giving it a good structure housing cherry, currant and sandalwood flavors. Drink now.",
         "Nebula",
         "87",
         "29.0",
         "California",
         "Paso Robles",
         "Central Coast",
         null,
         null,
         "Midnight 2010 Nebula Cabernet Sauvignon (Paso Robles)",
         "Cabernet Sauvignon",
         "Midnight"
        ],
        [
         "4",
         "US",
         "This is a very rich Pinot whose primary virtue is fruit. It just explodes with delicious cherry jam, red currant, licorice and mocha flavors. Dry and crisply acidic, it's a beautiful wine for early drinking.",
         "Wiley Vineyard",
         "88",
         "40.0",
         "California",
         "Anderson Valley",
         null,
         null,
         null,
         "Harrington 2006 Wiley Vineyard Pinot Noir (Anderson Valley)",
         "Pinot Noir",
         "Harrington"
        ]
       ],
       "shape": {
        "columns": 13,
        "rows": 5
       }
      },
      "text/html": [
       "<div>\n",
       "<style scoped>\n",
       "    .dataframe tbody tr th:only-of-type {\n",
       "        vertical-align: middle;\n",
       "    }\n",
       "\n",
       "    .dataframe tbody tr th {\n",
       "        vertical-align: top;\n",
       "    }\n",
       "\n",
       "    .dataframe thead th {\n",
       "        text-align: right;\n",
       "    }\n",
       "</style>\n",
       "<table border=\"1\" class=\"dataframe\">\n",
       "  <thead>\n",
       "    <tr style=\"text-align: right;\">\n",
       "      <th></th>\n",
       "      <th>country</th>\n",
       "      <th>description</th>\n",
       "      <th>designation</th>\n",
       "      <th>points</th>\n",
       "      <th>price</th>\n",
       "      <th>province</th>\n",
       "      <th>region_1</th>\n",
       "      <th>region_2</th>\n",
       "      <th>taster_name</th>\n",
       "      <th>taster_twitter_handle</th>\n",
       "      <th>title</th>\n",
       "      <th>variety</th>\n",
       "      <th>winery</th>\n",
       "    </tr>\n",
       "  </thead>\n",
       "  <tbody>\n",
       "    <tr>\n",
       "      <th>0</th>\n",
       "      <td>Australia</td>\n",
       "      <td>Possibly a little sweet, this is a soft, easyg...</td>\n",
       "      <td>NaN</td>\n",
       "      <td>83</td>\n",
       "      <td>5.0</td>\n",
       "      <td>Australia Other</td>\n",
       "      <td>South Eastern Australia</td>\n",
       "      <td>NaN</td>\n",
       "      <td>Joe Czerwinski</td>\n",
       "      <td>@JoeCz</td>\n",
       "      <td>Banrock Station 2006 Chardonnay (South Eastern...</td>\n",
       "      <td>Chardonnay</td>\n",
       "      <td>Banrock Station</td>\n",
       "    </tr>\n",
       "    <tr>\n",
       "      <th>1</th>\n",
       "      <td>France</td>\n",
       "      <td>A soft, almost off dry wine that is full in th...</td>\n",
       "      <td>Réserve</td>\n",
       "      <td>85</td>\n",
       "      <td>12.0</td>\n",
       "      <td>Rhône Valley</td>\n",
       "      <td>Côtes du Rhône</td>\n",
       "      <td>NaN</td>\n",
       "      <td>Roger Voss</td>\n",
       "      <td>@vossroger</td>\n",
       "      <td>Cellier des Dauphins 2015 Réserve Rosé (Côtes ...</td>\n",
       "      <td>Rosé</td>\n",
       "      <td>Cellier des Dauphins</td>\n",
       "    </tr>\n",
       "    <tr>\n",
       "      <th>2</th>\n",
       "      <td>Spain</td>\n",
       "      <td>Generic white-fruit aromas of peach and apple ...</td>\n",
       "      <td>Estate Grown &amp; Bottled</td>\n",
       "      <td>86</td>\n",
       "      <td>9.0</td>\n",
       "      <td>Northern Spain</td>\n",
       "      <td>Rueda</td>\n",
       "      <td>NaN</td>\n",
       "      <td>Michael Schachner</td>\n",
       "      <td>@wineschach</td>\n",
       "      <td>Esperanza 2013 Estate Grown &amp; Bottled Verdejo-...</td>\n",
       "      <td>Verdejo-Viura</td>\n",
       "      <td>Esperanza</td>\n",
       "    </tr>\n",
       "    <tr>\n",
       "      <th>3</th>\n",
       "      <td>US</td>\n",
       "      <td>This is the winery's best Nebula in years. Whi...</td>\n",
       "      <td>Nebula</td>\n",
       "      <td>87</td>\n",
       "      <td>29.0</td>\n",
       "      <td>California</td>\n",
       "      <td>Paso Robles</td>\n",
       "      <td>Central Coast</td>\n",
       "      <td>NaN</td>\n",
       "      <td>NaN</td>\n",
       "      <td>Midnight 2010 Nebula Cabernet Sauvignon (Paso ...</td>\n",
       "      <td>Cabernet Sauvignon</td>\n",
       "      <td>Midnight</td>\n",
       "    </tr>\n",
       "    <tr>\n",
       "      <th>4</th>\n",
       "      <td>US</td>\n",
       "      <td>This is a very rich Pinot whose primary virtue...</td>\n",
       "      <td>Wiley Vineyard</td>\n",
       "      <td>88</td>\n",
       "      <td>40.0</td>\n",
       "      <td>California</td>\n",
       "      <td>Anderson Valley</td>\n",
       "      <td>NaN</td>\n",
       "      <td>NaN</td>\n",
       "      <td>NaN</td>\n",
       "      <td>Harrington 2006 Wiley Vineyard Pinot Noir (And...</td>\n",
       "      <td>Pinot Noir</td>\n",
       "      <td>Harrington</td>\n",
       "    </tr>\n",
       "  </tbody>\n",
       "</table>\n",
       "</div>"
      ],
      "text/plain": [
       "     country                                        description  \\\n",
       "0  Australia  Possibly a little sweet, this is a soft, easyg...   \n",
       "1     France  A soft, almost off dry wine that is full in th...   \n",
       "2      Spain  Generic white-fruit aromas of peach and apple ...   \n",
       "3         US  This is the winery's best Nebula in years. Whi...   \n",
       "4         US  This is a very rich Pinot whose primary virtue...   \n",
       "\n",
       "              designation  points  price         province  \\\n",
       "0                     NaN      83    5.0  Australia Other   \n",
       "1                 Réserve      85   12.0     Rhône Valley   \n",
       "2  Estate Grown & Bottled      86    9.0   Northern Spain   \n",
       "3                  Nebula      87   29.0       California   \n",
       "4          Wiley Vineyard      88   40.0       California   \n",
       "\n",
       "                  region_1       region_2        taster_name  \\\n",
       "0  South Eastern Australia            NaN     Joe Czerwinski   \n",
       "1           Côtes du Rhône            NaN         Roger Voss   \n",
       "2                    Rueda            NaN  Michael Schachner   \n",
       "3              Paso Robles  Central Coast                NaN   \n",
       "4          Anderson Valley            NaN                NaN   \n",
       "\n",
       "  taster_twitter_handle                                              title  \\\n",
       "0                @JoeCz  Banrock Station 2006 Chardonnay (South Eastern...   \n",
       "1            @vossroger  Cellier des Dauphins 2015 Réserve Rosé (Côtes ...   \n",
       "2           @wineschach  Esperanza 2013 Estate Grown & Bottled Verdejo-...   \n",
       "3                   NaN  Midnight 2010 Nebula Cabernet Sauvignon (Paso ...   \n",
       "4                   NaN  Harrington 2006 Wiley Vineyard Pinot Noir (And...   \n",
       "\n",
       "              variety                winery  \n",
       "0          Chardonnay       Banrock Station  \n",
       "1                Rosé  Cellier des Dauphins  \n",
       "2       Verdejo-Viura             Esperanza  \n",
       "3  Cabernet Sauvignon              Midnight  \n",
       "4          Pinot Noir            Harrington  "
      ]
     },
     "execution_count": 13,
     "metadata": {},
     "output_type": "execute_result"
    }
   ],
   "source": [
    "reviews.head()"
   ]
  },
  {
   "cell_type": "markdown",
   "id": "64af417f",
   "metadata": {},
   "source": [
    "**1. Selecting a column**"
   ]
  },
  {
   "cell_type": "code",
   "execution_count": 14,
   "id": "27c1f656",
   "metadata": {},
   "outputs": [
    {
     "data": {
      "application/vnd.microsoft.datawrangler.viewer.v0+json": {
       "columns": [
        {
         "name": "index",
         "rawType": "int64",
         "type": "integer"
        },
        {
         "name": "country",
         "rawType": "object",
         "type": "unknown"
        }
       ],
       "ref": "d5ab6784-1627-4051-8d1e-d48c3ba88665",
       "rows": [
        [
         "0",
         "Australia"
        ],
        [
         "1",
         "France"
        ],
        [
         "2",
         "Spain"
        ],
        [
         "3",
         "US"
        ],
        [
         "4",
         "US"
        ],
        [
         "5",
         "US"
        ],
        [
         "6",
         "US"
        ],
        [
         "7",
         "Italy"
        ],
        [
         "8",
         "US"
        ],
        [
         "9",
         "France"
        ],
        [
         "10",
         "US"
        ],
        [
         "11",
         "France"
        ],
        [
         "12",
         "France"
        ],
        [
         "13",
         "US"
        ],
        [
         "14",
         "Portugal"
        ],
        [
         "15",
         "Italy"
        ],
        [
         "16",
         "US"
        ],
        [
         "17",
         "Germany"
        ],
        [
         "18",
         "Italy"
        ],
        [
         "19",
         "US"
        ],
        [
         "20",
         "Chile"
        ],
        [
         "21",
         "Australia"
        ],
        [
         "22",
         "US"
        ],
        [
         "23",
         "US"
        ],
        [
         "24",
         "Portugal"
        ],
        [
         "25",
         "Italy"
        ],
        [
         "26",
         "Spain"
        ],
        [
         "27",
         "Italy"
        ],
        [
         "28",
         "France"
        ],
        [
         "29",
         "US"
        ],
        [
         "30",
         "Argentina"
        ],
        [
         "31",
         "South Africa"
        ],
        [
         "32",
         "US"
        ],
        [
         "33",
         "Portugal"
        ],
        [
         "34",
         "US"
        ],
        [
         "35",
         "France"
        ],
        [
         "36",
         "US"
        ],
        [
         "37",
         "Spain"
        ],
        [
         "38",
         "US"
        ],
        [
         "39",
         "Portugal"
        ],
        [
         "40",
         "France"
        ],
        [
         "41",
         "US"
        ],
        [
         "42",
         "Australia"
        ],
        [
         "43",
         "Portugal"
        ],
        [
         "44",
         "South Africa"
        ],
        [
         "45",
         "Georgia"
        ],
        [
         "46",
         "Italy"
        ],
        [
         "47",
         "France"
        ],
        [
         "48",
         "Italy"
        ],
        [
         "49",
         "France"
        ]
       ],
       "shape": {
        "columns": 1,
        "rows": 58487
       }
      },
      "text/plain": [
       "0        Australia\n",
       "1           France\n",
       "2            Spain\n",
       "3               US\n",
       "4               US\n",
       "           ...    \n",
       "58482           US\n",
       "58483       Greece\n",
       "58484        Italy\n",
       "58485           US\n",
       "58486        Spain\n",
       "Name: country, Length: 58487, dtype: object"
      ]
     },
     "execution_count": 14,
     "metadata": {},
     "output_type": "execute_result"
    }
   ],
   "source": [
    "reviews.country"
   ]
  },
  {
   "cell_type": "code",
   "execution_count": 15,
   "id": "b7f742c5",
   "metadata": {},
   "outputs": [
    {
     "data": {
      "application/vnd.microsoft.datawrangler.viewer.v0+json": {
       "columns": [
        {
         "name": "index",
         "rawType": "int64",
         "type": "integer"
        },
        {
         "name": "country",
         "rawType": "object",
         "type": "unknown"
        },
        {
         "name": "description",
         "rawType": "object",
         "type": "string"
        },
        {
         "name": "designation",
         "rawType": "object",
         "type": "unknown"
        },
        {
         "name": "points",
         "rawType": "int64",
         "type": "integer"
        },
        {
         "name": "price",
         "rawType": "float64",
         "type": "float"
        },
        {
         "name": "province",
         "rawType": "object",
         "type": "unknown"
        },
        {
         "name": "region_1",
         "rawType": "object",
         "type": "unknown"
        },
        {
         "name": "region_2",
         "rawType": "object",
         "type": "unknown"
        },
        {
         "name": "taster_name",
         "rawType": "object",
         "type": "unknown"
        },
        {
         "name": "taster_twitter_handle",
         "rawType": "object",
         "type": "unknown"
        },
        {
         "name": "title",
         "rawType": "object",
         "type": "string"
        },
        {
         "name": "variety",
         "rawType": "object",
         "type": "string"
        },
        {
         "name": "winery",
         "rawType": "object",
         "type": "string"
        }
       ],
       "ref": "e9b9c8d7-b9ba-482b-b69b-81139cce3aa1",
       "rows": [
        [
         "0",
         "Australia",
         "Possibly a little sweet, this is a soft, easygoing Chardonnay marked by clean, modest pear and melon flavors.",
         null,
         "83",
         "5.0",
         "Australia Other",
         "South Eastern Australia",
         null,
         "Joe Czerwinski",
         "@JoeCz",
         "Banrock Station 2006 Chardonnay (South Eastern Australia)",
         "Chardonnay",
         "Banrock Station"
        ],
        [
         "1",
         "France",
         "A soft, almost off dry wine that is full in the mouth. It has caramel and spice flavors as well as light acidity. The wine feels weighty and definitely needs food.",
         "Réserve",
         "85",
         "12.0",
         "Rhône Valley",
         "Côtes du Rhône",
         null,
         "Roger Voss",
         "@vossroger",
         "Cellier des Dauphins 2015 Réserve Rosé (Côtes du Rhône)",
         "Rosé",
         "Cellier des Dauphins"
        ],
        [
         "2",
         "Spain",
         "Generic white-fruit aromas of peach and apple are slightly pithy. This feels good but innocuous, while flavors of apple and stone fruits lose some of their snap and directness on a tropical-tasting finish.",
         "Estate Grown & Bottled",
         "86",
         "9.0",
         "Northern Spain",
         "Rueda",
         null,
         "Michael Schachner",
         "@wineschach",
         "Esperanza 2013 Estate Grown & Bottled Verdejo-Viura (Rueda)",
         "Verdejo-Viura",
         "Esperanza"
        ],
        [
         "3",
         "US",
         "This is the winery's best Nebula in years. While it's still a little on the soft, sweet side, the cool vintage has resonated in the wine's flavor, giving it a good structure housing cherry, currant and sandalwood flavors. Drink now.",
         "Nebula",
         "87",
         "29.0",
         "California",
         "Paso Robles",
         "Central Coast",
         null,
         null,
         "Midnight 2010 Nebula Cabernet Sauvignon (Paso Robles)",
         "Cabernet Sauvignon",
         "Midnight"
        ],
        [
         "4",
         "US",
         "This is a very rich Pinot whose primary virtue is fruit. It just explodes with delicious cherry jam, red currant, licorice and mocha flavors. Dry and crisply acidic, it's a beautiful wine for early drinking.",
         "Wiley Vineyard",
         "88",
         "40.0",
         "California",
         "Anderson Valley",
         null,
         null,
         null,
         "Harrington 2006 Wiley Vineyard Pinot Noir (Anderson Valley)",
         "Pinot Noir",
         "Harrington"
        ],
        [
         "5",
         "US",
         "An unabashedly rich and luscious wine, this combines ripe and fresh fruit flavors with luxurious spicy, buttery accents and an almost thick texture. With a subtext as savory as Udon broth it's practically a meal in a bottle. Call it full-bodied, full-flavored, ultrasmooth and impressive.",
         null,
         "90",
         "22.0",
         "California",
         "Sonoma County-Monterey County-Santa Barbara County",
         "California Other",
         "Jim Gordon",
         "@gordone_cellars",
         "Meiomi 2013 Chardonnay (Sonoma County-Monterey County-Santa Barbara County)",
         "Chardonnay",
         "Meiomi"
        ],
        [
         "6",
         "US",
         "This opens with a pleasing toasty aroma, following through on the palate. That deft touch of French oak (33% new) frames a solid core of strawberry preserves and Bing cherry fruit. It resonates on through a stylish, textural finish. Enjoy this immediately, and tuck away a few bottles to drink in five years.",
         "Five Faces",
         "90",
         "33.0",
         "Oregon",
         "Willamette Valley",
         "Willamette Valley",
         "Paul Gregutt",
         "@paulgwine ",
         "Fullerton 2014 Five Faces Pinot Noir (Willamette Valley)",
         "Pinot Noir",
         "Fullerton"
        ],
        [
         "7",
         "Italy",
         "Made with 100% Chardonnay, this creamy sparkler opens with aromas of hawthorn, peach and a whiff of bread crust. The palate reveals candied nectarine zest and golden apple alongside a soft perlage. It ends on a note of white almond.",
         "Saten",
         "89",
         "35.0",
         "Lombardy",
         "Franciacorta",
         null,
         "Kerin O’Keefe",
         "@kerinokeefe",
         "Lantieri de Paratico NV Saten Chardonnay (Franciacorta)",
         "Chardonnay",
         "Lantieri de Paratico"
        ],
        [
         "8",
         "US",
         "Here's a good, everyday Cab if you're looking for a bargain. It's dry, tannic and earthy, with suggestions of currants and oak.",
         null,
         "84",
         "10.0",
         "California",
         "Central Coast",
         "Central Coast",
         null,
         null,
         "Cupcake 2005 Cabernet Sauvignon (Central Coast)",
         "Cabernet Sauvignon",
         "Cupcake"
        ],
        [
         "9",
         "France",
         "Made from low-yielding, 70-year-old vines, this is a dense wine with an almost-dark structure and ripe red-plum flavors. Powerful, it obviously will be better with food and could even benefit from decanting before drinking. Age this concentrated wine until late 2016.",
         "Clos du Château",
         "92",
         "21.0",
         "Provence",
         "Côtes de Provence",
         null,
         "Roger Voss",
         "@vossroger",
         "Domaine du Clos Gautier 2015 Clos du Château Rosé (Côtes de Provence)",
         "Rosé",
         "Domaine du Clos Gautier"
        ],
        [
         "10",
         "US",
         "Amidst cola and sassafras on the nose, there's a bit of rotting cherry funk and some compost pile aromas to this intriguing single-vineyard Syrah from the Los Alamos area. The little bit of cherry sweetness on the palate gets more serious with chopped herbs, tobacco and cedar.",
         "White Hawk Vineyard",
         "89",
         "38.0",
         "California",
         "Santa Barbara County",
         "Central Coast",
         "Matt Kettmann",
         "@mattkettmann",
         "Deep Sea 2011 White Hawk Vineyard Syrah (Santa Barbara County)",
         "Syrah",
         "Deep Sea"
        ],
        [
         "11",
         "France",
         "This ripe, fruity wine has both freshness and a warmer, rounded character. Apricot and fresh white peach fruits are filled out with almond flavors as well as acidity. It's a wine to enjoy now, although it will be better from 2016",
         "Réserve des Vignerons",
         "86",
         "14.0",
         "Loire Valley",
         "Saumur",
         null,
         "Roger Voss",
         "@vossroger",
         "Cave de Saumur 2014 Réserve des Vignerons  (Saumur)",
         "Chenin Blanc",
         "Cave de Saumur"
        ],
        [
         "12",
         "France",
         "This is a smooth and creamy wine with soft apple flavors mingling with almonds and brisk acidity. It has a tight edge of minerality that adds a fine texture, offering a glimpse of the extra richness that can be expected in 2–3 years.",
         "Clos le Vigneau",
         "90",
         "18.0",
         "Loire Valley",
         "Vouvray",
         null,
         "Roger Voss",
         "@vossroger",
         "Château Gaudrelle 2010 Clos le Vigneau  (Vouvray)",
         "Chenin Blanc",
         "Château Gaudrelle"
        ],
        [
         "13",
         "US",
         "It shows ultrarich tannins and a flavor complexity ranging from briary wild blackberries and prunes to currants, nettles, sweet tea and softened cola. It's absolutely dry, despite or perhaps because of very high alcohol. The wine is unapologetic about that ripeness, instead asking only to be happily paired with barbecue.",
         null,
         "87",
         "20.0",
         "California",
         "Russian River Valley",
         "Sonoma",
         null,
         null,
         "Novy 2012 Zinfandel (Russian River Valley)",
         "Zinfandel",
         "Novy"
        ],
        [
         "14",
         "Portugal",
         "With a high proportion of generous Alicante Bouschet in the blend, this is a big, bold wine. It has smoky flavors showing a meaty character that's enhanced by 12 months wood aging. Generous tannins give a rich, structured character. It could still do with some aging, so drink from 2017.",
         "Santos da Casa Reserva",
         "91",
         "19.0",
         "Alentejano",
         null,
         null,
         "Roger Voss",
         "@vossroger",
         "Casca Wines 2011 Santos da Casa Reserva Red (Alentejano)",
         "Portuguese Red",
         "Casca Wines"
        ],
        [
         "15",
         "Italy",
         "Baked plum, blue flower, dark spice, vanilla and dried herb emerge in the glass. The dense, chewy palate offers mature black cherry, raspberry jam, fig and sweet cake spice alongside velvety tannins. It has hit its ideal drinking window so enjoy soon.",
         "Caleno Oro",
         "88",
         null,
         "Southern Italy",
         "Campania",
         null,
         "Kerin O’Keefe",
         "@kerinokeefe",
         "Nugnes 2009 Caleno Oro Aglianico (Campania)",
         "Aglianico",
         "Nugnes"
        ],
        [
         "16",
         "US",
         "The winery says this high-alcohol wine, made from Muscat and Verdelho, was aged for ten years in barrels. It has a floral, Sherry taste, with that distinctive yeasty flavor undergirding quite sweet pineapples, oranges, apricots and white chocolate.",
         "Dessert Wine",
         "86",
         "20.0",
         "California",
         "California",
         "California Other",
         null,
         null,
         "Elkhorn Peak NV Dessert Wine White (California)",
         "White Blend",
         "Elkhorn Peak"
        ],
        [
         "17",
         "Germany",
         "Hints of lemon shortbread, fresh apple and white flower unfold on the nose of this delicately honeyed wine. On the palate, sweet white-peach and yellow-cherry flavors run just a shade off dry. Easy going and fresh, it finishes long, with a streak of tangerine acidity.",
         "Dom Off-Dry",
         "89",
         "18.0",
         "Mosel",
         null,
         null,
         "Anna Lee C. Iijima",
         null,
         "Bischöfliche Weingüter Trier 2015 Dom Off-Dry Riesling (Mosel)",
         "Riesling",
         "Bischöfliche Weingüter Trier"
        ],
        [
         "18",
         "Italy",
         "Notes of cherry and raspberry open the nose of this organic wine. It is easy on the palate, with a lean, fruit-filled finish.",
         "Vriccio",
         "86",
         "20.0",
         "Southern Italy",
         "Puglia",
         null,
         null,
         null,
         "Antica Enotria 2011 Vriccio Primitivo (Puglia)",
         "Primitivo",
         "Antica Enotria"
        ],
        [
         "19",
         "US",
         "A blend of Ciel du Cheval and Force Majeure vineyards, this wine brings a mix of pomegranate, dark raspberry, dried tobacco, crushed rock and peppery spices. It explodes on the palate with rich, dense, cranberry and spice flavors that linger.",
         "Crazy Mary",
         "93",
         "48.0",
         "Washington",
         "Red Mountain",
         "Columbia Valley",
         "Sean P. Sullivan",
         "@wawinereport",
         "Mark Ryan 2012 Crazy Mary Mourvèdre (Red Mountain)",
         "Mourvèdre",
         "Mark Ryan"
        ],
        [
         "20",
         "Chile",
         "Fleshy, tropical aromas with a touch of varietal snap set up a green palate with sweet lime and scallion flavors. The finish shows ripeness and tropical notes before turning heavy. Drink this well chilled.",
         "U Estate Grown",
         "85",
         "11.0",
         "Maipo Valley",
         null,
         null,
         "Michael Schachner",
         "@wineschach",
         "Undurraga 2012 U Estate Grown Sauvignon Blanc (Maipo Valley)",
         "Sauvignon Blanc",
         "Undurraga"
        ],
        [
         "21",
         "Australia",
         "This restrained, medium-bodied Cabernet Sauvignon is a solid value. On the nose, cedar, vanilla and cassis elements blend together easily, while brown sugar and vanilla flavors are supported by just enough cassis and black cherry fruit. Drink now–2028.",
         "Two Passions",
         "90",
         "20.0",
         "Western Australia",
         "Margaret River",
         null,
         "Joe Czerwinski",
         "@JoeCz",
         "Wildberry Estate 2013 Two Passions Cabernet Sauvignon (Margaret River)",
         "Cabernet Sauvignon",
         "Wildberry Estate"
        ],
        [
         "22",
         "US",
         "Intense perfume and floral notes overcome ripe apple aromas. It's dry on the palate with flavors of savory apple and green herbs, but feels a bit flat and heavy in mouthfeel.",
         null,
         "83",
         "25.0",
         "New York",
         "North Fork of Long Island",
         "Long Island",
         "Anna Lee C. Iijima",
         null,
         "Palmer 2012 Albariño (North Fork of Long Island)",
         "Albariño",
         "Palmer"
        ],
        [
         "23",
         "US",
         "This cool climate region is well-suited to this grape, producing aromatic, elegant wines such as this without the over-the-top perfume that can drive consumers away. Subtle aromas suggest light talc, acacia and calla lily, while in the mouth this is soft and smooth. Overall it's just plain pretty, with details of apple and apple skin.",
         "Gorge Crest",
         "90",
         "28.0",
         "Oregon",
         "Columbia Gorge (OR)",
         "Oregon Other",
         "Paul Gregutt",
         "@paulgwine ",
         "Phelps Creek 2015 Gorge Crest Gewürztraminer (Columbia Gorge (OR))",
         "Gewürztraminer",
         "Phelps Creek"
        ],
        [
         "24",
         "Portugal",
         "A soft apple-tinged wine, with bright acidity that cuts right through. The wine is rounded, with just enough crispness. Ready to drink.",
         "Conde de Vimioso Colheita Seleccionada",
         "86",
         "9.0",
         "Tejo",
         null,
         null,
         "Roger Voss",
         "@vossroger",
         "Falua 2010 Conde de Vimioso Colheita Seleccionada White (Tejo)",
         "Portuguese White",
         "Falua"
        ],
        [
         "25",
         "Italy",
         "Here's a Pinot Grigio that ranks high in terms of fresh, easy-drinking white wine options from northern Italy. The bouquet delivers crisp tones of honeydew melon, herb and a distant mineral dusting. In the mouth, it shows balanced freshness and a bright peach finish.",
         null,
         "87",
         "17.0",
         "Northeastern Italy",
         "Alto Adige",
         null,
         null,
         null,
         "Erste Neue 2011 Pinot Grigio (Alto Adige)",
         "Pinot Grigio",
         "Erste Neue"
        ],
        [
         "26",
         "Spain",
         "Sweaty and pickled at first, although airing reveals some hidden dark fruit aromas. The palate is grapy and accented by black plum, yet it finishes salty and cheeky, with grabby tannins. Has it good points but lacks direction and elegance.",
         "Viña Tobía",
         "84",
         "11.0",
         "Northern Spain",
         "Rioja",
         null,
         "Michael Schachner",
         "@wineschach",
         "Bodegas Tobía 2005 Viña Tobía  (Rioja)",
         "Tempranillo",
         "Bodegas Tobía"
        ],
        [
         "27",
         "Italy",
         "This plush Syrah opens with a pretty ruby color and thick, almost syrupy, tones of blueberry and raspberry. The fruit aromas are followed by spice and roasted almonds and the wine is succulent and chewy to the very end.",
         "Una Viola Signature",
         "88",
         "16.0",
         "Sicily & Sardinia",
         "Sicilia",
         null,
         null,
         null,
         "Spadina 2006 Una Viola Signature Syrah (Sicilia)",
         "Syrah",
         "Spadina"
        ],
        [
         "28",
         "France",
         "This is pretty pale for a Tavel, with a coppery tinge to its pink color. Notes of lime zest, wet stone and modest cherry-berry notes finish on a bright citrus note.",
         null,
         "90",
         "24.0",
         "Rhône Valley",
         "Tavel",
         null,
         "Joe Czerwinski",
         "@JoeCz",
         "Prieuré de Montézargues 2014  Tavel",
         "Rosé",
         "Prieuré de Montézargues"
        ],
        [
         "29",
         "US",
         "This brilliant Sauvignon Blanc should be scooped up by sommeliers. It's exceptionally dry and tart in citrusy acids, with a mineral scour that's perfect for shellfish or savory appetizers. The flavors are of lemons, limes, gooseberries and white pepper. Beautiful and compelling.",
         null,
         "91",
         "17.0",
         "California",
         "Napa Valley",
         "Napa",
         null,
         null,
         "Broman 2008 Sauvignon Blanc (Napa Valley)",
         "Sauvignon Blanc",
         "Broman"
        ],
        [
         "30",
         "Argentina",
         "Foxy berry aromas are the lead scent, and they're followed by notes of wet dog and raspberry. This is full bodied and round as a ball, with earthy, lightly herbal flavors of red berries, thyme and rosemary. A warm, loamy finish brings oaky flavors and closing weight. Drink this blend of 70% Malbec and 30% Cabernet Sauvignon through 2016.",
         "Amancaya Gran Reserva",
         "89",
         "21.0",
         "Mendoza Province",
         "Mendoza",
         null,
         "Michael Schachner",
         "@wineschach",
         "Bodegas Caro 2011 Amancaya Gran Reserva Malbec-Cabernet Sauvignon (Mendoza)",
         "Malbec-Cabernet Sauvignon",
         "Bodegas Caro"
        ],
        [
         "31",
         "South Africa",
         "A decadent blend of ripe berries and rich oak characterizes this wine; sweet smoke and baking spice mingle harmoniously with notes of mashed raspberry and blackberry, accented by hints of hickory-cured bacon and raw cocoa nibs. The medium-weight mouth is structured and bold, with chewy tannins and heady flavors of plum and berry preserves, roasted coffee and sweet licorice. The finish is long and dry, and although this would certainly benefit from 5–10 years of cellaring time, it's approachable now with decanting.",
         "Redhill",
         "92",
         "38.0",
         "Stellenbosch",
         null,
         null,
         "Lauren Buzzeo",
         "@laurbuzz",
         "Simonsig 2011 Redhill Pinotage (Stellenbosch)",
         "Pinotage",
         "Simonsig"
        ],
        [
         "32",
         "US",
         "Tastes a bit medicinal, with a sweet-sour quality of lemons and pineapples, and is quite acidic. Lacks richness, but it's a decent everyday Chardonnay.",
         null,
         "83",
         "14.0",
         "California",
         "Central Coast",
         "Central Coast",
         null,
         null,
         "Castoro Cellars 2007 Chardonnay (Central Coast)",
         "Chardonnay",
         "Castoro Cellars"
        ],
        [
         "33",
         "Portugal",
         "Quinta do Pégo produces a light, fast maturing style of vintage Port. This 2009 has the bonus of great richness, although its fruity character and soft tannins suggest it will mature rapidly.",
         "Quinta do Pégo Vintage",
         "87",
         "28.0",
         "Port",
         null,
         null,
         "Roger Voss",
         "@vossroger",
         "Rozes 2009 Quinta do Pégo Vintage  (Port)",
         "Port",
         "Rozes"
        ],
        [
         "34",
         "US",
         "A surprisingly green tinge vies with tobacco, raspberry and woodspice for attention. This wine is full in feel with good concentration of flavors but ultimately the greenness provides distraction.",
         null,
         "88",
         "28.0",
         "Washington",
         "Columbia Valley (WA)",
         "Columbia Valley",
         "Sean P. Sullivan",
         "@wawinereport",
         "Tamarack Cellars 2012 Merlot (Columbia Valley (WA))",
         "Merlot",
         "Tamarack Cellars"
        ],
        [
         "35",
         "France",
         "Dense and dry, this is a tough, extracted wine. It has a hard edge followed by juicy acidity and will probably remain on the dry side.",
         null,
         "85",
         "20.0",
         "Bordeaux",
         "Blaye Côtes de Bordeaux",
         null,
         "Roger Voss",
         "@vossroger",
         "Château Grand Bourgeau 2015  Blaye Côtes de Bordeaux",
         "Bordeaux-style Red Blend",
         "Château Grand Bourgeau"
        ],
        [
         "36",
         "US",
         "This varietal Cabernet Sauvignon hails from the producer's organic Chiles Valley estate. It's muscular and lushly layered, with spicy leather and tobacco notes accented by a delicate touch of violet and supported by firm, grippy tannin. Drink now through 2033.",
         "Sievers Reserve",
         "93",
         "80.0",
         "California",
         "Napa Valley",
         "Napa",
         "Virginie Boone",
         "@vboone",
         "Volker Eisele Family Estate 2013 Sievers Reserve Cabernet Sauvignon (Napa Valley)",
         "Cabernet Sauvignon",
         "Volker Eisele Family Estate"
        ],
        [
         "37",
         "Spain",
         "Standard berry aromas show touches of raisin and earth, but not too much of either. It feels fresh, crisp and alert, with cherry tomato, berry fruit, tobacco and vanilla flavors. This feels healthy but not real deep or complex on the finish.",
         "Single Vineyard Roble",
         "86",
         "13.0",
         "Northern Spain",
         "Ribera del Duero",
         null,
         "Michael Schachner",
         "@wineschach",
         "Finca El Encinal 2009 Single Vineyard Roble  (Ribera del Duero)",
         "Tempranillo",
         "Finca El Encinal"
        ],
        [
         "38",
         "US",
         "The blend is mainly Cabernet Sauvignon, with the other four classic Bordeaux varieties added for complexity. The grapes were sourced from vineyards throughout Sonoma County, and the finished wine was aged in 75% new oak. It's very fine, with concentrated, intense blackberry, cherry and crème de cassis flavors.Minerality, in the form of granite, lends a lick of stone. It's still extremely tannic, and needs much more timebefore it begins to come around.",
         "La Joie",
         "96",
         "450.0",
         "California",
         "Sonoma County",
         "Sonoma",
         null,
         null,
         "Verité 2007 La Joie Red (Sonoma County)",
         "Bordeaux-style Red Blend",
         "Verité"
        ],
        [
         "39",
         "Portugal",
         "Named after Siza Vieira, the architect of the modern Adega Mayor winery, this dense, darkly colored wine is hugely ripe, with great fruits and rich coffee and spice flavors. It's a wine that perfectly fits the adjective opulent, powered by great fruits and dense tannins, with fine aging potential. Drink from 2017.",
         "Siza",
         "93",
         "75.0",
         "Alentejano",
         null,
         null,
         "Roger Voss",
         "@vossroger",
         "Adega Mayor 2009 Siza Alicante Bouschet (Alentejano)",
         "Alicante Bouschet",
         "Adega Mayor"
        ],
        [
         "40",
         "France",
         "A gorgeously perfumed wine, dominated by the ripest Cabernet Franc, combining richness and an intense structure. With its tannins, it will age well over many years. The fruit is finely textured, deliciously juicy, showing the most complex series of flavors.",
         null,
         "95",
         "295.0",
         "Bordeaux",
         "Saint-Émilion",
         null,
         "Roger Voss",
         "@vossroger",
         "Le Dôme 2009  Saint-Émilion",
         "Bordeaux-style Red Blend",
         "Le Dôme"
        ],
        [
         "41",
         "US",
         "New oak dominates this wine, giving it aromas of toast and vanilla. After decanting, the air brings out interesting notes of dried herbs and blackberries. Tastes very rich and flamboyant, almost sweet, like a chocolate berry pastry, and should develop over the next few years. Mainly Cabernet Sauvignon, with Sangiovese, Cabernet Franc and Petit Verdot.",
         "Meritaggio",
         "90",
         "55.0",
         "California",
         "Napa Valley",
         "Napa",
         null,
         null,
         "David Arthur 2008 Meritaggio Red (Napa Valley)",
         "Red Blend",
         "David Arthur"
        ],
        [
         "42",
         "Australia",
         "This blend of 79% Sauvignon Blanc and 21% Semillon is pungent and sweaty, with an almost Collio-like pungency. It's a bold, in-your-face passion-fruit monster that fades quickly on the finish.",
         "Miamup",
         "88",
         "23.0",
         "Western Australia",
         "Margaret River",
         null,
         "Joe Czerwinski",
         "@JoeCz",
         "Howard Park 2015 Miamup Sauvignon Blanc-Semillon (Margaret River)",
         "Sauvignon Blanc-Semillon",
         "Howard Park"
        ],
        [
         "43",
         "Portugal",
         "All the warm southern heat of the Alentejo is in this wine. It is rich, generous and full of ripe, black fruits. Berries and juicy damsons are spiced with pepper, rich tannins and lifted by acidity. It is a wine for big meat dishes, for stews, a powerful, no-holds-barred style. It will be ready to drink from 2017.",
         "Azul Portugal Reserva",
         "90",
         "40.0",
         "Alentejano",
         null,
         null,
         "Roger Voss",
         "@vossroger",
         "Wines & Winemakers 2013 Azul Portugal Reserva Red (Alentejano)",
         "Portuguese Red",
         "Wines & Winemakers"
        ],
        [
         "44",
         "South Africa",
         "73% Merlot, with Cabernet and Petite Verdot making up the difference, this is a finely crafted and delicious effort. Medium-bodied and creamy, the Merlot gives this wine a feminine feel, despite solid, soft tannins. Dark, extracted black fruits have some accents of forest and black olive, while leather adds to the cherry and cassis nose. Could use time to soften further, but very approachable now.",
         null,
         "90",
         "55.0",
         "Stellenbosch",
         null,
         null,
         null,
         null,
         "Tokara 2003 Red (Stellenbosch)",
         "Bordeaux-style Red Blend",
         "Tokara"
        ],
        [
         "45",
         "Georgia",
         "This inky red-violet wine has a nose of blueberry pie, green pepper and violet. It is slightly tart at first sip, with tannins that hide at first and then coat the tongue and gums. A rich flavor profile of blackberry, cranberry, anise, violet and white chocolate makes way for cherry and chocolate notes in the finish.",
         "Mukuzani",
         "90",
         "16.0",
         "Kakheti",
         null,
         null,
         "Mike DeSimone",
         "@worldwineguys",
         "Teliani Valley 2013 Mukuzani Saperavi (Kakheti)",
         "Saperavi",
         "Teliani Valley"
        ],
        [
         "46",
         "Italy",
         "Succulent steak or breaded veal would make good pairing partners to this elegant Brunello. The wine delivers oak spice, red fruit, black pepper and balsam notes of dried ginger and cola. The wine is lively and delicate with some astringency to the tannins that will soften in a few more years.",
         "Agricola Centolani",
         "90",
         null,
         "Tuscany",
         "Brunello di Montalcino",
         null,
         null,
         null,
         "Pietranera 2008 Agricola Centolani  (Brunello di Montalcino)",
         "Sangiovese Grosso",
         "Pietranera"
        ],
        [
         "47",
         "France",
         "This wine is firm with solid tannins. It has rich fruit and concentration with layers of blackberry and dark plums. It comes from a small seven-acre property and is aged for 15 months in wood. This impressive wine needs to age, so drink from 2022.",
         "Cuvée Excellence",
         "92",
         "35.0",
         "Bordeaux",
         "Pomerol",
         null,
         "Roger Voss",
         "@vossroger",
         "Château Lafleur du Roy 2015 Cuvée Excellence  (Pomerol)",
         "Bordeaux-style Red Blend",
         "Château Lafleur du Roy"
        ],
        [
         "48",
         "Italy",
         "This opens with delicate scents of field flower and white stone fruit. On the creamy off-dry palate, a soft mousse backs up sweet white peach, green apple and a candied citrus note while bright acidity lends freshness.",
         "Dry",
         "88",
         "22.0",
         "Veneto",
         "Valdobbiadene Prosecco Superiore",
         null,
         "Kerin O’Keefe",
         "@kerinokeefe",
         "Andreola 2016 Dry  (Valdobbiadene Prosecco Superiore)",
         "Glera",
         "Andreola"
        ],
        [
         "49",
         "France",
         "Steely, minerally and very textured, this has concentratio and taut layer of acidity to go with the lime fruit. Powered by its structure, it will age for 3–4 years.",
         "Vau de Vey Premier Cru",
         "92",
         "36.0",
         "Burgundy",
         "Chablis",
         null,
         "Roger Voss",
         "@vossroger",
         "Romain Bouchard 2010 Vau de Vey Premier Cru  (Chablis)",
         "Chardonnay",
         "Romain Bouchard"
        ]
       ],
       "shape": {
        "columns": 13,
        "rows": 58487
       }
      },
      "text/html": [
       "<div>\n",
       "<style scoped>\n",
       "    .dataframe tbody tr th:only-of-type {\n",
       "        vertical-align: middle;\n",
       "    }\n",
       "\n",
       "    .dataframe tbody tr th {\n",
       "        vertical-align: top;\n",
       "    }\n",
       "\n",
       "    .dataframe thead th {\n",
       "        text-align: right;\n",
       "    }\n",
       "</style>\n",
       "<table border=\"1\" class=\"dataframe\">\n",
       "  <thead>\n",
       "    <tr style=\"text-align: right;\">\n",
       "      <th></th>\n",
       "      <th>country</th>\n",
       "      <th>description</th>\n",
       "      <th>designation</th>\n",
       "      <th>points</th>\n",
       "      <th>price</th>\n",
       "      <th>province</th>\n",
       "      <th>region_1</th>\n",
       "      <th>region_2</th>\n",
       "      <th>taster_name</th>\n",
       "      <th>taster_twitter_handle</th>\n",
       "      <th>title</th>\n",
       "      <th>variety</th>\n",
       "      <th>winery</th>\n",
       "    </tr>\n",
       "  </thead>\n",
       "  <tbody>\n",
       "    <tr>\n",
       "      <th>0</th>\n",
       "      <td>Australia</td>\n",
       "      <td>Possibly a little sweet, this is a soft, easyg...</td>\n",
       "      <td>NaN</td>\n",
       "      <td>83</td>\n",
       "      <td>5.0</td>\n",
       "      <td>Australia Other</td>\n",
       "      <td>South Eastern Australia</td>\n",
       "      <td>NaN</td>\n",
       "      <td>Joe Czerwinski</td>\n",
       "      <td>@JoeCz</td>\n",
       "      <td>Banrock Station 2006 Chardonnay (South Eastern...</td>\n",
       "      <td>Chardonnay</td>\n",
       "      <td>Banrock Station</td>\n",
       "    </tr>\n",
       "    <tr>\n",
       "      <th>1</th>\n",
       "      <td>France</td>\n",
       "      <td>A soft, almost off dry wine that is full in th...</td>\n",
       "      <td>Réserve</td>\n",
       "      <td>85</td>\n",
       "      <td>12.0</td>\n",
       "      <td>Rhône Valley</td>\n",
       "      <td>Côtes du Rhône</td>\n",
       "      <td>NaN</td>\n",
       "      <td>Roger Voss</td>\n",
       "      <td>@vossroger</td>\n",
       "      <td>Cellier des Dauphins 2015 Réserve Rosé (Côtes ...</td>\n",
       "      <td>Rosé</td>\n",
       "      <td>Cellier des Dauphins</td>\n",
       "    </tr>\n",
       "    <tr>\n",
       "      <th>2</th>\n",
       "      <td>Spain</td>\n",
       "      <td>Generic white-fruit aromas of peach and apple ...</td>\n",
       "      <td>Estate Grown &amp; Bottled</td>\n",
       "      <td>86</td>\n",
       "      <td>9.0</td>\n",
       "      <td>Northern Spain</td>\n",
       "      <td>Rueda</td>\n",
       "      <td>NaN</td>\n",
       "      <td>Michael Schachner</td>\n",
       "      <td>@wineschach</td>\n",
       "      <td>Esperanza 2013 Estate Grown &amp; Bottled Verdejo-...</td>\n",
       "      <td>Verdejo-Viura</td>\n",
       "      <td>Esperanza</td>\n",
       "    </tr>\n",
       "    <tr>\n",
       "      <th>3</th>\n",
       "      <td>US</td>\n",
       "      <td>This is the winery's best Nebula in years. Whi...</td>\n",
       "      <td>Nebula</td>\n",
       "      <td>87</td>\n",
       "      <td>29.0</td>\n",
       "      <td>California</td>\n",
       "      <td>Paso Robles</td>\n",
       "      <td>Central Coast</td>\n",
       "      <td>NaN</td>\n",
       "      <td>NaN</td>\n",
       "      <td>Midnight 2010 Nebula Cabernet Sauvignon (Paso ...</td>\n",
       "      <td>Cabernet Sauvignon</td>\n",
       "      <td>Midnight</td>\n",
       "    </tr>\n",
       "    <tr>\n",
       "      <th>4</th>\n",
       "      <td>US</td>\n",
       "      <td>This is a very rich Pinot whose primary virtue...</td>\n",
       "      <td>Wiley Vineyard</td>\n",
       "      <td>88</td>\n",
       "      <td>40.0</td>\n",
       "      <td>California</td>\n",
       "      <td>Anderson Valley</td>\n",
       "      <td>NaN</td>\n",
       "      <td>NaN</td>\n",
       "      <td>NaN</td>\n",
       "      <td>Harrington 2006 Wiley Vineyard Pinot Noir (And...</td>\n",
       "      <td>Pinot Noir</td>\n",
       "      <td>Harrington</td>\n",
       "    </tr>\n",
       "    <tr>\n",
       "      <th>...</th>\n",
       "      <td>...</td>\n",
       "      <td>...</td>\n",
       "      <td>...</td>\n",
       "      <td>...</td>\n",
       "      <td>...</td>\n",
       "      <td>...</td>\n",
       "      <td>...</td>\n",
       "      <td>...</td>\n",
       "      <td>...</td>\n",
       "      <td>...</td>\n",
       "      <td>...</td>\n",
       "      <td>...</td>\n",
       "      <td>...</td>\n",
       "    </tr>\n",
       "    <tr>\n",
       "      <th>58482</th>\n",
       "      <td>US</td>\n",
       "      <td>A solid effort from a dependable winery that u...</td>\n",
       "      <td>Winemaker's Reserve</td>\n",
       "      <td>88</td>\n",
       "      <td>35.0</td>\n",
       "      <td>California</td>\n",
       "      <td>Sonoma County</td>\n",
       "      <td>Sonoma</td>\n",
       "      <td>NaN</td>\n",
       "      <td>NaN</td>\n",
       "      <td>Château Souverain 1996 Winemaker's Reserve Cab...</td>\n",
       "      <td>Cabernet Sauvignon</td>\n",
       "      <td>Château Souverain</td>\n",
       "    </tr>\n",
       "    <tr>\n",
       "      <th>58483</th>\n",
       "      <td>Greece</td>\n",
       "      <td>Crushed thyme, pine resin and lemon start this...</td>\n",
       "      <td>Retsina of Attica</td>\n",
       "      <td>86</td>\n",
       "      <td>9.0</td>\n",
       "      <td>Attica</td>\n",
       "      <td>NaN</td>\n",
       "      <td>NaN</td>\n",
       "      <td>Susan Kostrzewa</td>\n",
       "      <td>@suskostrzewa</td>\n",
       "      <td>Kourtaki NV Retsina of Attica Savatiano (Attica)</td>\n",
       "      <td>Savatiano</td>\n",
       "      <td>Kourtaki</td>\n",
       "    </tr>\n",
       "    <tr>\n",
       "      <th>58484</th>\n",
       "      <td>Italy</td>\n",
       "      <td>Made from Negroamaro, this opens with aromas o...</td>\n",
       "      <td>NaN</td>\n",
       "      <td>87</td>\n",
       "      <td>15.0</td>\n",
       "      <td>Southern Italy</td>\n",
       "      <td>Salento</td>\n",
       "      <td>NaN</td>\n",
       "      <td>Kerin O’Keefe</td>\n",
       "      <td>@kerinokeefe</td>\n",
       "      <td>Masseria Altemura 2016 Rosato (Salento)</td>\n",
       "      <td>Rosato</td>\n",
       "      <td>Masseria Altemura</td>\n",
       "    </tr>\n",
       "    <tr>\n",
       "      <th>58485</th>\n",
       "      <td>US</td>\n",
       "      <td>This big, bold wine has the taste profile of a...</td>\n",
       "      <td>Estate Mae's Block Ravazzi Vineyard</td>\n",
       "      <td>88</td>\n",
       "      <td>32.0</td>\n",
       "      <td>California</td>\n",
       "      <td>Mendocino</td>\n",
       "      <td>NaN</td>\n",
       "      <td>Jim Gordon</td>\n",
       "      <td>@gordone_cellars</td>\n",
       "      <td>Jaxon Keys 2013 Estate Mae's Block Ravazzi Vin...</td>\n",
       "      <td>Zinfandel</td>\n",
       "      <td>Jaxon Keys</td>\n",
       "    </tr>\n",
       "    <tr>\n",
       "      <th>58486</th>\n",
       "      <td>Spain</td>\n",
       "      <td>Zingy and sort of floral on the nose, but fair...</td>\n",
       "      <td>Blanco</td>\n",
       "      <td>82</td>\n",
       "      <td>10.0</td>\n",
       "      <td>Central Spain</td>\n",
       "      <td>La Mancha</td>\n",
       "      <td>NaN</td>\n",
       "      <td>Michael Schachner</td>\n",
       "      <td>@wineschach</td>\n",
       "      <td>Finca Antigua 2006 Blanco Viura (La Mancha)</td>\n",
       "      <td>Viura</td>\n",
       "      <td>Finca Antigua</td>\n",
       "    </tr>\n",
       "  </tbody>\n",
       "</table>\n",
       "<p>58487 rows × 13 columns</p>\n",
       "</div>"
      ],
      "text/plain": [
       "         country                                        description  \\\n",
       "0      Australia  Possibly a little sweet, this is a soft, easyg...   \n",
       "1         France  A soft, almost off dry wine that is full in th...   \n",
       "2          Spain  Generic white-fruit aromas of peach and apple ...   \n",
       "3             US  This is the winery's best Nebula in years. Whi...   \n",
       "4             US  This is a very rich Pinot whose primary virtue...   \n",
       "...          ...                                                ...   \n",
       "58482         US  A solid effort from a dependable winery that u...   \n",
       "58483     Greece  Crushed thyme, pine resin and lemon start this...   \n",
       "58484      Italy  Made from Negroamaro, this opens with aromas o...   \n",
       "58485         US  This big, bold wine has the taste profile of a...   \n",
       "58486      Spain  Zingy and sort of floral on the nose, but fair...   \n",
       "\n",
       "                               designation  points  price         province  \\\n",
       "0                                      NaN      83    5.0  Australia Other   \n",
       "1                                  Réserve      85   12.0     Rhône Valley   \n",
       "2                   Estate Grown & Bottled      86    9.0   Northern Spain   \n",
       "3                                   Nebula      87   29.0       California   \n",
       "4                           Wiley Vineyard      88   40.0       California   \n",
       "...                                    ...     ...    ...              ...   \n",
       "58482                  Winemaker's Reserve      88   35.0       California   \n",
       "58483                    Retsina of Attica      86    9.0           Attica   \n",
       "58484                                  NaN      87   15.0   Southern Italy   \n",
       "58485  Estate Mae's Block Ravazzi Vineyard      88   32.0       California   \n",
       "58486                               Blanco      82   10.0    Central Spain   \n",
       "\n",
       "                      region_1       region_2        taster_name  \\\n",
       "0      South Eastern Australia            NaN     Joe Czerwinski   \n",
       "1               Côtes du Rhône            NaN         Roger Voss   \n",
       "2                        Rueda            NaN  Michael Schachner   \n",
       "3                  Paso Robles  Central Coast                NaN   \n",
       "4              Anderson Valley            NaN                NaN   \n",
       "...                        ...            ...                ...   \n",
       "58482            Sonoma County         Sonoma                NaN   \n",
       "58483                      NaN            NaN    Susan Kostrzewa   \n",
       "58484                  Salento            NaN      Kerin O’Keefe   \n",
       "58485                Mendocino            NaN         Jim Gordon   \n",
       "58486                La Mancha            NaN  Michael Schachner   \n",
       "\n",
       "      taster_twitter_handle  \\\n",
       "0                    @JoeCz   \n",
       "1                @vossroger   \n",
       "2               @wineschach   \n",
       "3                       NaN   \n",
       "4                       NaN   \n",
       "...                     ...   \n",
       "58482                   NaN   \n",
       "58483         @suskostrzewa   \n",
       "58484          @kerinokeefe   \n",
       "58485      @gordone_cellars   \n",
       "58486           @wineschach   \n",
       "\n",
       "                                                   title             variety  \\\n",
       "0      Banrock Station 2006 Chardonnay (South Eastern...          Chardonnay   \n",
       "1      Cellier des Dauphins 2015 Réserve Rosé (Côtes ...                Rosé   \n",
       "2      Esperanza 2013 Estate Grown & Bottled Verdejo-...       Verdejo-Viura   \n",
       "3      Midnight 2010 Nebula Cabernet Sauvignon (Paso ...  Cabernet Sauvignon   \n",
       "4      Harrington 2006 Wiley Vineyard Pinot Noir (And...          Pinot Noir   \n",
       "...                                                  ...                 ...   \n",
       "58482  Château Souverain 1996 Winemaker's Reserve Cab...  Cabernet Sauvignon   \n",
       "58483   Kourtaki NV Retsina of Attica Savatiano (Attica)           Savatiano   \n",
       "58484            Masseria Altemura 2016 Rosato (Salento)              Rosato   \n",
       "58485  Jaxon Keys 2013 Estate Mae's Block Ravazzi Vin...           Zinfandel   \n",
       "58486        Finca Antigua 2006 Blanco Viura (La Mancha)               Viura   \n",
       "\n",
       "                     winery  \n",
       "0           Banrock Station  \n",
       "1      Cellier des Dauphins  \n",
       "2                 Esperanza  \n",
       "3                  Midnight  \n",
       "4                Harrington  \n",
       "...                     ...  \n",
       "58482     Château Souverain  \n",
       "58483              Kourtaki  \n",
       "58484     Masseria Altemura  \n",
       "58485            Jaxon Keys  \n",
       "58486         Finca Antigua  \n",
       "\n",
       "[58487 rows x 13 columns]"
      ]
     },
     "execution_count": 15,
     "metadata": {},
     "output_type": "execute_result"
    }
   ],
   "source": [
    "reviews.reset_index(drop=True)"
   ]
  },
  {
   "cell_type": "markdown",
   "id": "559f14f3",
   "metadata": {},
   "source": [
    "**2. Selecting by label**\n",
    "\n",
    "Here \"label\" means the \"row names\" `index` and the \"column names\" `columns`."
   ]
  },
  {
   "cell_type": "code",
   "execution_count": null,
   "id": "4007b53e",
   "metadata": {},
   "outputs": [],
   "source": []
  },
  {
   "cell_type": "markdown",
   "id": "31afdc16",
   "metadata": {},
   "source": [
    "Use `loc[]` to access part of the DataFrame by row and column **labels**. Note the `[]` instead of `()`."
   ]
  },
  {
   "cell_type": "code",
   "execution_count": 16,
   "id": "f6975ed2",
   "metadata": {},
   "outputs": [
    {
     "data": {
      "text/plain": [
       "'France'"
      ]
     },
     "execution_count": 16,
     "metadata": {},
     "output_type": "execute_result"
    }
   ],
   "source": [
    "reviews.loc[1, \"country\"]"
   ]
  },
  {
   "cell_type": "markdown",
   "id": "564679ec",
   "metadata": {},
   "source": [
    "We can use `:` inside `.loc[]` to access either all rows for a given column(s)"
   ]
  },
  {
   "cell_type": "code",
   "execution_count": 17,
   "id": "8b12b9ba",
   "metadata": {},
   "outputs": [
    {
     "data": {
      "application/vnd.microsoft.datawrangler.viewer.v0+json": {
       "columns": [
        {
         "name": "index",
         "rawType": "int64",
         "type": "integer"
        },
        {
         "name": "country",
         "rawType": "object",
         "type": "unknown"
        },
        {
         "name": "province",
         "rawType": "object",
         "type": "unknown"
        }
       ],
       "ref": "9e5a9617-dd1c-4657-aaaa-343546a34e9b",
       "rows": [
        [
         "0",
         "Australia",
         "Australia Other"
        ],
        [
         "1",
         "France",
         "Rhône Valley"
        ],
        [
         "2",
         "Spain",
         "Northern Spain"
        ],
        [
         "3",
         "US",
         "California"
        ],
        [
         "4",
         "US",
         "California"
        ],
        [
         "5",
         "US",
         "California"
        ],
        [
         "6",
         "US",
         "Oregon"
        ],
        [
         "7",
         "Italy",
         "Lombardy"
        ],
        [
         "8",
         "US",
         "California"
        ],
        [
         "9",
         "France",
         "Provence"
        ],
        [
         "10",
         "US",
         "California"
        ],
        [
         "11",
         "France",
         "Loire Valley"
        ],
        [
         "12",
         "France",
         "Loire Valley"
        ],
        [
         "13",
         "US",
         "California"
        ],
        [
         "14",
         "Portugal",
         "Alentejano"
        ],
        [
         "15",
         "Italy",
         "Southern Italy"
        ],
        [
         "16",
         "US",
         "California"
        ],
        [
         "17",
         "Germany",
         "Mosel"
        ],
        [
         "18",
         "Italy",
         "Southern Italy"
        ],
        [
         "19",
         "US",
         "Washington"
        ],
        [
         "20",
         "Chile",
         "Maipo Valley"
        ],
        [
         "21",
         "Australia",
         "Western Australia"
        ],
        [
         "22",
         "US",
         "New York"
        ],
        [
         "23",
         "US",
         "Oregon"
        ],
        [
         "24",
         "Portugal",
         "Tejo"
        ],
        [
         "25",
         "Italy",
         "Northeastern Italy"
        ],
        [
         "26",
         "Spain",
         "Northern Spain"
        ],
        [
         "27",
         "Italy",
         "Sicily & Sardinia"
        ],
        [
         "28",
         "France",
         "Rhône Valley"
        ],
        [
         "29",
         "US",
         "California"
        ],
        [
         "30",
         "Argentina",
         "Mendoza Province"
        ],
        [
         "31",
         "South Africa",
         "Stellenbosch"
        ],
        [
         "32",
         "US",
         "California"
        ],
        [
         "33",
         "Portugal",
         "Port"
        ],
        [
         "34",
         "US",
         "Washington"
        ],
        [
         "35",
         "France",
         "Bordeaux"
        ],
        [
         "36",
         "US",
         "California"
        ],
        [
         "37",
         "Spain",
         "Northern Spain"
        ],
        [
         "38",
         "US",
         "California"
        ],
        [
         "39",
         "Portugal",
         "Alentejano"
        ],
        [
         "40",
         "France",
         "Bordeaux"
        ],
        [
         "41",
         "US",
         "California"
        ],
        [
         "42",
         "Australia",
         "Western Australia"
        ],
        [
         "43",
         "Portugal",
         "Alentejano"
        ],
        [
         "44",
         "South Africa",
         "Stellenbosch"
        ],
        [
         "45",
         "Georgia",
         "Kakheti"
        ],
        [
         "46",
         "Italy",
         "Tuscany"
        ],
        [
         "47",
         "France",
         "Bordeaux"
        ],
        [
         "48",
         "Italy",
         "Veneto"
        ],
        [
         "49",
         "France",
         "Burgundy"
        ]
       ],
       "shape": {
        "columns": 2,
        "rows": 58487
       }
      },
      "text/html": [
       "<div>\n",
       "<style scoped>\n",
       "    .dataframe tbody tr th:only-of-type {\n",
       "        vertical-align: middle;\n",
       "    }\n",
       "\n",
       "    .dataframe tbody tr th {\n",
       "        vertical-align: top;\n",
       "    }\n",
       "\n",
       "    .dataframe thead th {\n",
       "        text-align: right;\n",
       "    }\n",
       "</style>\n",
       "<table border=\"1\" class=\"dataframe\">\n",
       "  <thead>\n",
       "    <tr style=\"text-align: right;\">\n",
       "      <th></th>\n",
       "      <th>country</th>\n",
       "      <th>province</th>\n",
       "    </tr>\n",
       "  </thead>\n",
       "  <tbody>\n",
       "    <tr>\n",
       "      <th>0</th>\n",
       "      <td>Australia</td>\n",
       "      <td>Australia Other</td>\n",
       "    </tr>\n",
       "    <tr>\n",
       "      <th>1</th>\n",
       "      <td>France</td>\n",
       "      <td>Rhône Valley</td>\n",
       "    </tr>\n",
       "    <tr>\n",
       "      <th>2</th>\n",
       "      <td>Spain</td>\n",
       "      <td>Northern Spain</td>\n",
       "    </tr>\n",
       "    <tr>\n",
       "      <th>3</th>\n",
       "      <td>US</td>\n",
       "      <td>California</td>\n",
       "    </tr>\n",
       "    <tr>\n",
       "      <th>4</th>\n",
       "      <td>US</td>\n",
       "      <td>California</td>\n",
       "    </tr>\n",
       "    <tr>\n",
       "      <th>...</th>\n",
       "      <td>...</td>\n",
       "      <td>...</td>\n",
       "    </tr>\n",
       "    <tr>\n",
       "      <th>58482</th>\n",
       "      <td>US</td>\n",
       "      <td>California</td>\n",
       "    </tr>\n",
       "    <tr>\n",
       "      <th>58483</th>\n",
       "      <td>Greece</td>\n",
       "      <td>Attica</td>\n",
       "    </tr>\n",
       "    <tr>\n",
       "      <th>58484</th>\n",
       "      <td>Italy</td>\n",
       "      <td>Southern Italy</td>\n",
       "    </tr>\n",
       "    <tr>\n",
       "      <th>58485</th>\n",
       "      <td>US</td>\n",
       "      <td>California</td>\n",
       "    </tr>\n",
       "    <tr>\n",
       "      <th>58486</th>\n",
       "      <td>Spain</td>\n",
       "      <td>Central Spain</td>\n",
       "    </tr>\n",
       "  </tbody>\n",
       "</table>\n",
       "<p>58487 rows × 2 columns</p>\n",
       "</div>"
      ],
      "text/plain": [
       "         country         province\n",
       "0      Australia  Australia Other\n",
       "1         France     Rhône Valley\n",
       "2          Spain   Northern Spain\n",
       "3             US       California\n",
       "4             US       California\n",
       "...          ...              ...\n",
       "58482         US       California\n",
       "58483     Greece           Attica\n",
       "58484      Italy   Southern Italy\n",
       "58485         US       California\n",
       "58486      Spain    Central Spain\n",
       "\n",
       "[58487 rows x 2 columns]"
      ]
     },
     "execution_count": 17,
     "metadata": {},
     "output_type": "execute_result"
    }
   ],
   "source": [
    "reviews.reset_index(drop=True)\n",
    "reviews.loc[:, ['country', 'province' ]]\n"
   ]
  },
  {
   "cell_type": "markdown",
   "id": "80183b48",
   "metadata": {},
   "source": [
    "We can rearrange our `.loc[]` to obtain all columns for specif range of rows too!"
   ]
  },
  {
   "cell_type": "code",
   "execution_count": null,
   "id": "d36a7939",
   "metadata": {},
   "outputs": [],
   "source": []
  },
  {
   "cell_type": "markdown",
   "id": "4c5e0634",
   "metadata": {},
   "source": [
    "We can use the `:` inside `.loc[]` to obtain a range from a specific point until the end of the dataframe "
   ]
  },
  {
   "cell_type": "code",
   "execution_count": null,
   "id": "f0e1afaa",
   "metadata": {},
   "outputs": [],
   "source": []
  },
  {
   "cell_type": "markdown",
   "id": "2751b524",
   "metadata": {},
   "source": [
    "**3. Selecting by position**\n",
    "\n",
    "Here \"position\" means the *numerical location*, i.e., row number and column number (both start from 0 per Python convention), in the DataFrame.\n",
    "\n",
    "Use `iloc[]` to access part of the DataFrame by row and column numbers. Note the `[]` instead of `()`."
   ]
  },
  {
   "cell_type": "code",
   "execution_count": 18,
   "id": "1fb77a64",
   "metadata": {},
   "outputs": [
    {
     "data": {
      "text/plain": [
       "'Réserve'"
      ]
     },
     "execution_count": 18,
     "metadata": {},
     "output_type": "execute_result"
    }
   ],
   "source": [
    "reviews.iloc[1, 2]"
   ]
  },
  {
   "cell_type": "code",
   "execution_count": 19,
   "id": "696d5ce3",
   "metadata": {},
   "outputs": [
    {
     "data": {
      "application/vnd.microsoft.datawrangler.viewer.v0+json": {
       "columns": [
        {
         "name": "index",
         "rawType": "int64",
         "type": "integer"
        },
        {
         "name": "price",
         "rawType": "float64",
         "type": "float"
        }
       ],
       "ref": "df0b08d7-3a73-43f7-bf15-0444f5e29646",
       "rows": [
        [
         "0",
         "5.0"
        ],
        [
         "1",
         "12.0"
        ],
        [
         "2",
         "9.0"
        ],
        [
         "3",
         "29.0"
        ],
        [
         "4",
         "40.0"
        ],
        [
         "5",
         "22.0"
        ],
        [
         "6",
         "33.0"
        ],
        [
         "7",
         "35.0"
        ],
        [
         "8",
         "10.0"
        ],
        [
         "9",
         "21.0"
        ],
        [
         "10",
         "38.0"
        ],
        [
         "11",
         "14.0"
        ],
        [
         "12",
         "18.0"
        ],
        [
         "13",
         "20.0"
        ],
        [
         "14",
         "19.0"
        ],
        [
         "15",
         null
        ],
        [
         "16",
         "20.0"
        ],
        [
         "17",
         "18.0"
        ],
        [
         "18",
         "20.0"
        ],
        [
         "19",
         "48.0"
        ],
        [
         "20",
         "11.0"
        ],
        [
         "21",
         "20.0"
        ],
        [
         "22",
         "25.0"
        ],
        [
         "23",
         "28.0"
        ],
        [
         "24",
         "9.0"
        ],
        [
         "25",
         "17.0"
        ],
        [
         "26",
         "11.0"
        ],
        [
         "27",
         "16.0"
        ],
        [
         "28",
         "24.0"
        ],
        [
         "29",
         "17.0"
        ],
        [
         "30",
         "21.0"
        ],
        [
         "31",
         "38.0"
        ],
        [
         "32",
         "14.0"
        ],
        [
         "33",
         "28.0"
        ],
        [
         "34",
         "28.0"
        ],
        [
         "35",
         "20.0"
        ],
        [
         "36",
         "80.0"
        ],
        [
         "37",
         "13.0"
        ],
        [
         "38",
         "450.0"
        ],
        [
         "39",
         "75.0"
        ],
        [
         "40",
         "295.0"
        ],
        [
         "41",
         "55.0"
        ],
        [
         "42",
         "23.0"
        ],
        [
         "43",
         "40.0"
        ],
        [
         "44",
         "55.0"
        ],
        [
         "45",
         "16.0"
        ],
        [
         "46",
         null
        ],
        [
         "47",
         "35.0"
        ],
        [
         "48",
         "22.0"
        ],
        [
         "49",
         "36.0"
        ]
       ],
       "shape": {
        "columns": 1,
        "rows": 58487
       }
      },
      "text/plain": [
       "0         5.0\n",
       "1        12.0\n",
       "2         9.0\n",
       "3        29.0\n",
       "4        40.0\n",
       "         ... \n",
       "58482    35.0\n",
       "58483     9.0\n",
       "58484    15.0\n",
       "58485    32.0\n",
       "58486    10.0\n",
       "Name: price, Length: 58487, dtype: float64"
      ]
     },
     "execution_count": 19,
     "metadata": {},
     "output_type": "execute_result"
    }
   ],
   "source": [
    "reviews.iloc[:, 4]"
   ]
  },
  {
   "cell_type": "code",
   "execution_count": null,
   "id": "ec15d717",
   "metadata": {},
   "outputs": [],
   "source": []
  },
  {
   "cell_type": "code",
   "execution_count": null,
   "id": "b1de4ab5",
   "metadata": {},
   "outputs": [],
   "source": []
  },
  {
   "cell_type": "markdown",
   "id": "27507b48",
   "metadata": {},
   "source": [
    "**4. Selecting by conditions**\n",
    "\n",
    "This is also called **boolean indexing**, usually used to select *rows* satisfying certain conditions."
   ]
  },
  {
   "cell_type": "code",
   "execution_count": null,
   "id": "43be4ec9",
   "metadata": {},
   "outputs": [],
   "source": []
  },
  {
   "cell_type": "markdown",
   "id": "3d4c4c3a",
   "metadata": {},
   "source": [
    "How can we satisfy more than one condition?\n",
    "\n",
    "We still need `[]` as we are passing a list of labels or conditions.\n",
    "\n",
    "We can seprate our conditions using the `&`.\n",
    "\n",
    "We will also need wrap our conditions using `()` due to precedence.\n",
    "\n",
    "In python `==` have a higher precedence than bitwise operators like `&`.\n",
    "\n",
    "So we need any `==` to be evaluated first and then combined."
   ]
  },
  {
   "cell_type": "code",
   "execution_count": null,
   "id": "ee6f7491",
   "metadata": {},
   "outputs": [],
   "source": []
  },
  {
   "cell_type": "code",
   "execution_count": null,
   "id": "f8d3139b",
   "metadata": {},
   "outputs": [],
   "source": []
  },
  {
   "cell_type": "markdown",
   "id": "fd3ac9e0",
   "metadata": {},
   "source": [
    "We can also satisfy 2 conditions within a column using `.isin()` and passing it a list"
   ]
  },
  {
   "cell_type": "code",
   "execution_count": null,
   "id": "51abd56d",
   "metadata": {},
   "outputs": [],
   "source": []
  },
  {
   "cell_type": "markdown",
   "id": "9debb67d",
   "metadata": {},
   "source": [
    "Missing values can also be considered as conditions"
   ]
  },
  {
   "cell_type": "code",
   "execution_count": null,
   "id": "070b4f61",
   "metadata": {},
   "outputs": [],
   "source": []
  },
  {
   "cell_type": "markdown",
   "id": "01727543",
   "metadata": {},
   "source": [
    "#### Missing Data\n",
    "\n",
    "Detect missing data `np.nan`:"
   ]
  },
  {
   "cell_type": "code",
   "execution_count": null,
   "id": "16a636bc",
   "metadata": {},
   "outputs": [],
   "source": []
  },
  {
   "cell_type": "markdown",
   "id": "e42eb0eb",
   "metadata": {},
   "source": [
    "Filling in missing data"
   ]
  },
  {
   "cell_type": "code",
   "execution_count": null,
   "id": "e35ceffe",
   "metadata": {},
   "outputs": [],
   "source": []
  },
  {
   "cell_type": "markdown",
   "id": "3936cc83",
   "metadata": {},
   "source": [
    "Drop missing data"
   ]
  },
  {
   "cell_type": "code",
   "execution_count": null,
   "id": "511e1503",
   "metadata": {},
   "outputs": [],
   "source": [
    "\n"
   ]
  },
  {
   "cell_type": "code",
   "execution_count": null,
   "id": "d4a4c8e5",
   "metadata": {},
   "outputs": [],
   "source": []
  },
  {
   "cell_type": "markdown",
   "id": "acdec203",
   "metadata": {},
   "source": [
    "#### Exercise\n",
    "\n",
    "Create a \"sub\"-DataFrame from `reviews` that contains the `country`, `province`, `region_1` and `region_2` columns with index labels `10`, `750` and `1200`."
   ]
  },
  {
   "cell_type": "code",
   "execution_count": 21,
   "id": "d8ce8606",
   "metadata": {},
   "outputs": [
    {
     "name": "stdout",
     "output_type": "stream",
     "text": [
      "         country                                        description  \\\n",
      "0      Australia  Possibly a little sweet, this is a soft, easyg...   \n",
      "1         France  A soft, almost off dry wine that is full in th...   \n",
      "2          Spain  Generic white-fruit aromas of peach and apple ...   \n",
      "3             US  This is the winery's best Nebula in years. Whi...   \n",
      "4             US  This is a very rich Pinot whose primary virtue...   \n",
      "...          ...                                                ...   \n",
      "58482         US  A solid effort from a dependable winery that u...   \n",
      "58483     Greece  Crushed thyme, pine resin and lemon start this...   \n",
      "58484      Italy  Made from Negroamaro, this opens with aromas o...   \n",
      "58485         US  This big, bold wine has the taste profile of a...   \n",
      "58486      Spain  Zingy and sort of floral on the nose, but fair...   \n",
      "\n",
      "                               designation  points  price         province  \\\n",
      "0                                      NaN      83    5.0  Australia Other   \n",
      "1                                  Réserve      85   12.0     Rhône Valley   \n",
      "2                   Estate Grown & Bottled      86    9.0   Northern Spain   \n",
      "3                                   Nebula      87   29.0       California   \n",
      "4                           Wiley Vineyard      88   40.0       California   \n",
      "...                                    ...     ...    ...              ...   \n",
      "58482                  Winemaker's Reserve      88   35.0       California   \n",
      "58483                    Retsina of Attica      86    9.0           Attica   \n",
      "58484                                  NaN      87   15.0   Southern Italy   \n",
      "58485  Estate Mae's Block Ravazzi Vineyard      88   32.0       California   \n",
      "58486                               Blanco      82   10.0    Central Spain   \n",
      "\n",
      "                      region_1       region_2        taster_name  \\\n",
      "0      South Eastern Australia            NaN     Joe Czerwinski   \n",
      "1               Côtes du Rhône            NaN         Roger Voss   \n",
      "2                        Rueda            NaN  Michael Schachner   \n",
      "3                  Paso Robles  Central Coast                NaN   \n",
      "4              Anderson Valley            NaN                NaN   \n",
      "...                        ...            ...                ...   \n",
      "58482            Sonoma County         Sonoma                NaN   \n",
      "58483                      NaN            NaN    Susan Kostrzewa   \n",
      "58484                  Salento            NaN      Kerin O’Keefe   \n",
      "58485                Mendocino            NaN         Jim Gordon   \n",
      "58486                La Mancha            NaN  Michael Schachner   \n",
      "\n",
      "      taster_twitter_handle  \\\n",
      "0                    @JoeCz   \n",
      "1                @vossroger   \n",
      "2               @wineschach   \n",
      "3                       NaN   \n",
      "4                       NaN   \n",
      "...                     ...   \n",
      "58482                   NaN   \n",
      "58483         @suskostrzewa   \n",
      "58484          @kerinokeefe   \n",
      "58485      @gordone_cellars   \n",
      "58486           @wineschach   \n",
      "\n",
      "                                                   title             variety  \\\n",
      "0      Banrock Station 2006 Chardonnay (South Eastern...          Chardonnay   \n",
      "1      Cellier des Dauphins 2015 Réserve Rosé (Côtes ...                Rosé   \n",
      "2      Esperanza 2013 Estate Grown & Bottled Verdejo-...       Verdejo-Viura   \n",
      "3      Midnight 2010 Nebula Cabernet Sauvignon (Paso ...  Cabernet Sauvignon   \n",
      "4      Harrington 2006 Wiley Vineyard Pinot Noir (And...          Pinot Noir   \n",
      "...                                                  ...                 ...   \n",
      "58482  Château Souverain 1996 Winemaker's Reserve Cab...  Cabernet Sauvignon   \n",
      "58483   Kourtaki NV Retsina of Attica Savatiano (Attica)           Savatiano   \n",
      "58484            Masseria Altemura 2016 Rosato (Salento)              Rosato   \n",
      "58485  Jaxon Keys 2013 Estate Mae's Block Ravazzi Vin...           Zinfandel   \n",
      "58486        Finca Antigua 2006 Blanco Viura (La Mancha)               Viura   \n",
      "\n",
      "                     winery  \n",
      "0           Banrock Station  \n",
      "1      Cellier des Dauphins  \n",
      "2                 Esperanza  \n",
      "3                  Midnight  \n",
      "4                Harrington  \n",
      "...                     ...  \n",
      "58482     Château Souverain  \n",
      "58483              Kourtaki  \n",
      "58484     Masseria Altemura  \n",
      "58485            Jaxon Keys  \n",
      "58486         Finca Antigua  \n",
      "\n",
      "[58487 rows x 13 columns]\n"
     ]
    }
   ],
   "source": [
    "print(reviews)"
   ]
  },
  {
   "cell_type": "markdown",
   "id": "2717338e",
   "metadata": {},
   "source": [
    "Create a \"sub\"-DataFrame from `reviews` that contains all reviews with at least 95 points for wines from oceanian countries (Australia and New Zealand)."
   ]
  },
  {
   "cell_type": "code",
   "execution_count": 26,
   "id": "ce644fca",
   "metadata": {},
   "outputs": [
    {
     "data": {
      "application/vnd.microsoft.datawrangler.viewer.v0+json": {
       "columns": [
        {
         "name": "index",
         "rawType": "int64",
         "type": "integer"
        },
        {
         "name": "country",
         "rawType": "object",
         "type": "string"
        },
        {
         "name": "description",
         "rawType": "object",
         "type": "string"
        },
        {
         "name": "designation",
         "rawType": "object",
         "type": "string"
        },
        {
         "name": "points",
         "rawType": "int64",
         "type": "integer"
        },
        {
         "name": "price",
         "rawType": "float64",
         "type": "float"
        },
        {
         "name": "province",
         "rawType": "object",
         "type": "string"
        },
        {
         "name": "region_1",
         "rawType": "object",
         "type": "unknown"
        },
        {
         "name": "region_2",
         "rawType": "object",
         "type": "unknown"
        },
        {
         "name": "taster_name",
         "rawType": "object",
         "type": "unknown"
        },
        {
         "name": "taster_twitter_handle",
         "rawType": "object",
         "type": "unknown"
        },
        {
         "name": "title",
         "rawType": "object",
         "type": "string"
        },
        {
         "name": "variety",
         "rawType": "object",
         "type": "string"
        },
        {
         "name": "winery",
         "rawType": "object",
         "type": "string"
        }
       ],
       "ref": "8574555e-a179-47f6-ab26-a024f05a7c01",
       "rows": [
        [
         "576",
         "Australia",
         "This prodigious wine showcases Barossa's ability to deliver big, mouthfilling flavors without any suggestion of heat or heaviness. Scents of stone fruit, pepper and red currants mark the nose, while the flavors take on a darker cast, heading toward black cherries and black olives. The tannins are supremely silky, but this graceful, feminine beauty should drink well through at least 2020.",
         "The Relic",
         "98",
         "135.0",
         "South Australia",
         "Barossa Valley",
         null,
         "Joe Czerwinski",
         "@JoeCz",
         "Standish 2006 The Relic Shiraz (Barossa Valley)",
         "Shiraz",
         "Standish"
        ],
        [
         "1959",
         "Australia",
         "This Cabernet equivalent to Grange has exploded in price (I remember tasting the 1996 on release when it was $25 per bottle), but there's no questioning the quality. A deep, intense nose of cassis, earth, menthol and cedar is followed by a full, rich palate that's supple without being soft. Brighter notes of red fruit emerge on the lengthy finish, which is dominated by sweet fruit and creamy lactones. Drink 2020–2030, and probably well beyond.",
         "Bin 707",
         "95",
         "500.0",
         "South Australia",
         "South Australia",
         null,
         "Joe Czerwinski",
         "@JoeCz",
         "Penfolds 2014 Bin 707 Cabernet Sauvignon (South Australia)",
         "Cabernet Sauvignon",
         "Penfolds"
        ],
        [
         "10872",
         "Australia",
         "Full-bodied and plush yet vibrant and imbued with fresh fruit, this is simply superb. The oak is present but never dominant, adding brown sugar and cinnamon elements to blueberry, roasted meat, espresso and black olive notes. A hint of peppery spice also creeps into this impossibly complex wine. The finish combines power, length, freshness and dusty tannins, suggesting that while impressive now, it should age well. Drink now–2030.",
         "The Factor",
         "98",
         "125.0",
         "South Australia",
         "Barossa Valley",
         null,
         "Joe Czerwinski",
         "@JoeCz",
         "Torbreck 2013 The Factor Shiraz (Barossa Valley)",
         "Shiraz",
         "Torbreck"
        ],
        [
         "11474",
         "New Zealand",
         "This blend of Cabernet Sauvignon (62.5%), Merlot (25%) and Cabernet Franc (12.5%) is aged in one-third new French oak for 10 months, resulting in a lovely marriage of vanilla and cedar with cassis. The wine is youthful and primary, but the oak and fruit are seamlessly integrated, blending baking spices and chocolate into the mix. Richly textured, with a long finish, this wine is delicious now, but should age well through 2030.",
         "SQM Gimblett Gravels Cabernets/Merlot",
         "95",
         "79.0",
         "Hawke's Bay",
         null,
         null,
         "Joe Czerwinski",
         "@JoeCz",
         "Squawking Magpie 2014 SQM Gimblett Gravels Cabernets/Merlot Red (Hawke's Bay)",
         "Bordeaux-style Red Blend",
         "Squawking Magpie"
        ],
        [
         "11762",
         "Australia",
         "The Factor is always one of Torbreck's biggest wines. The 2012 continues that tradition, offering ample weight, richness and texture. Alluring notes of Christmas spices and plum pudding mark the nose, while the flavors continue the dark theme, picking up hints of cola and roasted meat before finishing somewhere between creamy and velvety, spicy and peppery. Drink now–2030.",
         "The Factor",
         "95",
         "125.0",
         "South Australia",
         "Barossa",
         null,
         "Joe Czerwinski",
         "@JoeCz",
         "Torbreck 2012 The Factor Shiraz (Barossa)",
         "Shiraz",
         "Torbreck"
        ],
        [
         "14670",
         "Australia",
         "RWT (unromantically derived from “Red Wine Trial”) is 100% Barossa Valley Shiraz, aged in 100% French oak. In some vintages, like this one, the combination is incredibly sumptuous, offering layers of blueberry and blackberry fruit intermingled elegantly with hints of French vanilla. It's long, subtle and complex on the finish—a stunning effort. It's approachable now, but should age well through 2030 or so.",
         "RWT",
         "96",
         "150.0",
         "South Australia",
         "Barossa Valley",
         null,
         "Joe Czerwinski",
         "@JoeCz",
         "Penfolds 2009 RWT Shiraz (Barossa Valley)",
         "Shiraz",
         "Penfolds"
        ],
        [
         "20753",
         "Australia",
         "The fruit for this offering comes from the Green's and Crowhurst vineyards. This wine brings a a sense of cellarworthiness, from the inky color and dense, impenetrable bouquet to the richly tannic palate and long, plushly textured finish. Right now, it delivers hints of toast and mint, blueberry and plum fruit and savory notes of roasted meat and mocha. Drink 2018–2025+.",
         "R Reserve",
         "95",
         "105.0",
         "South Australia",
         "Barossa Valley",
         null,
         "Joe Czerwinski",
         "@JoeCz",
         "Kilikanoon 2009 R Reserve Shiraz (Barossa Valley)",
         "Shiraz",
         "Kilikanoon"
        ],
        [
         "22515",
         "Australia",
         "The Taylor family selected Clare Valley for its Cabernet affinity, but this Shiraz is a knockout. Yes, it's oaky—full of menthol, vanilla and toasted coconut—but there's just enough black cherry and plum fruit to support the wood. It's a plush, full-bodied wine with immense appeal, for drinking now–2025.",
         "St. Andrews Single Vineyard Release",
         "95",
         "60.0",
         "South Australia",
         "Clare Valley",
         null,
         "Joe Czerwinski",
         "@JoeCz",
         "Wakefield 2013 St. Andrews Single Vineyard Release Shiraz (Clare Valley)",
         "Shiraz",
         "Wakefield"
        ],
        [
         "25802",
         "Australia",
         "Seamless luxury from stem to stern, this ‘baby Grange' is  impressive juice. Blackberry, menthol and smoke play unusually elegantly on the nose, the texture is velvet on the tongue with dark berry, coffee, licorice and muted black pepper flavors. The superb, very long finish combines all the elements with wonderful finesse and a rare grace. Not inexpensive, but fairly priced; you could pay twice as much for half the wine, almost any day in any fine wine store in the country. To be released 5/01.",
         "RWT",
         "95",
         "70.0",
         "South Australia",
         "Barossa Valley",
         null,
         null,
         null,
         "Penfolds 1998 RWT Shiraz (Barossa Valley)",
         "Shiraz",
         "Penfolds"
        ],
        [
         "27293",
         "Australia",
         "Winemaker Dave Powell is no longer with Torbreck, but the 2007 RunRig is one of his finest efforts. The complexity is almost overwhelming, as the aromas range from peppery spice and roasted meat to blueberry and tappanade. It's mouth filling and expansive, yet retains fine acids and just the right amount of slightly dusty tannins on the long finish. Approachable now, but capable of lasting at least though 2020.",
         "RunRig",
         "96",
         "225.0",
         "South Australia",
         "Barossa Valley",
         null,
         "Joe Czerwinski",
         "@JoeCz",
         "Torbreck 2007 RunRig Shiraz-Viognier (Barossa Valley)",
         "Shiraz-Viognier",
         "Torbreck"
        ],
        [
         "38114",
         "Australia",
         "This is wonderfully complex and aromatic, with scents ranging from baking spices and savory beef to mixed berries. That swirl of seeming contradictions continues on the palate, backed by luxurious, supple tannins that linger softly on the finish. Drink now–2025.",
         "St. Andrews Single Vineyard Release",
         "95",
         "60.0",
         "South Australia",
         "Clare Valley",
         null,
         "Joe Czerwinski",
         "@JoeCz",
         "Wakefield 2012 St. Andrews Single Vineyard Release Shiraz (Clare Valley)",
         "Shiraz",
         "Wakefield"
        ],
        [
         "40662",
         "Australia",
         "You may have to scour the country to secure some of this (only 14 cases were imported), but this is a treasure worth the search. It's full bodied without seeming overly rich or heavy, framing the lush notes of dark berries, grilled meat, mint and licorice with supple tannins. Spice-driven flavors linger elegantly on the lengthy finish. It's delicious now, but should age gracefully through 2030.",
         "Andelmonde",
         "97",
         "95.0",
         "South Australia",
         "Barossa Valley",
         null,
         "Joe Czerwinski",
         "@JoeCz",
         "Standish 2012 Andelmonde Shiraz (Barossa Valley)",
         "Shiraz",
         "Standish"
        ],
        [
         "40858",
         "Australia",
         "Dusty, firm, powerful: just a few apt descriptors for this vintage of one of Heathcote's top wines. Mocha, licorice and blackberries feature on the nose, while the palate delivers more of the same—dark fruit, chocolate and plenty of spice. Best after 2020.",
         "Georgia's Paddock",
         "95",
         "85.0",
         "Victoria",
         "Heathcote",
         null,
         "Joe Czerwinski",
         "@JoeCz",
         "Jasper Hill 2013 Georgia's Paddock Shiraz (Heathcote)",
         "Shiraz",
         "Jasper Hill"
        ],
        [
         "43682",
         "Australia",
         "A throwback to the monster Shiraz style of old, with loads of toasty, vanilla-laden oak, meaty nuances and driving, intense boysenberry fruit, the 2004 Grange should prove tremendously long-lived. Its massive concentration and firm tannins suggest cellaring through 2020, after which it should drink well for at least another decade or two.",
         "Grange",
         "96",
         "500.0",
         "South Australia",
         "South Australia",
         null,
         "Joe Czerwinski",
         "@JoeCz",
         "Penfolds 2004 Grange Shiraz (South Australia)",
         "Shiraz",
         "Penfolds"
        ],
        [
         "46466",
         "Australia",
         "This wine's concentrated dark fruit shows in the color—a vibrant dark garnet—and in the aromas of blueberry, vanilla and dried spices. The 16% alcohol is well concealed, manifesting only as wonderfully full, creamy density on the palate, magnifying the intense cola, earth and spice complexity. A pronounced peppery, black licorice note adds extra length to the finely textured finish. Drink now–2020.",
         "Old Vine",
         "95",
         "60.0",
         "South Australia",
         "Barossa Valley",
         null,
         "Joe Czerwinski",
         "@JoeCz",
         "Kaesler 2006 Old Vine Shiraz (Barossa Valley)",
         "Shiraz",
         "Kaesler"
        ],
        [
         "54513",
         "Australia",
         "Rich, dense and intense, this is a big, muscular rendering of Barossa Shiraz. Scents of maple syrup and menthol intertwine with flavors of ripe plums and grilled meat. It's mouthcoating and long on the tannic finish, so give it some time in the cellar; drink 2020–2030.",
         "The Family Tree",
         "95",
         "65.0",
         "South Australia",
         "Barossa Valley",
         null,
         "Joe Czerwinski",
         "@JoeCz",
         "Lambert 2013 The Family Tree Shiraz (Barossa Valley)",
         "Shiraz",
         "Lambert"
        ],
        [
         "56040",
         "Australia",
         "Penfolds Bin 707 has leapt in quality over the past few vintages. The 2009 features hints of mint, cedar and vanilla accenting ripe cassis fruit. It's full bodied and rich, velvety without being overly soft, with a dusty tannic structure that should support it over two decades or more of aging. Drink 2015–2030+.",
         "Bin 707",
         "95",
         "200.0",
         "South Australia",
         "South Australia",
         null,
         "Joe Czerwinski",
         "@JoeCz",
         "Penfolds 2009 Bin 707 Cabernet Sauvignon (South Australia)",
         "Cabernet Sauvignon",
         "Penfolds"
        ],
        [
         "56383",
         "Australia",
         "This wine contains some material over 100 years old, but shows no signs of fragility. Instead, it's concentrated through age and should hold in the bottle indefinitely. It's dark coffee-brown in color, with delectable aromas of rancio, dried fig, molasses and black tea, yet despite enormous concentration avoids excessive weight. And it's amazingly complex and fresh on the nearly endless finish.",
         "Rare",
         "100",
         "350.0",
         "Victoria",
         "Rutherglen",
         null,
         "Joe Czerwinski",
         "@JoeCz",
         "Chambers Rosewood Vineyards NV Rare Muscat (Rutherglen)",
         "Muscat",
         "Chambers Rosewood Vineyards"
        ],
        [
         "58362",
         "Australia",
         "One of the more approachable of the d'Arenberg single-vineyard collection of wines, this opens with notes of brown sugar, tarry fruit and bright cassis. It's full bodied and creamy in texture, with flavors of mocha, cassis and vanilla that culminate in a long, dusty finish. Drink now–2025.",
         "Little Venice Single Vineyard",
         "95",
         "85.0",
         "South Australia",
         "McLaren Vale",
         null,
         "Joe Czerwinski",
         "@JoeCz",
         "D'Arenberg 2010 Little Venice Single Vineyard Shiraz (McLaren Vale)",
         "Shiraz",
         "D'Arenberg"
        ]
       ],
       "shape": {
        "columns": 13,
        "rows": 19
       }
      },
      "text/html": [
       "<div>\n",
       "<style scoped>\n",
       "    .dataframe tbody tr th:only-of-type {\n",
       "        vertical-align: middle;\n",
       "    }\n",
       "\n",
       "    .dataframe tbody tr th {\n",
       "        vertical-align: top;\n",
       "    }\n",
       "\n",
       "    .dataframe thead th {\n",
       "        text-align: right;\n",
       "    }\n",
       "</style>\n",
       "<table border=\"1\" class=\"dataframe\">\n",
       "  <thead>\n",
       "    <tr style=\"text-align: right;\">\n",
       "      <th></th>\n",
       "      <th>country</th>\n",
       "      <th>description</th>\n",
       "      <th>designation</th>\n",
       "      <th>points</th>\n",
       "      <th>price</th>\n",
       "      <th>province</th>\n",
       "      <th>region_1</th>\n",
       "      <th>region_2</th>\n",
       "      <th>taster_name</th>\n",
       "      <th>taster_twitter_handle</th>\n",
       "      <th>title</th>\n",
       "      <th>variety</th>\n",
       "      <th>winery</th>\n",
       "    </tr>\n",
       "  </thead>\n",
       "  <tbody>\n",
       "    <tr>\n",
       "      <th>576</th>\n",
       "      <td>Australia</td>\n",
       "      <td>This prodigious wine showcases Barossa's abili...</td>\n",
       "      <td>The Relic</td>\n",
       "      <td>98</td>\n",
       "      <td>135.0</td>\n",
       "      <td>South Australia</td>\n",
       "      <td>Barossa Valley</td>\n",
       "      <td>NaN</td>\n",
       "      <td>Joe Czerwinski</td>\n",
       "      <td>@JoeCz</td>\n",
       "      <td>Standish 2006 The Relic Shiraz (Barossa Valley)</td>\n",
       "      <td>Shiraz</td>\n",
       "      <td>Standish</td>\n",
       "    </tr>\n",
       "    <tr>\n",
       "      <th>1959</th>\n",
       "      <td>Australia</td>\n",
       "      <td>This Cabernet equivalent to Grange has explode...</td>\n",
       "      <td>Bin 707</td>\n",
       "      <td>95</td>\n",
       "      <td>500.0</td>\n",
       "      <td>South Australia</td>\n",
       "      <td>South Australia</td>\n",
       "      <td>NaN</td>\n",
       "      <td>Joe Czerwinski</td>\n",
       "      <td>@JoeCz</td>\n",
       "      <td>Penfolds 2014 Bin 707 Cabernet Sauvignon (Sout...</td>\n",
       "      <td>Cabernet Sauvignon</td>\n",
       "      <td>Penfolds</td>\n",
       "    </tr>\n",
       "    <tr>\n",
       "      <th>10872</th>\n",
       "      <td>Australia</td>\n",
       "      <td>Full-bodied and plush yet vibrant and imbued w...</td>\n",
       "      <td>The Factor</td>\n",
       "      <td>98</td>\n",
       "      <td>125.0</td>\n",
       "      <td>South Australia</td>\n",
       "      <td>Barossa Valley</td>\n",
       "      <td>NaN</td>\n",
       "      <td>Joe Czerwinski</td>\n",
       "      <td>@JoeCz</td>\n",
       "      <td>Torbreck 2013 The Factor Shiraz (Barossa Valley)</td>\n",
       "      <td>Shiraz</td>\n",
       "      <td>Torbreck</td>\n",
       "    </tr>\n",
       "    <tr>\n",
       "      <th>11474</th>\n",
       "      <td>New Zealand</td>\n",
       "      <td>This blend of Cabernet Sauvignon (62.5%), Merl...</td>\n",
       "      <td>SQM Gimblett Gravels Cabernets/Merlot</td>\n",
       "      <td>95</td>\n",
       "      <td>79.0</td>\n",
       "      <td>Hawke's Bay</td>\n",
       "      <td>NaN</td>\n",
       "      <td>NaN</td>\n",
       "      <td>Joe Czerwinski</td>\n",
       "      <td>@JoeCz</td>\n",
       "      <td>Squawking Magpie 2014 SQM Gimblett Gravels Cab...</td>\n",
       "      <td>Bordeaux-style Red Blend</td>\n",
       "      <td>Squawking Magpie</td>\n",
       "    </tr>\n",
       "    <tr>\n",
       "      <th>11762</th>\n",
       "      <td>Australia</td>\n",
       "      <td>The Factor is always one of Torbreck's biggest...</td>\n",
       "      <td>The Factor</td>\n",
       "      <td>95</td>\n",
       "      <td>125.0</td>\n",
       "      <td>South Australia</td>\n",
       "      <td>Barossa</td>\n",
       "      <td>NaN</td>\n",
       "      <td>Joe Czerwinski</td>\n",
       "      <td>@JoeCz</td>\n",
       "      <td>Torbreck 2012 The Factor Shiraz (Barossa)</td>\n",
       "      <td>Shiraz</td>\n",
       "      <td>Torbreck</td>\n",
       "    </tr>\n",
       "    <tr>\n",
       "      <th>14670</th>\n",
       "      <td>Australia</td>\n",
       "      <td>RWT (unromantically derived from “Red Wine Tri...</td>\n",
       "      <td>RWT</td>\n",
       "      <td>96</td>\n",
       "      <td>150.0</td>\n",
       "      <td>South Australia</td>\n",
       "      <td>Barossa Valley</td>\n",
       "      <td>NaN</td>\n",
       "      <td>Joe Czerwinski</td>\n",
       "      <td>@JoeCz</td>\n",
       "      <td>Penfolds 2009 RWT Shiraz (Barossa Valley)</td>\n",
       "      <td>Shiraz</td>\n",
       "      <td>Penfolds</td>\n",
       "    </tr>\n",
       "    <tr>\n",
       "      <th>20753</th>\n",
       "      <td>Australia</td>\n",
       "      <td>The fruit for this offering comes from the Gre...</td>\n",
       "      <td>R Reserve</td>\n",
       "      <td>95</td>\n",
       "      <td>105.0</td>\n",
       "      <td>South Australia</td>\n",
       "      <td>Barossa Valley</td>\n",
       "      <td>NaN</td>\n",
       "      <td>Joe Czerwinski</td>\n",
       "      <td>@JoeCz</td>\n",
       "      <td>Kilikanoon 2009 R Reserve Shiraz (Barossa Valley)</td>\n",
       "      <td>Shiraz</td>\n",
       "      <td>Kilikanoon</td>\n",
       "    </tr>\n",
       "    <tr>\n",
       "      <th>22515</th>\n",
       "      <td>Australia</td>\n",
       "      <td>The Taylor family selected Clare Valley for it...</td>\n",
       "      <td>St. Andrews Single Vineyard Release</td>\n",
       "      <td>95</td>\n",
       "      <td>60.0</td>\n",
       "      <td>South Australia</td>\n",
       "      <td>Clare Valley</td>\n",
       "      <td>NaN</td>\n",
       "      <td>Joe Czerwinski</td>\n",
       "      <td>@JoeCz</td>\n",
       "      <td>Wakefield 2013 St. Andrews Single Vineyard Rel...</td>\n",
       "      <td>Shiraz</td>\n",
       "      <td>Wakefield</td>\n",
       "    </tr>\n",
       "    <tr>\n",
       "      <th>25802</th>\n",
       "      <td>Australia</td>\n",
       "      <td>Seamless luxury from stem to stern, this ‘baby...</td>\n",
       "      <td>RWT</td>\n",
       "      <td>95</td>\n",
       "      <td>70.0</td>\n",
       "      <td>South Australia</td>\n",
       "      <td>Barossa Valley</td>\n",
       "      <td>NaN</td>\n",
       "      <td>NaN</td>\n",
       "      <td>NaN</td>\n",
       "      <td>Penfolds 1998 RWT Shiraz (Barossa Valley)</td>\n",
       "      <td>Shiraz</td>\n",
       "      <td>Penfolds</td>\n",
       "    </tr>\n",
       "    <tr>\n",
       "      <th>27293</th>\n",
       "      <td>Australia</td>\n",
       "      <td>Winemaker Dave Powell is no longer with Torbre...</td>\n",
       "      <td>RunRig</td>\n",
       "      <td>96</td>\n",
       "      <td>225.0</td>\n",
       "      <td>South Australia</td>\n",
       "      <td>Barossa Valley</td>\n",
       "      <td>NaN</td>\n",
       "      <td>Joe Czerwinski</td>\n",
       "      <td>@JoeCz</td>\n",
       "      <td>Torbreck 2007 RunRig Shiraz-Viognier (Barossa ...</td>\n",
       "      <td>Shiraz-Viognier</td>\n",
       "      <td>Torbreck</td>\n",
       "    </tr>\n",
       "    <tr>\n",
       "      <th>38114</th>\n",
       "      <td>Australia</td>\n",
       "      <td>This is wonderfully complex and aromatic, with...</td>\n",
       "      <td>St. Andrews Single Vineyard Release</td>\n",
       "      <td>95</td>\n",
       "      <td>60.0</td>\n",
       "      <td>South Australia</td>\n",
       "      <td>Clare Valley</td>\n",
       "      <td>NaN</td>\n",
       "      <td>Joe Czerwinski</td>\n",
       "      <td>@JoeCz</td>\n",
       "      <td>Wakefield 2012 St. Andrews Single Vineyard Rel...</td>\n",
       "      <td>Shiraz</td>\n",
       "      <td>Wakefield</td>\n",
       "    </tr>\n",
       "    <tr>\n",
       "      <th>40662</th>\n",
       "      <td>Australia</td>\n",
       "      <td>You may have to scour the country to secure so...</td>\n",
       "      <td>Andelmonde</td>\n",
       "      <td>97</td>\n",
       "      <td>95.0</td>\n",
       "      <td>South Australia</td>\n",
       "      <td>Barossa Valley</td>\n",
       "      <td>NaN</td>\n",
       "      <td>Joe Czerwinski</td>\n",
       "      <td>@JoeCz</td>\n",
       "      <td>Standish 2012 Andelmonde Shiraz (Barossa Valley)</td>\n",
       "      <td>Shiraz</td>\n",
       "      <td>Standish</td>\n",
       "    </tr>\n",
       "    <tr>\n",
       "      <th>40858</th>\n",
       "      <td>Australia</td>\n",
       "      <td>Dusty, firm, powerful: just a few apt descript...</td>\n",
       "      <td>Georgia's Paddock</td>\n",
       "      <td>95</td>\n",
       "      <td>85.0</td>\n",
       "      <td>Victoria</td>\n",
       "      <td>Heathcote</td>\n",
       "      <td>NaN</td>\n",
       "      <td>Joe Czerwinski</td>\n",
       "      <td>@JoeCz</td>\n",
       "      <td>Jasper Hill 2013 Georgia's Paddock Shiraz (Hea...</td>\n",
       "      <td>Shiraz</td>\n",
       "      <td>Jasper Hill</td>\n",
       "    </tr>\n",
       "    <tr>\n",
       "      <th>43682</th>\n",
       "      <td>Australia</td>\n",
       "      <td>A throwback to the monster Shiraz style of old...</td>\n",
       "      <td>Grange</td>\n",
       "      <td>96</td>\n",
       "      <td>500.0</td>\n",
       "      <td>South Australia</td>\n",
       "      <td>South Australia</td>\n",
       "      <td>NaN</td>\n",
       "      <td>Joe Czerwinski</td>\n",
       "      <td>@JoeCz</td>\n",
       "      <td>Penfolds 2004 Grange Shiraz (South Australia)</td>\n",
       "      <td>Shiraz</td>\n",
       "      <td>Penfolds</td>\n",
       "    </tr>\n",
       "    <tr>\n",
       "      <th>46466</th>\n",
       "      <td>Australia</td>\n",
       "      <td>This wine's concentrated dark fruit shows in t...</td>\n",
       "      <td>Old Vine</td>\n",
       "      <td>95</td>\n",
       "      <td>60.0</td>\n",
       "      <td>South Australia</td>\n",
       "      <td>Barossa Valley</td>\n",
       "      <td>NaN</td>\n",
       "      <td>Joe Czerwinski</td>\n",
       "      <td>@JoeCz</td>\n",
       "      <td>Kaesler 2006 Old Vine Shiraz (Barossa Valley)</td>\n",
       "      <td>Shiraz</td>\n",
       "      <td>Kaesler</td>\n",
       "    </tr>\n",
       "    <tr>\n",
       "      <th>54513</th>\n",
       "      <td>Australia</td>\n",
       "      <td>Rich, dense and intense, this is a big, muscul...</td>\n",
       "      <td>The Family Tree</td>\n",
       "      <td>95</td>\n",
       "      <td>65.0</td>\n",
       "      <td>South Australia</td>\n",
       "      <td>Barossa Valley</td>\n",
       "      <td>NaN</td>\n",
       "      <td>Joe Czerwinski</td>\n",
       "      <td>@JoeCz</td>\n",
       "      <td>Lambert 2013 The Family Tree Shiraz (Barossa V...</td>\n",
       "      <td>Shiraz</td>\n",
       "      <td>Lambert</td>\n",
       "    </tr>\n",
       "    <tr>\n",
       "      <th>56040</th>\n",
       "      <td>Australia</td>\n",
       "      <td>Penfolds Bin 707 has leapt in quality over the...</td>\n",
       "      <td>Bin 707</td>\n",
       "      <td>95</td>\n",
       "      <td>200.0</td>\n",
       "      <td>South Australia</td>\n",
       "      <td>South Australia</td>\n",
       "      <td>NaN</td>\n",
       "      <td>Joe Czerwinski</td>\n",
       "      <td>@JoeCz</td>\n",
       "      <td>Penfolds 2009 Bin 707 Cabernet Sauvignon (Sout...</td>\n",
       "      <td>Cabernet Sauvignon</td>\n",
       "      <td>Penfolds</td>\n",
       "    </tr>\n",
       "    <tr>\n",
       "      <th>56383</th>\n",
       "      <td>Australia</td>\n",
       "      <td>This wine contains some material over 100 year...</td>\n",
       "      <td>Rare</td>\n",
       "      <td>100</td>\n",
       "      <td>350.0</td>\n",
       "      <td>Victoria</td>\n",
       "      <td>Rutherglen</td>\n",
       "      <td>NaN</td>\n",
       "      <td>Joe Czerwinski</td>\n",
       "      <td>@JoeCz</td>\n",
       "      <td>Chambers Rosewood Vineyards NV Rare Muscat (Ru...</td>\n",
       "      <td>Muscat</td>\n",
       "      <td>Chambers Rosewood Vineyards</td>\n",
       "    </tr>\n",
       "    <tr>\n",
       "      <th>58362</th>\n",
       "      <td>Australia</td>\n",
       "      <td>One of the more approachable of the d'Arenberg...</td>\n",
       "      <td>Little Venice Single Vineyard</td>\n",
       "      <td>95</td>\n",
       "      <td>85.0</td>\n",
       "      <td>South Australia</td>\n",
       "      <td>McLaren Vale</td>\n",
       "      <td>NaN</td>\n",
       "      <td>Joe Czerwinski</td>\n",
       "      <td>@JoeCz</td>\n",
       "      <td>D'Arenberg 2010 Little Venice Single Vineyard ...</td>\n",
       "      <td>Shiraz</td>\n",
       "      <td>D'Arenberg</td>\n",
       "    </tr>\n",
       "  </tbody>\n",
       "</table>\n",
       "</div>"
      ],
      "text/plain": [
       "           country                                        description  \\\n",
       "576      Australia  This prodigious wine showcases Barossa's abili...   \n",
       "1959     Australia  This Cabernet equivalent to Grange has explode...   \n",
       "10872    Australia  Full-bodied and plush yet vibrant and imbued w...   \n",
       "11474  New Zealand  This blend of Cabernet Sauvignon (62.5%), Merl...   \n",
       "11762    Australia  The Factor is always one of Torbreck's biggest...   \n",
       "14670    Australia  RWT (unromantically derived from “Red Wine Tri...   \n",
       "20753    Australia  The fruit for this offering comes from the Gre...   \n",
       "22515    Australia  The Taylor family selected Clare Valley for it...   \n",
       "25802    Australia  Seamless luxury from stem to stern, this ‘baby...   \n",
       "27293    Australia  Winemaker Dave Powell is no longer with Torbre...   \n",
       "38114    Australia  This is wonderfully complex and aromatic, with...   \n",
       "40662    Australia  You may have to scour the country to secure so...   \n",
       "40858    Australia  Dusty, firm, powerful: just a few apt descript...   \n",
       "43682    Australia  A throwback to the monster Shiraz style of old...   \n",
       "46466    Australia  This wine's concentrated dark fruit shows in t...   \n",
       "54513    Australia  Rich, dense and intense, this is a big, muscul...   \n",
       "56040    Australia  Penfolds Bin 707 has leapt in quality over the...   \n",
       "56383    Australia  This wine contains some material over 100 year...   \n",
       "58362    Australia  One of the more approachable of the d'Arenberg...   \n",
       "\n",
       "                                 designation  points  price         province  \\\n",
       "576                                The Relic      98  135.0  South Australia   \n",
       "1959                                 Bin 707      95  500.0  South Australia   \n",
       "10872                             The Factor      98  125.0  South Australia   \n",
       "11474  SQM Gimblett Gravels Cabernets/Merlot      95   79.0      Hawke's Bay   \n",
       "11762                             The Factor      95  125.0  South Australia   \n",
       "14670                                    RWT      96  150.0  South Australia   \n",
       "20753                              R Reserve      95  105.0  South Australia   \n",
       "22515    St. Andrews Single Vineyard Release      95   60.0  South Australia   \n",
       "25802                                    RWT      95   70.0  South Australia   \n",
       "27293                                 RunRig      96  225.0  South Australia   \n",
       "38114    St. Andrews Single Vineyard Release      95   60.0  South Australia   \n",
       "40662                             Andelmonde      97   95.0  South Australia   \n",
       "40858                      Georgia's Paddock      95   85.0         Victoria   \n",
       "43682                                 Grange      96  500.0  South Australia   \n",
       "46466                               Old Vine      95   60.0  South Australia   \n",
       "54513                        The Family Tree      95   65.0  South Australia   \n",
       "56040                                Bin 707      95  200.0  South Australia   \n",
       "56383                                   Rare     100  350.0         Victoria   \n",
       "58362          Little Venice Single Vineyard      95   85.0  South Australia   \n",
       "\n",
       "              region_1 region_2     taster_name taster_twitter_handle  \\\n",
       "576     Barossa Valley      NaN  Joe Czerwinski                @JoeCz   \n",
       "1959   South Australia      NaN  Joe Czerwinski                @JoeCz   \n",
       "10872   Barossa Valley      NaN  Joe Czerwinski                @JoeCz   \n",
       "11474              NaN      NaN  Joe Czerwinski                @JoeCz   \n",
       "11762          Barossa      NaN  Joe Czerwinski                @JoeCz   \n",
       "14670   Barossa Valley      NaN  Joe Czerwinski                @JoeCz   \n",
       "20753   Barossa Valley      NaN  Joe Czerwinski                @JoeCz   \n",
       "22515     Clare Valley      NaN  Joe Czerwinski                @JoeCz   \n",
       "25802   Barossa Valley      NaN             NaN                   NaN   \n",
       "27293   Barossa Valley      NaN  Joe Czerwinski                @JoeCz   \n",
       "38114     Clare Valley      NaN  Joe Czerwinski                @JoeCz   \n",
       "40662   Barossa Valley      NaN  Joe Czerwinski                @JoeCz   \n",
       "40858        Heathcote      NaN  Joe Czerwinski                @JoeCz   \n",
       "43682  South Australia      NaN  Joe Czerwinski                @JoeCz   \n",
       "46466   Barossa Valley      NaN  Joe Czerwinski                @JoeCz   \n",
       "54513   Barossa Valley      NaN  Joe Czerwinski                @JoeCz   \n",
       "56040  South Australia      NaN  Joe Czerwinski                @JoeCz   \n",
       "56383       Rutherglen      NaN  Joe Czerwinski                @JoeCz   \n",
       "58362     McLaren Vale      NaN  Joe Czerwinski                @JoeCz   \n",
       "\n",
       "                                                   title  \\\n",
       "576      Standish 2006 The Relic Shiraz (Barossa Valley)   \n",
       "1959   Penfolds 2014 Bin 707 Cabernet Sauvignon (Sout...   \n",
       "10872   Torbreck 2013 The Factor Shiraz (Barossa Valley)   \n",
       "11474  Squawking Magpie 2014 SQM Gimblett Gravels Cab...   \n",
       "11762          Torbreck 2012 The Factor Shiraz (Barossa)   \n",
       "14670          Penfolds 2009 RWT Shiraz (Barossa Valley)   \n",
       "20753  Kilikanoon 2009 R Reserve Shiraz (Barossa Valley)   \n",
       "22515  Wakefield 2013 St. Andrews Single Vineyard Rel...   \n",
       "25802          Penfolds 1998 RWT Shiraz (Barossa Valley)   \n",
       "27293  Torbreck 2007 RunRig Shiraz-Viognier (Barossa ...   \n",
       "38114  Wakefield 2012 St. Andrews Single Vineyard Rel...   \n",
       "40662   Standish 2012 Andelmonde Shiraz (Barossa Valley)   \n",
       "40858  Jasper Hill 2013 Georgia's Paddock Shiraz (Hea...   \n",
       "43682      Penfolds 2004 Grange Shiraz (South Australia)   \n",
       "46466      Kaesler 2006 Old Vine Shiraz (Barossa Valley)   \n",
       "54513  Lambert 2013 The Family Tree Shiraz (Barossa V...   \n",
       "56040  Penfolds 2009 Bin 707 Cabernet Sauvignon (Sout...   \n",
       "56383  Chambers Rosewood Vineyards NV Rare Muscat (Ru...   \n",
       "58362  D'Arenberg 2010 Little Venice Single Vineyard ...   \n",
       "\n",
       "                        variety                       winery  \n",
       "576                      Shiraz                     Standish  \n",
       "1959         Cabernet Sauvignon                     Penfolds  \n",
       "10872                    Shiraz                     Torbreck  \n",
       "11474  Bordeaux-style Red Blend             Squawking Magpie  \n",
       "11762                    Shiraz                     Torbreck  \n",
       "14670                    Shiraz                     Penfolds  \n",
       "20753                    Shiraz                   Kilikanoon  \n",
       "22515                    Shiraz                    Wakefield  \n",
       "25802                    Shiraz                     Penfolds  \n",
       "27293           Shiraz-Viognier                     Torbreck  \n",
       "38114                    Shiraz                    Wakefield  \n",
       "40662                    Shiraz                     Standish  \n",
       "40858                    Shiraz                  Jasper Hill  \n",
       "43682                    Shiraz                     Penfolds  \n",
       "46466                    Shiraz                      Kaesler  \n",
       "54513                    Shiraz                      Lambert  \n",
       "56040        Cabernet Sauvignon                     Penfolds  \n",
       "56383                    Muscat  Chambers Rosewood Vineyards  \n",
       "58362                    Shiraz                   D'Arenberg  "
      ]
     },
     "execution_count": 26,
     "metadata": {},
     "output_type": "execute_result"
    }
   ],
   "source": [
    "oceanic_wine = reviews.loc[(reviews['points'] >= 95) & (reviews.country.isin([\"Australia\", \"New Zealand\"]))]\n",
    "oceanic_wine"
   ]
  },
  {
   "cell_type": "markdown",
   "id": "1475dd64",
   "metadata": {},
   "source": [
    "### Summary Functions\n",
    "\n",
    "Summary functions allow us to quickly describe and understand a dataset by computing key statistics. Common examples include `.mean()`, `.median()`, `.min()`, `.max()`, and `.sum()` for numerical data, as well as `.value_counts()` for categorical data. These functions can be applied to entire DataFrames or specific columns, giving us insights such as average values, distributions, and totals. Using `.describe()` provides a convenient overview of multiple summary statistics at once.\n"
   ]
  },
  {
   "cell_type": "code",
   "execution_count": 27,
   "id": "5b5b45cd",
   "metadata": {},
   "outputs": [
    {
     "data": {
      "application/vnd.microsoft.datawrangler.viewer.v0+json": {
       "columns": [
        {
         "name": "index",
         "rawType": "object",
         "type": "string"
        },
        {
         "name": "points",
         "rawType": "float64",
         "type": "float"
        },
        {
         "name": "price",
         "rawType": "float64",
         "type": "float"
        }
       ],
       "ref": "9f0641a2-d239-4ea7-b5e1-53a74dcaf59e",
       "rows": [
        [
         "count",
         "58487.0",
         "54404.0"
        ],
        [
         "mean",
         "88.44244020038641",
         "35.537221527828834"
        ],
        [
         "std",
         "3.0520341646276705",
         "42.72714103347601"
        ],
        [
         "min",
         "80.0",
         "4.0"
        ],
        [
         "25%",
         "86.0",
         "17.0"
        ],
        [
         "50%",
         "88.0",
         "25.0"
        ],
        [
         "75%",
         "91.0",
         "42.0"
        ],
        [
         "max",
         "100.0",
         "2500.0"
        ]
       ],
       "shape": {
        "columns": 2,
        "rows": 8
       }
      },
      "text/html": [
       "<div>\n",
       "<style scoped>\n",
       "    .dataframe tbody tr th:only-of-type {\n",
       "        vertical-align: middle;\n",
       "    }\n",
       "\n",
       "    .dataframe tbody tr th {\n",
       "        vertical-align: top;\n",
       "    }\n",
       "\n",
       "    .dataframe thead th {\n",
       "        text-align: right;\n",
       "    }\n",
       "</style>\n",
       "<table border=\"1\" class=\"dataframe\">\n",
       "  <thead>\n",
       "    <tr style=\"text-align: right;\">\n",
       "      <th></th>\n",
       "      <th>points</th>\n",
       "      <th>price</th>\n",
       "    </tr>\n",
       "  </thead>\n",
       "  <tbody>\n",
       "    <tr>\n",
       "      <th>count</th>\n",
       "      <td>58487.000000</td>\n",
       "      <td>54404.000000</td>\n",
       "    </tr>\n",
       "    <tr>\n",
       "      <th>mean</th>\n",
       "      <td>88.442440</td>\n",
       "      <td>35.537222</td>\n",
       "    </tr>\n",
       "    <tr>\n",
       "      <th>std</th>\n",
       "      <td>3.052034</td>\n",
       "      <td>42.727141</td>\n",
       "    </tr>\n",
       "    <tr>\n",
       "      <th>min</th>\n",
       "      <td>80.000000</td>\n",
       "      <td>4.000000</td>\n",
       "    </tr>\n",
       "    <tr>\n",
       "      <th>25%</th>\n",
       "      <td>86.000000</td>\n",
       "      <td>17.000000</td>\n",
       "    </tr>\n",
       "    <tr>\n",
       "      <th>50%</th>\n",
       "      <td>88.000000</td>\n",
       "      <td>25.000000</td>\n",
       "    </tr>\n",
       "    <tr>\n",
       "      <th>75%</th>\n",
       "      <td>91.000000</td>\n",
       "      <td>42.000000</td>\n",
       "    </tr>\n",
       "    <tr>\n",
       "      <th>max</th>\n",
       "      <td>100.000000</td>\n",
       "      <td>2500.000000</td>\n",
       "    </tr>\n",
       "  </tbody>\n",
       "</table>\n",
       "</div>"
      ],
      "text/plain": [
       "             points         price\n",
       "count  58487.000000  54404.000000\n",
       "mean      88.442440     35.537222\n",
       "std        3.052034     42.727141\n",
       "min       80.000000      4.000000\n",
       "25%       86.000000     17.000000\n",
       "50%       88.000000     25.000000\n",
       "75%       91.000000     42.000000\n",
       "max      100.000000   2500.000000"
      ]
     },
     "execution_count": 27,
     "metadata": {},
     "output_type": "execute_result"
    }
   ],
   "source": [
    "reviews.describe()"
   ]
  },
  {
   "cell_type": "code",
   "execution_count": 28,
   "id": "a2fe9da6",
   "metadata": {},
   "outputs": [
    {
     "data": {
      "text/plain": [
       "array(['Australia', 'France', 'Spain', 'US', 'Italy', 'Portugal',\n",
       "       'Germany', 'Chile', 'Argentina', 'South Africa', 'Georgia',\n",
       "       'Austria', 'New Zealand', 'Uruguay', 'Turkey', 'Canada',\n",
       "       'Bulgaria', 'Israel', 'Greece', 'Hungary', 'Ukraine', 'England',\n",
       "       'Moldova', 'Croatia', nan, 'Mexico', 'Romania', 'Macedonia',\n",
       "       'Morocco', 'Slovenia', 'Brazil', 'Lebanon', 'Luxembourg', 'Cyprus',\n",
       "       'Peru', 'Czech Republic', 'Serbia', 'India', 'Armenia', 'Egypt',\n",
       "       'Bosnia and Herzegovina', 'Switzerland'], dtype=object)"
      ]
     },
     "execution_count": 28,
     "metadata": {},
     "output_type": "execute_result"
    }
   ],
   "source": [
    "reviews.country.unique()"
   ]
  },
  {
   "cell_type": "code",
   "execution_count": 29,
   "id": "3ba45176",
   "metadata": {},
   "outputs": [
    {
     "data": {
      "application/vnd.microsoft.datawrangler.viewer.v0+json": {
       "columns": [
        {
         "name": "country",
         "rawType": "object",
         "type": "string"
        },
        {
         "name": "count",
         "rawType": "int64",
         "type": "integer"
        }
       ],
       "ref": "46a96d84-822f-411b-b988-edd2d27bab45",
       "rows": [
        [
         "US",
         "24452"
        ],
        [
         "France",
         "9998"
        ],
        [
         "Italy",
         "8857"
        ],
        [
         "Spain",
         "2991"
        ],
        [
         "Portugal",
         "2620"
        ],
        [
         "Chile",
         "1981"
        ],
        [
         "Argentina",
         "1685"
        ],
        [
         "Austria",
         "1475"
        ],
        [
         "Australia",
         "1040"
        ],
        [
         "Germany",
         "980"
        ],
        [
         "New Zealand",
         "640"
        ],
        [
         "South Africa",
         "616"
        ],
        [
         "Israel",
         "218"
        ],
        [
         "Greece",
         "213"
        ],
        [
         "Canada",
         "124"
        ],
        [
         "Hungary",
         "71"
        ],
        [
         "Bulgaria",
         "60"
        ],
        [
         "Romania",
         "52"
        ],
        [
         "Turkey",
         "49"
        ],
        [
         "Uruguay",
         "46"
        ],
        [
         "Georgia",
         "39"
        ],
        [
         "Croatia",
         "38"
        ],
        [
         "England",
         "33"
        ],
        [
         "Slovenia",
         "30"
        ],
        [
         "Mexico",
         "27"
        ],
        [
         "Moldova",
         "24"
        ],
        [
         "Brazil",
         "23"
        ],
        [
         "Lebanon",
         "21"
        ],
        [
         "Morocco",
         "14"
        ],
        [
         "Peru",
         "9"
        ],
        [
         "Cyprus",
         "5"
        ],
        [
         "Macedonia",
         "5"
        ],
        [
         "Ukraine",
         "4"
        ],
        [
         "India",
         "4"
        ],
        [
         "Luxembourg",
         "3"
        ],
        [
         "Czech Republic",
         "3"
        ],
        [
         "Serbia",
         "3"
        ],
        [
         "Armenia",
         "2"
        ],
        [
         "Switzerland",
         "2"
        ],
        [
         "Egypt",
         "1"
        ],
        [
         "Bosnia and Herzegovina",
         "1"
        ]
       ],
       "shape": {
        "columns": 1,
        "rows": 41
       }
      },
      "text/plain": [
       "country\n",
       "US                        24452\n",
       "France                     9998\n",
       "Italy                      8857\n",
       "Spain                      2991\n",
       "Portugal                   2620\n",
       "Chile                      1981\n",
       "Argentina                  1685\n",
       "Austria                    1475\n",
       "Australia                  1040\n",
       "Germany                     980\n",
       "New Zealand                 640\n",
       "South Africa                616\n",
       "Israel                      218\n",
       "Greece                      213\n",
       "Canada                      124\n",
       "Hungary                      71\n",
       "Bulgaria                     60\n",
       "Romania                      52\n",
       "Turkey                       49\n",
       "Uruguay                      46\n",
       "Georgia                      39\n",
       "Croatia                      38\n",
       "England                      33\n",
       "Slovenia                     30\n",
       "Mexico                       27\n",
       "Moldova                      24\n",
       "Brazil                       23\n",
       "Lebanon                      21\n",
       "Morocco                      14\n",
       "Peru                          9\n",
       "Cyprus                        5\n",
       "Macedonia                     5\n",
       "Ukraine                       4\n",
       "India                         4\n",
       "Luxembourg                    3\n",
       "Czech Republic                3\n",
       "Serbia                        3\n",
       "Armenia                       2\n",
       "Switzerland                   2\n",
       "Egypt                         1\n",
       "Bosnia and Herzegovina        1\n",
       "Name: count, dtype: int64"
      ]
     },
     "execution_count": 29,
     "metadata": {},
     "output_type": "execute_result"
    }
   ],
   "source": [
    "reviews.country.value_counts()"
   ]
  },
  {
   "cell_type": "code",
   "execution_count": null,
   "id": "21b1bc52",
   "metadata": {},
   "outputs": [],
   "source": []
  },
  {
   "cell_type": "markdown",
   "id": "cceb7757",
   "metadata": {},
   "source": [
    "For numerical columns, we can obtain the mean, median, min, max and sum\n",
    "\n",
    "Useful for obtaining quick statistics"
   ]
  },
  {
   "cell_type": "code",
   "execution_count": null,
   "id": "2b293b1c",
   "metadata": {},
   "outputs": [
    {
     "name": "stdout",
     "output_type": "stream",
     "text": [
      "The mean is:  35.537221527828834\n"
     ]
    }
   ],
   "source": [
    "print(\"The mean is: \", reviews.price.mean())\n",
    "\n"
   ]
  },
  {
   "cell_type": "markdown",
   "id": "6cde0943",
   "metadata": {},
   "source": [
    "## All Done!"
   ]
  }
 ],
 "metadata": {
  "kernelspec": {
   "display_name": "Python 3",
   "language": "python",
   "name": "python3"
  },
  "language_info": {
   "codemirror_mode": {
    "name": "ipython",
    "version": 3
   },
   "file_extension": ".py",
   "mimetype": "text/x-python",
   "name": "python",
   "nbconvert_exporter": "python",
   "pygments_lexer": "ipython3",
   "version": "3.12.1"
  }
 },
 "nbformat": 4,
 "nbformat_minor": 5
}
